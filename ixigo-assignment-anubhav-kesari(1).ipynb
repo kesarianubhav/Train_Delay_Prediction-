{
 "cells": [
  {
   "cell_type": "markdown",
   "metadata": {
    "papermill": {
     "duration": 0.062529,
     "end_time": "2021-01-10T18:17:26.621199",
     "exception": false,
     "start_time": "2021-01-10T18:17:26.558670",
     "status": "completed"
    },
    "tags": []
   },
   "source": [
    "## Spatio_Temporal Train Delay Predictive Model - By Anubhav Kesari"
   ]
  },
  {
   "cell_type": "code",
   "execution_count": 1,
   "metadata": {
    "_cell_guid": "b1076dfc-b9ad-4769-8c92-a6c4dae69d19",
    "_uuid": "8f2839f25d086af736a60e9eeb907d3b93b6e0e5",
    "execution": {
     "iopub.execute_input": "2021-01-10T18:17:26.752423Z",
     "iopub.status.busy": "2021-01-10T18:17:26.751715Z",
     "iopub.status.idle": "2021-01-10T18:17:26.766768Z",
     "shell.execute_reply": "2021-01-10T18:17:26.766066Z"
    },
    "papermill": {
     "duration": 0.084031,
     "end_time": "2021-01-10T18:17:26.766880",
     "exception": false,
     "start_time": "2021-01-10T18:17:26.682849",
     "status": "completed"
    },
    "tags": []
   },
   "outputs": [
    {
     "name": "stdout",
     "output_type": "stream",
     "text": [
      "/kaggle/input/train-dataset/train.csv\n",
      "/kaggle/input/train-dataset/test.csv\n"
     ]
    }
   ],
   "source": [
    "# This Python 3 environment comes with many helpful analytics libraries installed\n",
    "# It is defined by the kaggle/python Docker image: https://github.com/kaggle/docker-python\n",
    "# For example, here's several helpful packages to load\n",
    "\n",
    "import numpy as np # linear algebra\n",
    "import pandas as pd # data processing, CSV file I/O (e.g. pd.read_csv)\n",
    "\n",
    "# Input data files are available in the read-only \"../input/\" directory\n",
    "# For example, running this (by clicking run or pressing Shift+Enter) will list all files under the input directory\n",
    "\n",
    "import os\n",
    "for dirname, _, filenames in os.walk('/kaggle/input'):\n",
    "    for filename in filenames:\n",
    "        print(os.path.join(dirname, filename))\n",
    "\n",
    "# You can write up to 20GB to the current directory (/kaggle/working/) that gets preserved as output when you create a version using \"Save & Run All\" \n",
    "# You can also write temporary files to /kaggle/temp/, but they won't be saved outside of the current session"
   ]
  },
  {
   "cell_type": "code",
   "execution_count": 2,
   "metadata": {
    "_cell_guid": "79c7e3d0-c299-4dcb-8224-4455121ee9b0",
    "_uuid": "d629ff2d2480ee46fbb7e2d37f6b5fab8052498a",
    "execution": {
     "iopub.execute_input": "2021-01-10T18:17:26.896295Z",
     "iopub.status.busy": "2021-01-10T18:17:26.895614Z",
     "iopub.status.idle": "2021-01-10T18:17:26.909098Z",
     "shell.execute_reply": "2021-01-10T18:17:26.908493Z"
    },
    "papermill": {
     "duration": 0.077721,
     "end_time": "2021-01-10T18:17:26.909215",
     "exception": false,
     "start_time": "2021-01-10T18:17:26.831494",
     "status": "completed"
    },
    "tags": []
   },
   "outputs": [],
   "source": [
    "import time \n",
    "import re\n",
    "import datetime\n",
    "import math\n",
    "import plotly\n",
    "import matplotlib.pyplot as plt\n",
    "import warnings"
   ]
  },
  {
   "cell_type": "code",
   "execution_count": 3,
   "metadata": {
    "_cell_guid": "79c7e3d0-c299-4dcb-8224-4455121ee9b0",
    "_uuid": "d629ff2d2480ee46fbb7e2d37f6b5fab8052498a",
    "execution": {
     "iopub.execute_input": "2021-01-10T18:17:27.040108Z",
     "iopub.status.busy": "2021-01-10T18:17:27.039414Z",
     "iopub.status.idle": "2021-01-10T18:17:27.042874Z",
     "shell.execute_reply": "2021-01-10T18:17:27.042257Z"
    },
    "papermill": {
     "duration": 0.071653,
     "end_time": "2021-01-10T18:17:27.043009",
     "exception": false,
     "start_time": "2021-01-10T18:17:26.971356",
     "status": "completed"
    },
    "tags": []
   },
   "outputs": [],
   "source": [
    "%matplotlib inline\n",
    "warnings.filterwarnings(\"ignore\")"
   ]
  },
  {
   "cell_type": "code",
   "execution_count": 4,
   "metadata": {
    "_cell_guid": "79c7e3d0-c299-4dcb-8224-4455121ee9b0",
    "_uuid": "d629ff2d2480ee46fbb7e2d37f6b5fab8052498a",
    "execution": {
     "iopub.execute_input": "2021-01-10T18:17:27.170002Z",
     "iopub.status.busy": "2021-01-10T18:17:27.169035Z",
     "iopub.status.idle": "2021-01-10T18:17:27.172261Z",
     "shell.execute_reply": "2021-01-10T18:17:27.171675Z"
    },
    "papermill": {
     "duration": 0.068981,
     "end_time": "2021-01-10T18:17:27.172388",
     "exception": false,
     "start_time": "2021-01-10T18:17:27.103407",
     "status": "completed"
    },
    "tags": []
   },
   "outputs": [],
   "source": [
    "base_dir = \"/kaggle/input/train-dataset/\"\n",
    "train_file = base_dir+\"train.csv\"\n",
    "test_file = base_dir+\"test.csv\""
   ]
  },
  {
   "cell_type": "code",
   "execution_count": 5,
   "metadata": {
    "_cell_guid": "79c7e3d0-c299-4dcb-8224-4455121ee9b0",
    "_uuid": "d629ff2d2480ee46fbb7e2d37f6b5fab8052498a",
    "execution": {
     "iopub.execute_input": "2021-01-10T18:17:27.302707Z",
     "iopub.status.busy": "2021-01-10T18:17:27.301914Z",
     "iopub.status.idle": "2021-01-10T18:17:27.507660Z",
     "shell.execute_reply": "2021-01-10T18:17:27.508188Z"
    },
    "papermill": {
     "duration": 0.274916,
     "end_time": "2021-01-10T18:17:27.508356",
     "exception": false,
     "start_time": "2021-01-10T18:17:27.233440",
     "status": "completed"
    },
    "tags": []
   },
   "outputs": [],
   "source": [
    "#Basic Dataframe read\n",
    "df = pd.read_csv(train_file)\n",
    "df2 =pd.read_csv(test_file)"
   ]
  },
  {
   "cell_type": "code",
   "execution_count": null,
   "metadata": {
    "papermill": {
     "duration": 0.062069,
     "end_time": "2021-01-10T18:17:27.635041",
     "exception": false,
     "start_time": "2021-01-10T18:17:27.572972",
     "status": "completed"
    },
    "tags": []
   },
   "outputs": [],
   "source": []
  },
  {
   "cell_type": "code",
   "execution_count": 6,
   "metadata": {
    "execution": {
     "iopub.execute_input": "2021-01-10T18:17:27.765803Z",
     "iopub.status.busy": "2021-01-10T18:17:27.765172Z",
     "iopub.status.idle": "2021-01-10T18:17:27.771730Z",
     "shell.execute_reply": "2021-01-10T18:17:27.772766Z"
    },
    "papermill": {
     "duration": 0.072738,
     "end_time": "2021-01-10T18:17:27.772991",
     "exception": false,
     "start_time": "2021-01-10T18:17:27.700253",
     "status": "completed"
    },
    "tags": []
   },
   "outputs": [
    {
     "name": "stdout",
     "output_type": "stream",
     "text": [
      "Index(['runDate', 'stations', 'trainId', 'trainCode', 'index',\n",
      "       'trainStationId', 'scheduledArrival', 'scheduledDeparture', 'distance',\n",
      "       'dayCount', 'day'],\n",
      "      dtype='object')\n",
      "Index(['runDate', 'stations', 'trainCode', 'trainStationId',\n",
      "       'scheduledArrival', 'scheduledDeparture', 'actualArrival',\n",
      "       'actualDeparture', 'distance', 'dayCount', 'ArrivalDelay',\n",
      "       'DepartureDelay'],\n",
      "      dtype='object')\n"
     ]
    }
   ],
   "source": [
    "print(df2.columns)\n",
    "print(df.columns)"
   ]
  },
  {
   "cell_type": "code",
   "execution_count": 7,
   "metadata": {
    "execution": {
     "iopub.execute_input": "2021-01-10T18:17:27.902279Z",
     "iopub.status.busy": "2021-01-10T18:17:27.901484Z",
     "iopub.status.idle": "2021-01-10T18:17:27.917979Z",
     "shell.execute_reply": "2021-01-10T18:17:27.917315Z"
    },
    "papermill": {
     "duration": 0.082175,
     "end_time": "2021-01-10T18:17:27.918089",
     "exception": false,
     "start_time": "2021-01-10T18:17:27.835914",
     "status": "completed"
    },
    "tags": []
   },
   "outputs": [
    {
     "data": {
      "text/plain": [
       "runDate               object\n",
       "stations              object\n",
       "trainCode              int64\n",
       "trainStationId         int64\n",
       "scheduledArrival      object\n",
       "scheduledDeparture    object\n",
       "actualArrival         object\n",
       "actualDeparture       object\n",
       "distance               int64\n",
       "dayCount               int64\n",
       "ArrivalDelay           int64\n",
       "DepartureDelay         int64\n",
       "dtype: object"
      ]
     },
     "execution_count": 7,
     "metadata": {},
     "output_type": "execute_result"
    }
   ],
   "source": [
    "df.dtypes"
   ]
  },
  {
   "cell_type": "code",
   "execution_count": 8,
   "metadata": {
    "execution": {
     "iopub.execute_input": "2021-01-10T18:17:28.045523Z",
     "iopub.status.busy": "2021-01-10T18:17:28.044825Z",
     "iopub.status.idle": "2021-01-10T18:17:28.051621Z",
     "shell.execute_reply": "2021-01-10T18:17:28.052301Z"
    },
    "papermill": {
     "duration": 0.072264,
     "end_time": "2021-01-10T18:17:28.052481",
     "exception": false,
     "start_time": "2021-01-10T18:17:27.980217",
     "status": "completed"
    },
    "tags": []
   },
   "outputs": [
    {
     "data": {
      "text/plain": [
       "{'2020-01-01',\n",
       " '2020-01-02',\n",
       " '2020-01-03',\n",
       " '2020-01-04',\n",
       " '2020-01-05',\n",
       " '2020-01-06',\n",
       " '2020-01-07',\n",
       " '2020-01-08',\n",
       " '2020-01-09',\n",
       " '2020-01-10',\n",
       " '2020-01-11',\n",
       " '2020-01-12',\n",
       " '2020-01-13',\n",
       " '2020-01-14',\n",
       " '2020-01-15',\n",
       " '2020-01-16',\n",
       " '2020-01-17',\n",
       " '2020-01-18',\n",
       " '2020-01-19',\n",
       " '2020-01-20',\n",
       " '2020-01-21',\n",
       " '2020-01-22',\n",
       " '2020-01-23',\n",
       " '2020-01-24',\n",
       " '2020-01-25',\n",
       " '2020-01-26',\n",
       " '2020-01-27',\n",
       " '2020-01-28',\n",
       " '2020-01-29',\n",
       " '2020-01-30',\n",
       " '2020-01-31',\n",
       " '2020-02-01',\n",
       " '2020-02-02',\n",
       " '2020-02-03',\n",
       " '2020-02-04',\n",
       " '2020-02-05',\n",
       " '2020-02-06',\n",
       " '2020-02-07',\n",
       " '2020-02-08',\n",
       " '2020-02-09',\n",
       " '2020-02-10',\n",
       " '2020-02-11',\n",
       " '2020-02-12',\n",
       " '2020-02-13',\n",
       " '2020-02-14',\n",
       " '2020-02-15',\n",
       " '2020-02-16',\n",
       " '2020-02-17',\n",
       " '2020-02-18',\n",
       " '2020-02-19'}"
      ]
     },
     "execution_count": 8,
     "metadata": {},
     "output_type": "execute_result"
    }
   ],
   "source": [
    "set(df.runDate.tolist())"
   ]
  },
  {
   "cell_type": "code",
   "execution_count": 9,
   "metadata": {
    "execution": {
     "iopub.execute_input": "2021-01-10T18:17:28.180857Z",
     "iopub.status.busy": "2021-01-10T18:17:28.180191Z",
     "iopub.status.idle": "2021-01-10T18:17:28.185743Z",
     "shell.execute_reply": "2021-01-10T18:17:28.186237Z"
    },
    "papermill": {
     "duration": 0.071717,
     "end_time": "2021-01-10T18:17:28.186379",
     "exception": false,
     "start_time": "2021-01-10T18:17:28.114662",
     "status": "completed"
    },
    "tags": []
   },
   "outputs": [
    {
     "data": {
      "text/plain": [
       "{'2020-02-19', '2020-02-20'}"
      ]
     },
     "execution_count": 9,
     "metadata": {},
     "output_type": "execute_result"
    }
   ],
   "source": [
    "set(df2.runDate.tolist())"
   ]
  },
  {
   "cell_type": "code",
   "execution_count": 10,
   "metadata": {
    "execution": {
     "iopub.execute_input": "2021-01-10T18:17:28.326842Z",
     "iopub.status.busy": "2021-01-10T18:17:28.326160Z",
     "iopub.status.idle": "2021-01-10T18:17:28.334689Z",
     "shell.execute_reply": "2021-01-10T18:17:28.334105Z"
    },
    "papermill": {
     "duration": 0.084932,
     "end_time": "2021-01-10T18:17:28.334832",
     "exception": false,
     "start_time": "2021-01-10T18:17:28.249900",
     "status": "completed"
    },
    "tags": []
   },
   "outputs": [],
   "source": [
    "#stationId vs station code\n",
    "train_station_map=df[['stations','trainStationId']]\n",
    "train_station = train_station_map.drop_duplicates()"
   ]
  },
  {
   "cell_type": "code",
   "execution_count": 11,
   "metadata": {
    "execution": {
     "iopub.execute_input": "2021-01-10T18:17:28.469719Z",
     "iopub.status.busy": "2021-01-10T18:17:28.469064Z",
     "iopub.status.idle": "2021-01-10T18:17:28.472890Z",
     "shell.execute_reply": "2021-01-10T18:17:28.472280Z"
    },
    "papermill": {
     "duration": 0.073957,
     "end_time": "2021-01-10T18:17:28.473031",
     "exception": false,
     "start_time": "2021-01-10T18:17:28.399074",
     "status": "completed"
    },
    "tags": []
   },
   "outputs": [],
   "source": [
    "#trainStation Name vs Code\n",
    "train_station=dict(zip(train_station.stations.tolist() , train_station.trainStationId.tolist()))\n",
    "# train_station"
   ]
  },
  {
   "cell_type": "code",
   "execution_count": 12,
   "metadata": {
    "execution": {
     "iopub.execute_input": "2021-01-10T18:17:28.605350Z",
     "iopub.status.busy": "2021-01-10T18:17:28.604278Z",
     "iopub.status.idle": "2021-01-10T18:17:28.607575Z",
     "shell.execute_reply": "2021-01-10T18:17:28.606855Z"
    },
    "papermill": {
     "duration": 0.0715,
     "end_time": "2021-01-10T18:17:28.607688",
     "exception": false,
     "start_time": "2021-01-10T18:17:28.536188",
     "status": "completed"
    },
    "tags": []
   },
   "outputs": [],
   "source": [
    "from collections import Counter\n",
    "#rush at each station\n",
    "#station vs trains through it\n",
    "\n",
    "def station_traffic(df):\n",
    "    stations = Counter(df.stations.tolist())\n",
    "#     print(stations)\n",
    "    return stations"
   ]
  },
  {
   "cell_type": "code",
   "execution_count": 13,
   "metadata": {
    "execution": {
     "iopub.execute_input": "2021-01-10T18:17:28.745749Z",
     "iopub.status.busy": "2021-01-10T18:17:28.745003Z",
     "iopub.status.idle": "2021-01-10T18:17:28.748051Z",
     "shell.execute_reply": "2021-01-10T18:17:28.747508Z"
    },
    "papermill": {
     "duration": 0.076428,
     "end_time": "2021-01-10T18:17:28.748160",
     "exception": false,
     "start_time": "2021-01-10T18:17:28.671732",
     "status": "completed"
    },
    "tags": []
   },
   "outputs": [],
   "source": [
    "stn_traffic = station_traffic(df)"
   ]
  },
  {
   "cell_type": "code",
   "execution_count": 14,
   "metadata": {
    "execution": {
     "iopub.execute_input": "2021-01-10T18:17:28.882371Z",
     "iopub.status.busy": "2021-01-10T18:17:28.881663Z",
     "iopub.status.idle": "2021-01-10T18:17:28.883824Z",
     "shell.execute_reply": "2021-01-10T18:17:28.884315Z"
    },
    "papermill": {
     "duration": 0.070975,
     "end_time": "2021-01-10T18:17:28.884467",
     "exception": false,
     "start_time": "2021-01-10T18:17:28.813492",
     "status": "completed"
    },
    "tags": []
   },
   "outputs": [],
   "source": [
    "#I thought of defining a characterstics to take into account the category of train - Superfast ,Express,loca\n",
    "def train_characterstics(df):\n",
    "    return 1\n",
    "\n",
    "# train_characterstics(df)"
   ]
  },
  {
   "cell_type": "code",
   "execution_count": 15,
   "metadata": {
    "execution": {
     "iopub.execute_input": "2021-01-10T18:17:29.015510Z",
     "iopub.status.busy": "2021-01-10T18:17:29.014795Z",
     "iopub.status.idle": "2021-01-10T18:17:29.021022Z",
     "shell.execute_reply": "2021-01-10T18:17:29.020379Z"
    },
    "papermill": {
     "duration": 0.073298,
     "end_time": "2021-01-10T18:17:29.021140",
     "exception": false,
     "start_time": "2021-01-10T18:17:28.947842",
     "status": "completed"
    },
    "tags": []
   },
   "outputs": [],
   "source": [
    "\n",
    "def process_datetime(x):\n",
    "    \"\"\"return utc timestamp corresponding to datetime\"\"\"\n",
    "#     print(x)\n",
    "    if not isinstance(x,int) :\n",
    "#         print(x)\n",
    "        x=datetime.datetime.strptime(x,\"%Y-%m-%d %H:%M:%S\")\n",
    "        return int(x.timestamp())\n",
    "    else:\n",
    "        return x"
   ]
  },
  {
   "cell_type": "code",
   "execution_count": 16,
   "metadata": {
    "execution": {
     "iopub.execute_input": "2021-01-10T18:17:29.154718Z",
     "iopub.status.busy": "2021-01-10T18:17:29.153956Z",
     "iopub.status.idle": "2021-01-10T18:17:29.158071Z",
     "shell.execute_reply": "2021-01-10T18:17:29.157164Z"
    },
    "papermill": {
     "duration": 0.073914,
     "end_time": "2021-01-10T18:17:29.158221",
     "exception": false,
     "start_time": "2021-01-10T18:17:29.084307",
     "status": "completed"
    },
    "tags": []
   },
   "outputs": [
    {
     "name": "stdout",
     "output_type": "stream",
     "text": [
      "1577919360.0\n"
     ]
    }
   ],
   "source": [
    "print(datetime.datetime.strptime(\"2020-01-01 22:56:00\",\"%Y-%m-%d %H:%M:%S\").timestamp())\n"
   ]
  },
  {
   "cell_type": "code",
   "execution_count": null,
   "metadata": {
    "papermill": {
     "duration": 0.06339,
     "end_time": "2021-01-10T18:17:29.287380",
     "exception": false,
     "start_time": "2021-01-10T18:17:29.223990",
     "status": "completed"
    },
    "tags": []
   },
   "outputs": [],
   "source": []
  },
  {
   "cell_type": "markdown",
   "metadata": {
    "papermill": {
     "duration": 0.069828,
     "end_time": "2021-01-10T18:17:29.422370",
     "exception": false,
     "start_time": "2021-01-10T18:17:29.352542",
     "status": "completed"
    },
    "tags": []
   },
   "source": [
    "## Missing Data treatment "
   ]
  },
  {
   "cell_type": "markdown",
   "metadata": {
    "papermill": {
     "duration": 0.063603,
     "end_time": "2021-01-10T18:17:29.549720",
     "exception": false,
     "start_time": "2021-01-10T18:17:29.486117",
     "status": "completed"
    },
    "tags": []
   },
   "source": [
    "### Does the missing scheduledArrival because of the fact that it starts at that place?"
   ]
  },
  {
   "cell_type": "code",
   "execution_count": 17,
   "metadata": {
    "execution": {
     "iopub.execute_input": "2021-01-10T18:17:29.690703Z",
     "iopub.status.busy": "2021-01-10T18:17:29.690048Z",
     "iopub.status.idle": "2021-01-10T18:17:29.852056Z",
     "shell.execute_reply": "2021-01-10T18:17:29.851250Z"
    },
    "papermill": {
     "duration": 0.237598,
     "end_time": "2021-01-10T18:17:29.852234",
     "exception": false,
     "start_time": "2021-01-10T18:17:29.614636",
     "status": "completed"
    },
    "tags": []
   },
   "outputs": [
    {
     "name": "stdout",
     "output_type": "stream",
     "text": [
      "True\n",
      "True\n",
      "True\n",
      "True\n",
      "True\n",
      "True\n",
      "True\n",
      "True\n",
      "True\n",
      "True\n",
      "True\n",
      "True\n",
      "True\n",
      "True\n",
      "True\n"
     ]
    }
   ],
   "source": [
    "for i in set(df.trainCode.tolist()):\n",
    "    a=df[(df['trainCode']==i) & (df['scheduledArrival'].isna())].shape\n",
    "    b=df[(df['trainCode']==i)].groupby('runDate').mean().shape\n",
    "    print(a[0]==b[0])"
   ]
  },
  {
   "cell_type": "markdown",
   "metadata": {
    "papermill": {
     "duration": 0.065787,
     "end_time": "2021-01-10T18:17:29.986999",
     "exception": false,
     "start_time": "2021-01-10T18:17:29.921212",
     "status": "completed"
    },
    "tags": []
   },
   "source": [
    "### Hence, we can impute scheduledDeparture to fill scheduledArrival"
   ]
  },
  {
   "cell_type": "code",
   "execution_count": 18,
   "metadata": {
    "execution": {
     "iopub.execute_input": "2021-01-10T18:17:30.135327Z",
     "iopub.status.busy": "2021-01-10T18:17:30.134119Z",
     "iopub.status.idle": "2021-01-10T18:17:30.140098Z",
     "shell.execute_reply": "2021-01-10T18:17:30.139412Z"
    },
    "papermill": {
     "duration": 0.081053,
     "end_time": "2021-01-10T18:17:30.140211",
     "exception": false,
     "start_time": "2021-01-10T18:17:30.059158",
     "status": "completed"
    },
    "tags": []
   },
   "outputs": [],
   "source": [
    "#No delay in departure at starting station\n",
    "df.loc[df['scheduledArrival'].isna(), 'scheduledArrival'] = df['actualArrival']"
   ]
  },
  {
   "cell_type": "code",
   "execution_count": 19,
   "metadata": {
    "execution": {
     "iopub.execute_input": "2021-01-10T18:17:30.274056Z",
     "iopub.status.busy": "2021-01-10T18:17:30.273388Z",
     "iopub.status.idle": "2021-01-10T18:17:30.276677Z",
     "shell.execute_reply": "2021-01-10T18:17:30.276150Z"
    },
    "papermill": {
     "duration": 0.071826,
     "end_time": "2021-01-10T18:17:30.276796",
     "exception": false,
     "start_time": "2021-01-10T18:17:30.204970",
     "status": "completed"
    },
    "tags": []
   },
   "outputs": [],
   "source": [
    "# df[(df['trainCode']==12925) & (df['scheduledDeparture'].isna())]"
   ]
  },
  {
   "cell_type": "code",
   "execution_count": 20,
   "metadata": {
    "execution": {
     "iopub.execute_input": "2021-01-10T18:17:30.417520Z",
     "iopub.status.busy": "2021-01-10T18:17:30.416481Z",
     "iopub.status.idle": "2021-01-10T18:17:30.436887Z",
     "shell.execute_reply": "2021-01-10T18:17:30.435841Z"
    },
    "papermill": {
     "duration": 0.095017,
     "end_time": "2021-01-10T18:17:30.437096",
     "exception": false,
     "start_time": "2021-01-10T18:17:30.342079",
     "status": "completed"
    },
    "tags": []
   },
   "outputs": [],
   "source": [
    "df = df[df['scheduledDeparture'].notna()]"
   ]
  },
  {
   "cell_type": "code",
   "execution_count": 21,
   "metadata": {
    "execution": {
     "iopub.execute_input": "2021-01-10T18:17:30.610262Z",
     "iopub.status.busy": "2021-01-10T18:17:30.605107Z",
     "iopub.status.idle": "2021-01-10T18:17:32.961524Z",
     "shell.execute_reply": "2021-01-10T18:17:32.960168Z"
    },
    "papermill": {
     "duration": 2.444073,
     "end_time": "2021-01-10T18:17:32.961658",
     "exception": false,
     "start_time": "2021-01-10T18:17:30.517585",
     "status": "completed"
    },
    "tags": []
   },
   "outputs": [],
   "source": [
    "#converting datetimes to utc integer\n",
    "df['actualArrival']= df['actualArrival'].apply(lambda x:process_datetime(x))\n",
    "df['actualDeparture']=df['actualDeparture'].apply(lambda x:process_datetime(x))\n",
    "df['scheduledArrival']=df['scheduledArrival'].apply(lambda x:process_datetime(x))\n",
    "df['scheduledDeparture']=df['scheduledDeparture'].apply(lambda x:process_datetime(x))"
   ]
  },
  {
   "cell_type": "code",
   "execution_count": 22,
   "metadata": {
    "execution": {
     "iopub.execute_input": "2021-01-10T18:17:33.095664Z",
     "iopub.status.busy": "2021-01-10T18:17:33.094989Z",
     "iopub.status.idle": "2021-01-10T18:17:33.098082Z",
     "shell.execute_reply": "2021-01-10T18:17:33.098686Z"
    },
    "papermill": {
     "duration": 0.071576,
     "end_time": "2021-01-10T18:17:33.098829",
     "exception": false,
     "start_time": "2021-01-10T18:17:33.027253",
     "status": "completed"
    },
    "tags": []
   },
   "outputs": [],
   "source": [
    "# df[(df['trainCode_n']==12138)]"
   ]
  },
  {
   "cell_type": "code",
   "execution_count": 23,
   "metadata": {
    "execution": {
     "iopub.execute_input": "2021-01-10T18:17:33.235120Z",
     "iopub.status.busy": "2021-01-10T18:17:33.234281Z",
     "iopub.status.idle": "2021-01-10T18:17:33.237626Z",
     "shell.execute_reply": "2021-01-10T18:17:33.238193Z"
    },
    "papermill": {
     "duration": 0.073237,
     "end_time": "2021-01-10T18:17:33.238339",
     "exception": false,
     "start_time": "2021-01-10T18:17:33.165102",
     "status": "completed"
    },
    "tags": []
   },
   "outputs": [],
   "source": [
    "# df2"
   ]
  },
  {
   "cell_type": "code",
   "execution_count": 24,
   "metadata": {
    "execution": {
     "iopub.execute_input": "2021-01-10T18:17:33.374489Z",
     "iopub.status.busy": "2021-01-10T18:17:33.373777Z",
     "iopub.status.idle": "2021-01-10T18:17:33.376977Z",
     "shell.execute_reply": "2021-01-10T18:17:33.377550Z"
    },
    "papermill": {
     "duration": 0.072389,
     "end_time": "2021-01-10T18:17:33.377690",
     "exception": false,
     "start_time": "2021-01-10T18:17:33.305301",
     "status": "completed"
    },
    "tags": []
   },
   "outputs": [],
   "source": [
    "# df2['scheduledArrival']=df2['scheduledArrival'].apply(lambda x:process_datetime(x))\n",
    "# df2['scheduledDeparture']=df2['scheduledDeparture'].apply(lambda x:process_datetime(x))"
   ]
  },
  {
   "cell_type": "code",
   "execution_count": 25,
   "metadata": {
    "execution": {
     "iopub.execute_input": "2021-01-10T18:17:33.520456Z",
     "iopub.status.busy": "2021-01-10T18:17:33.519784Z",
     "iopub.status.idle": "2021-01-10T18:17:33.525096Z",
     "shell.execute_reply": "2021-01-10T18:17:33.525694Z"
    },
    "papermill": {
     "duration": 0.076452,
     "end_time": "2021-01-10T18:17:33.525842",
     "exception": false,
     "start_time": "2021-01-10T18:17:33.449390",
     "status": "completed"
    },
    "tags": []
   },
   "outputs": [],
   "source": [
    "def utc2day(t):\n",
    "    day = time.strftime('%A', time.localtime(t))\n",
    "    return day\n",
    "\n",
    "def utc2hour(t):\n",
    "    hour = time.strftime('%H', time.localtime(t))\n",
    "    return hour"
   ]
  },
  {
   "cell_type": "code",
   "execution_count": 26,
   "metadata": {
    "execution": {
     "iopub.execute_input": "2021-01-10T18:17:33.663605Z",
     "iopub.status.busy": "2021-01-10T18:17:33.662643Z",
     "iopub.status.idle": "2021-01-10T18:17:33.666194Z",
     "shell.execute_reply": "2021-01-10T18:17:33.666753Z"
    },
    "papermill": {
     "duration": 0.075339,
     "end_time": "2021-01-10T18:17:33.666890",
     "exception": false,
     "start_time": "2021-01-10T18:17:33.591551",
     "status": "completed"
    },
    "tags": []
   },
   "outputs": [],
   "source": [
    "#creating a column for knowing the day of the week\n",
    "# df['day']=df['scheduledArrival'].apply(lambda x : utc2day(x))\n",
    "# df['hour']=df['scheduledArrival'].apply(lambda x: utc2hour(x))"
   ]
  },
  {
   "cell_type": "code",
   "execution_count": 27,
   "metadata": {
    "execution": {
     "iopub.execute_input": "2021-01-10T18:17:33.805051Z",
     "iopub.status.busy": "2021-01-10T18:17:33.804043Z",
     "iopub.status.idle": "2021-01-10T18:17:33.828259Z",
     "shell.execute_reply": "2021-01-10T18:17:33.828785Z"
    },
    "papermill": {
     "duration": 0.095252,
     "end_time": "2021-01-10T18:17:33.828922",
     "exception": false,
     "start_time": "2021-01-10T18:17:33.733670",
     "status": "completed"
    },
    "tags": []
   },
   "outputs": [
    {
     "data": {
      "text/html": [
       "<div>\n",
       "<style scoped>\n",
       "    .dataframe tbody tr th:only-of-type {\n",
       "        vertical-align: middle;\n",
       "    }\n",
       "\n",
       "    .dataframe tbody tr th {\n",
       "        vertical-align: top;\n",
       "    }\n",
       "\n",
       "    .dataframe thead th {\n",
       "        text-align: right;\n",
       "    }\n",
       "</style>\n",
       "<table border=\"1\" class=\"dataframe\">\n",
       "  <thead>\n",
       "    <tr style=\"text-align: right;\">\n",
       "      <th></th>\n",
       "      <th>runDate</th>\n",
       "      <th>stations</th>\n",
       "      <th>trainCode</th>\n",
       "      <th>trainStationId</th>\n",
       "      <th>scheduledArrival</th>\n",
       "      <th>scheduledDeparture</th>\n",
       "      <th>actualArrival</th>\n",
       "      <th>actualDeparture</th>\n",
       "      <th>distance</th>\n",
       "      <th>dayCount</th>\n",
       "      <th>ArrivalDelay</th>\n",
       "      <th>DepartureDelay</th>\n",
       "    </tr>\n",
       "  </thead>\n",
       "  <tbody>\n",
       "    <tr>\n",
       "      <th>0</th>\n",
       "      <td>2020-01-01</td>\n",
       "      <td>FZR</td>\n",
       "      <td>12138</td>\n",
       "      <td>2657812</td>\n",
       "      <td>1577836800</td>\n",
       "      <td>1577914800</td>\n",
       "      <td>1577836800</td>\n",
       "      <td>1577914800</td>\n",
       "      <td>0</td>\n",
       "      <td>0</td>\n",
       "      <td>0</td>\n",
       "      <td>0</td>\n",
       "    </tr>\n",
       "    <tr>\n",
       "      <th>1</th>\n",
       "      <td>2020-01-01</td>\n",
       "      <td>FDK</td>\n",
       "      <td>12138</td>\n",
       "      <td>2659393</td>\n",
       "      <td>1577916300</td>\n",
       "      <td>1577916420</td>\n",
       "      <td>1577916960</td>\n",
       "      <td>1577917080</td>\n",
       "      <td>32</td>\n",
       "      <td>0</td>\n",
       "      <td>11</td>\n",
       "      <td>11</td>\n",
       "    </tr>\n",
       "    <tr>\n",
       "      <th>2</th>\n",
       "      <td>2020-01-01</td>\n",
       "      <td>KKP</td>\n",
       "      <td>12138</td>\n",
       "      <td>2658108</td>\n",
       "      <td>1577917380</td>\n",
       "      <td>1577917500</td>\n",
       "      <td>1577918220</td>\n",
       "      <td>1577918280</td>\n",
       "      <td>45</td>\n",
       "      <td>0</td>\n",
       "      <td>14</td>\n",
       "      <td>13</td>\n",
       "    </tr>\n",
       "    <tr>\n",
       "      <th>3</th>\n",
       "      <td>2020-01-01</td>\n",
       "      <td>GJUT</td>\n",
       "      <td>12138</td>\n",
       "      <td>2734206</td>\n",
       "      <td>1577918280</td>\n",
       "      <td>1577918400</td>\n",
       "      <td>1577919360</td>\n",
       "      <td>1577919420</td>\n",
       "      <td>61</td>\n",
       "      <td>0</td>\n",
       "      <td>18</td>\n",
       "      <td>17</td>\n",
       "    </tr>\n",
       "    <tr>\n",
       "      <th>4</th>\n",
       "      <td>2020-01-01</td>\n",
       "      <td>GNA</td>\n",
       "      <td>12138</td>\n",
       "      <td>2742572</td>\n",
       "      <td>1577919240</td>\n",
       "      <td>1577919360</td>\n",
       "      <td>1577920440</td>\n",
       "      <td>1577920500</td>\n",
       "      <td>76</td>\n",
       "      <td>0</td>\n",
       "      <td>20</td>\n",
       "      <td>19</td>\n",
       "    </tr>\n",
       "    <tr>\n",
       "      <th>...</th>\n",
       "      <td>...</td>\n",
       "      <td>...</td>\n",
       "      <td>...</td>\n",
       "      <td>...</td>\n",
       "      <td>...</td>\n",
       "      <td>...</td>\n",
       "      <td>...</td>\n",
       "      <td>...</td>\n",
       "      <td>...</td>\n",
       "      <td>...</td>\n",
       "      <td>...</td>\n",
       "      <td>...</td>\n",
       "    </tr>\n",
       "    <tr>\n",
       "      <th>31869</th>\n",
       "      <td>2020-02-19</td>\n",
       "      <td>LDH</td>\n",
       "      <td>12925</td>\n",
       "      <td>2658435</td>\n",
       "      <td>1582217160</td>\n",
       "      <td>1582217460</td>\n",
       "      <td>1582221300</td>\n",
       "      <td>1582221840</td>\n",
       "      <td>1687</td>\n",
       "      <td>1</td>\n",
       "      <td>69</td>\n",
       "      <td>73</td>\n",
       "    </tr>\n",
       "    <tr>\n",
       "      <th>31870</th>\n",
       "      <td>2020-02-19</td>\n",
       "      <td>PGW</td>\n",
       "      <td>12925</td>\n",
       "      <td>2658284</td>\n",
       "      <td>1582219140</td>\n",
       "      <td>1582219260</td>\n",
       "      <td>1582223940</td>\n",
       "      <td>1582224060</td>\n",
       "      <td>1723</td>\n",
       "      <td>1</td>\n",
       "      <td>80</td>\n",
       "      <td>80</td>\n",
       "    </tr>\n",
       "    <tr>\n",
       "      <th>31871</th>\n",
       "      <td>2020-02-19</td>\n",
       "      <td>JRC</td>\n",
       "      <td>12925</td>\n",
       "      <td>2657701</td>\n",
       "      <td>1582220220</td>\n",
       "      <td>1582220340</td>\n",
       "      <td>1582225440</td>\n",
       "      <td>1582225560</td>\n",
       "      <td>1739</td>\n",
       "      <td>1</td>\n",
       "      <td>87</td>\n",
       "      <td>87</td>\n",
       "    </tr>\n",
       "    <tr>\n",
       "      <th>31872</th>\n",
       "      <td>2020-02-19</td>\n",
       "      <td>JUC</td>\n",
       "      <td>12925</td>\n",
       "      <td>2657676</td>\n",
       "      <td>1582221180</td>\n",
       "      <td>1582221480</td>\n",
       "      <td>1582226100</td>\n",
       "      <td>1582227000</td>\n",
       "      <td>1744</td>\n",
       "      <td>1</td>\n",
       "      <td>82</td>\n",
       "      <td>92</td>\n",
       "    </tr>\n",
       "    <tr>\n",
       "      <th>31873</th>\n",
       "      <td>2020-02-19</td>\n",
       "      <td>BEAS</td>\n",
       "      <td>12925</td>\n",
       "      <td>2658299</td>\n",
       "      <td>1582223400</td>\n",
       "      <td>1582223520</td>\n",
       "      <td>1582228680</td>\n",
       "      <td>1582228800</td>\n",
       "      <td>1780</td>\n",
       "      <td>1</td>\n",
       "      <td>88</td>\n",
       "      <td>88</td>\n",
       "    </tr>\n",
       "  </tbody>\n",
       "</table>\n",
       "<p>31097 rows × 12 columns</p>\n",
       "</div>"
      ],
      "text/plain": [
       "          runDate stations  trainCode  trainStationId  scheduledArrival  \\\n",
       "0      2020-01-01      FZR      12138         2657812        1577836800   \n",
       "1      2020-01-01      FDK      12138         2659393        1577916300   \n",
       "2      2020-01-01      KKP      12138         2658108        1577917380   \n",
       "3      2020-01-01     GJUT      12138         2734206        1577918280   \n",
       "4      2020-01-01      GNA      12138         2742572        1577919240   \n",
       "...           ...      ...        ...             ...               ...   \n",
       "31869  2020-02-19      LDH      12925         2658435        1582217160   \n",
       "31870  2020-02-19      PGW      12925         2658284        1582219140   \n",
       "31871  2020-02-19      JRC      12925         2657701        1582220220   \n",
       "31872  2020-02-19      JUC      12925         2657676        1582221180   \n",
       "31873  2020-02-19     BEAS      12925         2658299        1582223400   \n",
       "\n",
       "       scheduledDeparture  actualArrival  actualDeparture  distance  dayCount  \\\n",
       "0              1577914800     1577836800       1577914800         0         0   \n",
       "1              1577916420     1577916960       1577917080        32         0   \n",
       "2              1577917500     1577918220       1577918280        45         0   \n",
       "3              1577918400     1577919360       1577919420        61         0   \n",
       "4              1577919360     1577920440       1577920500        76         0   \n",
       "...                   ...            ...              ...       ...       ...   \n",
       "31869          1582217460     1582221300       1582221840      1687         1   \n",
       "31870          1582219260     1582223940       1582224060      1723         1   \n",
       "31871          1582220340     1582225440       1582225560      1739         1   \n",
       "31872          1582221480     1582226100       1582227000      1744         1   \n",
       "31873          1582223520     1582228680       1582228800      1780         1   \n",
       "\n",
       "       ArrivalDelay  DepartureDelay  \n",
       "0                 0               0  \n",
       "1                11              11  \n",
       "2                14              13  \n",
       "3                18              17  \n",
       "4                20              19  \n",
       "...             ...             ...  \n",
       "31869            69              73  \n",
       "31870            80              80  \n",
       "31871            87              87  \n",
       "31872            82              92  \n",
       "31873            88              88  \n",
       "\n",
       "[31097 rows x 12 columns]"
      ]
     },
     "execution_count": 27,
     "metadata": {},
     "output_type": "execute_result"
    }
   ],
   "source": [
    "df"
   ]
  },
  {
   "cell_type": "code",
   "execution_count": 28,
   "metadata": {
    "execution": {
     "iopub.execute_input": "2021-01-10T18:17:33.971564Z",
     "iopub.status.busy": "2021-01-10T18:17:33.970885Z",
     "iopub.status.idle": "2021-01-10T18:17:33.985171Z",
     "shell.execute_reply": "2021-01-10T18:17:33.984614Z"
    },
    "papermill": {
     "duration": 0.088391,
     "end_time": "2021-01-10T18:17:33.985292",
     "exception": false,
     "start_time": "2021-01-10T18:17:33.896901",
     "status": "completed"
    },
    "tags": []
   },
   "outputs": [],
   "source": [
    "#add time_superscript\n",
    "for i in df.columns:\n",
    "    if  i not in ['runDate','trainStationId']:\n",
    "        df['{}_n'.format(i)]=df[i]\n",
    "        del df[i]"
   ]
  },
  {
   "cell_type": "code",
   "execution_count": 29,
   "metadata": {
    "execution": {
     "iopub.execute_input": "2021-01-10T18:17:34.124019Z",
     "iopub.status.busy": "2021-01-10T18:17:34.123349Z",
     "iopub.status.idle": "2021-01-10T18:17:34.126790Z",
     "shell.execute_reply": "2021-01-10T18:17:34.126160Z"
    },
    "papermill": {
     "duration": 0.075081,
     "end_time": "2021-01-10T18:17:34.126911",
     "exception": false,
     "start_time": "2021-01-10T18:17:34.051830",
     "status": "completed"
    },
    "tags": []
   },
   "outputs": [],
   "source": [
    "del df['trainStationId']"
   ]
  },
  {
   "cell_type": "code",
   "execution_count": 30,
   "metadata": {
    "execution": {
     "iopub.execute_input": "2021-01-10T18:17:34.308671Z",
     "iopub.status.busy": "2021-01-10T18:17:34.274055Z",
     "iopub.status.idle": "2021-01-10T18:17:34.313639Z",
     "shell.execute_reply": "2021-01-10T18:17:34.313067Z"
    },
    "papermill": {
     "duration": 0.11857,
     "end_time": "2021-01-10T18:17:34.313771",
     "exception": false,
     "start_time": "2021-01-10T18:17:34.195201",
     "status": "completed"
    },
    "tags": []
   },
   "outputs": [],
   "source": [
    "#Convertng time delays given in seconds\n",
    "df['DepartureDelay_n'] = df['DepartureDelay_n'].apply(lambda x: x*60)\n",
    "df['ArrivalDelay_n'] = df['ArrivalDelay_n'].apply(lambda x: x*60)"
   ]
  },
  {
   "cell_type": "markdown",
   "metadata": {
    "papermill": {
     "duration": 0.06992,
     "end_time": "2021-01-10T18:17:34.452251",
     "exception": false,
     "start_time": "2021-01-10T18:17:34.382331",
     "status": "completed"
    },
    "tags": []
   },
   "source": [
    "## Basic EDA and Observations"
   ]
  },
  {
   "cell_type": "code",
   "execution_count": 31,
   "metadata": {
    "execution": {
     "iopub.execute_input": "2021-01-10T18:17:34.601496Z",
     "iopub.status.busy": "2021-01-10T18:17:34.600467Z",
     "iopub.status.idle": "2021-01-10T18:17:34.605355Z",
     "shell.execute_reply": "2021-01-10T18:17:34.604707Z"
    },
    "papermill": {
     "duration": 0.085574,
     "end_time": "2021-01-10T18:17:34.605465",
     "exception": false,
     "start_time": "2021-01-10T18:17:34.519891",
     "status": "completed"
    },
    "tags": []
   },
   "outputs": [
    {
     "data": {
      "text/html": [
       "<div>\n",
       "<style scoped>\n",
       "    .dataframe tbody tr th:only-of-type {\n",
       "        vertical-align: middle;\n",
       "    }\n",
       "\n",
       "    .dataframe tbody tr th {\n",
       "        vertical-align: top;\n",
       "    }\n",
       "\n",
       "    .dataframe thead th {\n",
       "        text-align: right;\n",
       "    }\n",
       "</style>\n",
       "<table border=\"1\" class=\"dataframe\">\n",
       "  <thead>\n",
       "    <tr style=\"text-align: right;\">\n",
       "      <th></th>\n",
       "      <th>runDate</th>\n",
       "      <th>stations_n</th>\n",
       "      <th>trainCode_n</th>\n",
       "      <th>scheduledArrival_n</th>\n",
       "      <th>scheduledDeparture_n</th>\n",
       "      <th>actualArrival_n</th>\n",
       "      <th>actualDeparture_n</th>\n",
       "      <th>distance_n</th>\n",
       "      <th>dayCount_n</th>\n",
       "      <th>ArrivalDelay_n</th>\n",
       "      <th>DepartureDelay_n</th>\n",
       "    </tr>\n",
       "  </thead>\n",
       "  <tbody>\n",
       "    <tr>\n",
       "      <th>0</th>\n",
       "      <td>2020-01-01</td>\n",
       "      <td>FZR</td>\n",
       "      <td>12138</td>\n",
       "      <td>1577836800</td>\n",
       "      <td>1577914800</td>\n",
       "      <td>1577836800</td>\n",
       "      <td>1577914800</td>\n",
       "      <td>0</td>\n",
       "      <td>0</td>\n",
       "      <td>0</td>\n",
       "      <td>0</td>\n",
       "    </tr>\n",
       "    <tr>\n",
       "      <th>1</th>\n",
       "      <td>2020-01-01</td>\n",
       "      <td>FDK</td>\n",
       "      <td>12138</td>\n",
       "      <td>1577916300</td>\n",
       "      <td>1577916420</td>\n",
       "      <td>1577916960</td>\n",
       "      <td>1577917080</td>\n",
       "      <td>32</td>\n",
       "      <td>0</td>\n",
       "      <td>660</td>\n",
       "      <td>660</td>\n",
       "    </tr>\n",
       "    <tr>\n",
       "      <th>2</th>\n",
       "      <td>2020-01-01</td>\n",
       "      <td>KKP</td>\n",
       "      <td>12138</td>\n",
       "      <td>1577917380</td>\n",
       "      <td>1577917500</td>\n",
       "      <td>1577918220</td>\n",
       "      <td>1577918280</td>\n",
       "      <td>45</td>\n",
       "      <td>0</td>\n",
       "      <td>840</td>\n",
       "      <td>780</td>\n",
       "    </tr>\n",
       "  </tbody>\n",
       "</table>\n",
       "</div>"
      ],
      "text/plain": [
       "      runDate stations_n  trainCode_n  scheduledArrival_n  \\\n",
       "0  2020-01-01        FZR        12138          1577836800   \n",
       "1  2020-01-01        FDK        12138          1577916300   \n",
       "2  2020-01-01        KKP        12138          1577917380   \n",
       "\n",
       "   scheduledDeparture_n  actualArrival_n  actualDeparture_n  distance_n  \\\n",
       "0            1577914800       1577836800         1577914800           0   \n",
       "1            1577916420       1577916960         1577917080          32   \n",
       "2            1577917500       1577918220         1577918280          45   \n",
       "\n",
       "   dayCount_n  ArrivalDelay_n  DepartureDelay_n  \n",
       "0           0               0                 0  \n",
       "1           0             660               660  \n",
       "2           0             840               780  "
      ]
     },
     "execution_count": 31,
     "metadata": {},
     "output_type": "execute_result"
    }
   ],
   "source": [
    "df.head(3)"
   ]
  },
  {
   "cell_type": "markdown",
   "metadata": {
    "papermill": {
     "duration": 0.068469,
     "end_time": "2021-01-10T18:17:34.743008",
     "exception": false,
     "start_time": "2021-01-10T18:17:34.674539",
     "status": "completed"
    },
    "tags": []
   },
   "source": [
    "#### Spatial Factor \n",
    "### Does stations' rush have a role to play in delay ?"
   ]
  },
  {
   "cell_type": "code",
   "execution_count": 32,
   "metadata": {
    "execution": {
     "iopub.execute_input": "2021-01-10T18:17:34.890820Z",
     "iopub.status.busy": "2021-01-10T18:17:34.890074Z",
     "iopub.status.idle": "2021-01-10T18:17:34.952629Z",
     "shell.execute_reply": "2021-01-10T18:17:34.953156Z"
    },
    "papermill": {
     "duration": 0.140318,
     "end_time": "2021-01-10T18:17:34.953309",
     "exception": false,
     "start_time": "2021-01-10T18:17:34.812991",
     "status": "completed"
    },
    "tags": []
   },
   "outputs": [
    {
     "name": "stdout",
     "output_type": "stream",
     "text": [
      "0.019912110406907324\n",
      "0.002589551087336071\n"
     ]
    }
   ],
   "source": [
    "df.columns\n",
    "\n",
    "# df[df['stations_n']=='ADH']['ArrivalDelay_n'].mean()\n",
    "\n",
    "temp_df = df[['stations_n','ArrivalDelay_n','DepartureDelay_n']].groupby('stations_n').mean().reset_index()\n",
    "# temp_df\n",
    "\n",
    "stn_frame = pd.Series(stn_traffic).to_frame().reset_index()\n",
    "stn_frame = stn_frame.rename(columns={'index':'stations_n',0:'frequency'})\n",
    "\n",
    "# 'stations_n' in stn_frame.columns\n",
    "\n",
    "temp_df=pd.merge(stn_frame,temp_df,on='stations_n')\n",
    "\n",
    "print(temp_df['frequency'].corr(temp_df['DepartureDelay_n']))\n",
    "print(temp_df['frequency'].corr(temp_df['ArrivalDelay_n']))"
   ]
  },
  {
   "cell_type": "markdown",
   "metadata": {
    "papermill": {
     "duration": 0.068049,
     "end_time": "2021-01-10T18:17:35.090294",
     "exception": false,
     "start_time": "2021-01-10T18:17:35.022245",
     "status": "completed"
    },
    "tags": []
   },
   "source": [
    "#### **LOW** Correlation"
   ]
  },
  {
   "cell_type": "markdown",
   "metadata": {
    "papermill": {
     "duration": 0.06847,
     "end_time": "2021-01-10T18:17:35.228281",
     "exception": false,
     "start_time": "2021-01-10T18:17:35.159811",
     "status": "completed"
    },
    "tags": []
   },
   "source": [
    "### Does the delay in previous stations affect the future delay ? Cross Correlation"
   ]
  },
  {
   "cell_type": "code",
   "execution_count": 33,
   "metadata": {
    "execution": {
     "iopub.execute_input": "2021-01-10T18:17:35.368758Z",
     "iopub.status.busy": "2021-01-10T18:17:35.368071Z",
     "iopub.status.idle": "2021-01-10T18:17:35.380426Z",
     "shell.execute_reply": "2021-01-10T18:17:35.379598Z"
    },
    "papermill": {
     "duration": 0.083856,
     "end_time": "2021-01-10T18:17:35.380574",
     "exception": false,
     "start_time": "2021-01-10T18:17:35.296718",
     "status": "completed"
    },
    "tags": []
   },
   "outputs": [
    {
     "name": "stdout",
     "output_type": "stream",
     "text": [
      "0.8621850455496064\n",
      "1.0\n"
     ]
    }
   ],
   "source": [
    "temp_df=temp_df[['stations_n','ArrivalDelay_n','DepartureDelay_n']]\n",
    "temp_df['ArrivalDelay_n+1']=temp_df['ArrivalDelay_n'].shift(1)\n",
    "temp_df['DepartureDelay_n+1']=temp_df['DepartureDelay_n'].shift(1)\n",
    "print(temp_df['ArrivalDelay_n+1'].corr(temp_df['ArrivalDelay_n']))\n",
    "print(temp_df['ArrivalDelay_n+1'].corr(temp_df['ArrivalDelay_n+1']))"
   ]
  },
  {
   "cell_type": "markdown",
   "metadata": {
    "papermill": {
     "duration": 0.069324,
     "end_time": "2021-01-10T18:17:35.528985",
     "exception": false,
     "start_time": "2021-01-10T18:17:35.459661",
     "status": "completed"
    },
    "tags": []
   },
   "source": [
    "#### Yes , highly related ==> A time series problem"
   ]
  },
  {
   "cell_type": "markdown",
   "metadata": {
    "papermill": {
     "duration": 0.069061,
     "end_time": "2021-01-10T18:17:35.668261",
     "exception": false,
     "start_time": "2021-01-10T18:17:35.599200",
     "status": "completed"
    },
    "tags": []
   },
   "source": [
    "### Does the delay for a particular train depends on day of week ?"
   ]
  },
  {
   "cell_type": "code",
   "execution_count": 34,
   "metadata": {
    "execution": {
     "iopub.execute_input": "2021-01-10T18:17:35.811401Z",
     "iopub.status.busy": "2021-01-10T18:17:35.810681Z",
     "iopub.status.idle": "2021-01-10T18:17:36.990622Z",
     "shell.execute_reply": "2021-01-10T18:17:36.989909Z"
    },
    "papermill": {
     "duration": 1.253653,
     "end_time": "2021-01-10T18:17:36.990734",
     "exception": false,
     "start_time": "2021-01-10T18:17:35.737081",
     "status": "completed"
    },
    "tags": []
   },
   "outputs": [],
   "source": [
    "#Train No. 12138\n",
    "import plotly.express as px\n",
    "# df = px.data.gapminder().query(\"continent=='Oceania'\")\n",
    "# df"
   ]
  },
  {
   "cell_type": "code",
   "execution_count": 35,
   "metadata": {
    "execution": {
     "iopub.execute_input": "2021-01-10T18:17:37.137624Z",
     "iopub.status.busy": "2021-01-10T18:17:37.136960Z",
     "iopub.status.idle": "2021-01-10T18:17:37.140801Z",
     "shell.execute_reply": "2021-01-10T18:17:37.140153Z"
    },
    "papermill": {
     "duration": 0.08036,
     "end_time": "2021-01-10T18:17:37.140911",
     "exception": false,
     "start_time": "2021-01-10T18:17:37.060551",
     "status": "completed"
    },
    "tags": []
   },
   "outputs": [],
   "source": [
    "def station_wise_delay_of_train():\n",
    "    temp_df=df[df['trainCode_n']==12138]\n",
    "    temp_df['day_n']=temp_df['scheduledArrival_n'].apply(lambda x: utc2day(x))\n",
    "    temp_df=temp_df[['ArrivalDelay_n','day_n','trainCode_n','stations_n']]\n",
    "    temp_df.groupby('day_n').mean().reset_index()\n",
    "#     print(temp_df)\n",
    "#     print('day_n' in temp_df.columns)\n",
    "#     print(temp_df.shape)\n",
    "    fig = px.scatter(temp_df, x=\"stations_n\", y=\"ArrivalDelay_n\", color='day_n')\n",
    "    fig.show()"
   ]
  },
  {
   "cell_type": "code",
   "execution_count": 36,
   "metadata": {
    "execution": {
     "iopub.execute_input": "2021-01-10T18:17:37.284250Z",
     "iopub.status.busy": "2021-01-10T18:17:37.283257Z",
     "iopub.status.idle": "2021-01-10T18:17:38.716324Z",
     "shell.execute_reply": "2021-01-10T18:17:38.716973Z"
    },
    "papermill": {
     "duration": 1.50555,
     "end_time": "2021-01-10T18:17:38.717131",
     "exception": false,
     "start_time": "2021-01-10T18:17:37.211581",
     "status": "completed"
    },
    "tags": []
   },
   "outputs": [
    {
     "data": {
      "text/html": [
       "        <script type=\"text/javascript\">\n",
       "        window.PlotlyConfig = {MathJaxConfig: 'local'};\n",
       "        if (window.MathJax) {MathJax.Hub.Config({SVG: {font: \"STIX-Web\"}});}\n",
       "        if (typeof require !== 'undefined') {\n",
       "        require.undef(\"plotly\");\n",
       "        requirejs.config({\n",
       "            paths: {\n",
       "                'plotly': ['https://cdn.plot.ly/plotly-latest.min']\n",
       "            }\n",
       "        });\n",
       "        require(['plotly'], function(Plotly) {\n",
       "            window._Plotly = Plotly;\n",
       "        });\n",
       "        }\n",
       "        </script>\n",
       "        "
      ]
     },
     "metadata": {},
     "output_type": "display_data"
    },
    {
     "data": {
      "text/html": [
       "<div>                            <div id=\"7f071243-1d9d-46d2-b633-092953394562\" class=\"plotly-graph-div\" style=\"height:525px; width:100%;\"></div>            <script type=\"text/javascript\">                require([\"plotly\"], function(Plotly) {                    window.PLOTLYENV=window.PLOTLYENV || {};                                    if (document.getElementById(\"7f071243-1d9d-46d2-b633-092953394562\")) {                    Plotly.newPlot(                        \"7f071243-1d9d-46d2-b633-092953394562\",                        [{\"hovertemplate\": \"day_n=Wednesday<br>stations_n=%{x}<br>ArrivalDelay_n=%{y}<extra></extra>\", \"legendgroup\": \"Wednesday\", \"marker\": {\"color\": \"#636efa\", \"symbol\": \"circle\"}, \"mode\": \"markers\", \"name\": \"Wednesday\", \"showlegend\": true, \"type\": \"scattergl\", \"x\": [\"FZR\", \"FDK\", \"KKP\", \"GJUT\", \"GNA\", \"BTI\", \"JL\", \"CSN\", \"MMR\", \"NK\", \"DVL\", \"IGP\", \"KYN\", \"DR\", \"MAUR\", \"MSZ\", \"BLZ\", \"BRZ\", \"JHL\", \"TUN\", \"NRW\", \"JIND\", \"ROK\", \"BGZ\", \"SSB\", \"DKZ\", \"NDLS\", \"FDB\", \"KSV\", \"MTJ\", \"RKM\", \"AGC\", \"DHO\", \"MRA\", \"GWL\", \"DBA\", \"DAA\", \"JHS\", \"BAB\", \"LAR\", \"BINA\", \"BAQ\", \"BHS\", \"BPL\", \"HBJ\", \"HBD\", \"ET\", \"BPF\", \"HD\", \"KKN\", \"KNW\", \"BAU\", \"BSL\", \"FZR\", \"FDK\", \"KKP\", \"GJUT\", \"GNA\", \"BTI\", \"JL\", \"CSN\", \"MMR\", \"NK\", \"DVL\", \"IGP\", \"KYN\", \"DR\", \"MAUR\", \"MSZ\", \"BLZ\", \"BRZ\", \"JHL\", \"TUN\", \"NRW\", \"JIND\", \"ROK\", \"BGZ\", \"SSB\", \"DKZ\", \"NDLS\", \"FDB\", \"KSV\", \"MTJ\", \"RKM\", \"AGC\", \"DHO\", \"MRA\", \"GWL\", \"DBA\", \"DAA\", \"JHS\", \"BAB\", \"LAR\", \"BINA\", \"BAQ\", \"BHS\", \"BPL\", \"HBJ\", \"HBD\", \"ET\", \"BPF\", \"HD\", \"KKN\", \"KNW\", \"BAU\", \"BSL\", \"FZR\", \"FDK\", \"KKP\", \"GJUT\", \"GNA\", \"BTI\", \"JL\", \"CSN\", \"MMR\", \"NK\", \"DVL\", \"IGP\", \"KYN\", \"DR\", \"MAUR\", \"MSZ\", \"BLZ\", \"BRZ\", \"JHL\", \"TUN\", \"NRW\", \"JIND\", \"ROK\", \"BGZ\", \"SSB\", \"DKZ\", \"NDLS\", \"FDB\", \"KSV\", \"MTJ\", \"RKM\", \"AGC\", \"DHO\", \"MRA\", \"GWL\", \"DBA\", \"DAA\", \"JHS\", \"BAB\", \"LAR\", \"BINA\", \"BAQ\", \"BHS\", \"BPL\", \"HBJ\", \"HBD\", \"ET\", \"BPF\", \"HD\", \"KKN\", \"KNW\", \"BAU\", \"BSL\", \"FZR\", \"FDK\", \"KKP\", \"GJUT\", \"GNA\", \"BTI\", \"JL\", \"CSN\", \"MMR\", \"NK\", \"DVL\", \"IGP\", \"KYN\", \"DR\", \"MAUR\", \"MSZ\", \"BLZ\", \"BRZ\", \"JHL\", \"TUN\", \"NRW\", \"JIND\", \"ROK\", \"BGZ\", \"SSB\", \"DKZ\", \"NDLS\", \"FDB\", \"KSV\", \"MTJ\", \"RKM\", \"AGC\", \"DHO\", \"MRA\", \"GWL\", \"DBA\", \"DAA\", \"JHS\", \"BAB\", \"LAR\", \"BINA\", \"BAQ\", \"BHS\", \"BPL\", \"HBJ\", \"HBD\", \"ET\", \"BPF\", \"HD\", \"KKN\", \"KNW\", \"BAU\", \"BSL\", \"FZR\", \"FDK\", \"KKP\", \"GJUT\", \"GNA\", \"BTI\", \"JL\", \"CSN\", \"MMR\", \"NK\", \"DVL\", \"IGP\", \"KYN\", \"DR\", \"MAUR\", \"MSZ\", \"BLZ\", \"BRZ\", \"JHL\", \"TUN\", \"NRW\", \"JIND\", \"ROK\", \"BGZ\", \"SSB\", \"DKZ\", \"NDLS\", \"FDB\", \"KSV\", \"MTJ\", \"RKM\", \"AGC\", \"DHO\", \"MRA\", \"GWL\", \"DBA\", \"DAA\", \"JHS\", \"BAB\", \"LAR\", \"BINA\", \"BAQ\", \"BHS\", \"BPL\", \"HBJ\", \"HBD\", \"ET\", \"BPF\", \"HD\", \"KKN\", \"KNW\", \"BAU\", \"BSL\", \"FZR\", \"FDK\", \"KKP\", \"GJUT\", \"GNA\", \"BTI\", \"JL\", \"CSN\", \"MMR\", \"NK\", \"DVL\", \"IGP\", \"KYN\", \"DR\", \"MAUR\", \"MSZ\", \"BLZ\", \"BRZ\", \"JHL\", \"TUN\", \"NRW\", \"JIND\", \"ROK\", \"BGZ\", \"SSB\", \"DKZ\", \"NDLS\", \"FDB\", \"KSV\", \"MTJ\", \"RKM\", \"AGC\", \"DHO\", \"MRA\", \"GWL\", \"DBA\", \"DAA\", \"JHS\", \"BAB\", \"LAR\", \"BINA\", \"BAQ\", \"BHS\", \"BPL\", \"HBJ\", \"HBD\", \"ET\", \"BPF\", \"HD\", \"KKN\", \"KNW\", \"BAU\", \"BSL\", \"FZR\", \"FDK\", \"KKP\", \"GJUT\", \"GNA\", \"BTI\", \"JL\", \"CSN\", \"MMR\", \"NK\", \"DVL\", \"IGP\", \"KYN\", \"DR\", \"MAUR\", \"MSZ\", \"BLZ\", \"BRZ\", \"JHL\", \"TUN\", \"NRW\", \"JIND\", \"ROK\", \"BGZ\", \"SSB\", \"DKZ\", \"NDLS\", \"FDB\", \"KSV\", \"MTJ\", \"RKM\", \"AGC\", \"DHO\", \"MRA\", \"GWL\", \"DBA\", \"DAA\", \"JHS\", \"BAB\", \"LAR\", \"BINA\", \"BAQ\", \"BHS\", \"BPL\", \"HBJ\", \"HBD\", \"ET\", \"BPF\", \"HD\", \"KKN\", \"KNW\", \"BAU\", \"BSL\"], \"xaxis\": \"x\", \"y\": [0, 660, 840, 1080, 1200, 360, 6420, 7260, 7920, 8280, 8040, 5280, 6600, 5340, 1380, 1500, 1500, 1620, 1320, 1440, 1620, 1320, 960, 1080, 60, 360, -120, 900, -480, 1140, 1680, 1380, 1380, 1320, 840, 960, 1140, 60, 300, 780, 240, 480, 420, -360, 60, 1080, 1020, 1620, 1740, 1680, 300, 360, -240, 0, 540, 660, 960, 1020, 240, 240, 600, 480, 1620, 1560, 660, 480, 0, 840, 960, 1020, 1200, 840, 1140, 1260, 900, 660, 840, -360, 60, -540, 840, 120, 900, 2340, 2160, 2280, 2340, 1920, 2700, 4560, 4740, 5280, 5400, 7920, 7920, 7980, 7080, 7080, 7500, 7500, 8400, 8640, 8460, 6420, 6240, 6180, 0, 720, 960, 1140, 1260, 600, 14700, 14940, 14640, 17760, 17820, 15060, 14160, 14160, 780, 1020, 1200, 1320, 1200, 1560, 2100, 1980, 3120, 4920, 4200, 4500, 4200, 5700, 9060, 10200, 13020, 12780, 13680, 13800, 13620, 14400, 14520, 13500, 13800, 13800, 13020, 12960, 12900, 11880, 11940, 12360, 12960, 13260, 13380, 13320, 11520, 11520, 10560, 0, 660, 720, 840, 780, 120, 6660, 7440, 8520, 9000, 8880, 6180, 6720, 5340, 720, 900, 840, 1020, 780, 960, 1080, 720, 360, 480, -660, 180, -240, 960, -360, 240, 840, 540, 720, 660, -60, 540, 840, 60, 1260, 1320, 720, 600, 720, 420, 300, 1260, 1920, 2220, 2340, 2220, 720, 480, 420, 0, 360, 420, 600, 540, -360, 2400, 3000, 3600, 4260, 4140, 1320, 240, 0, 660, 840, 900, 1020, 840, 960, 1080, 720, 360, 360, -900, 0, -300, 1380, -420, -120, 420, 60, -420, -180, 240, 300, 480, -660, 240, 180, -180, 300, 180, -780, 60, 420, 180, 420, 600, 540, 180, 180, 600, 0, 480, 420, 540, 480, -420, 1320, 1920, 2940, 3360, 3300, 360, 840, 0, 660, 780, 780, 840, 480, 600, 720, 300, 120, 240, -900, 60, -420, 1140, 480, 480, 1200, 840, 480, 540, 240, 540, 780, -480, 300, 240, -300, 360, 540, -360, -60, 180, 0, 840, 1380, 1920, 0, 360, 960, 0, 360, 540, 660, 600, -180, 2400, 3420, 3480, 3660, 3480, 360, 1860, 540, 480, 720, 720, 720, 360, 960, 1020, 780, 240, 360, -600, 120, -600, 660, -60, 960, 1260, 1200, 600, 600, -120, 420, 780, -180, 1260, 1680, 2880, 2880, 2880, 2280, 2340, 2160, 2340, 2820, 3000, 2640, 1080, 1080, 360], \"yaxis\": \"y\"}, {\"hovertemplate\": \"day_n=Thursday<br>stations_n=%{x}<br>ArrivalDelay_n=%{y}<extra></extra>\", \"legendgroup\": \"Thursday\", \"marker\": {\"color\": \"#EF553B\", \"symbol\": \"circle\"}, \"mode\": \"markers\", \"name\": \"Thursday\", \"showlegend\": true, \"type\": \"scattergl\", \"x\": [\"MAUR\", \"MSZ\", \"BLZ\", \"BRZ\", \"JHL\", \"TUN\", \"NRW\", \"JIND\", \"ROK\", \"BGZ\", \"SSB\", \"DKZ\", \"NDLS\", \"FDB\", \"KSV\", \"MTJ\", \"RKM\", \"AGC\", \"DHO\", \"MRA\", \"GWL\", \"DBA\", \"DAA\", \"JHS\", \"BAB\", \"LAR\", \"BINA\", \"BAQ\", \"BHS\", \"BPL\", \"HBJ\", \"HBD\", \"ET\", \"BPF\", \"HD\", \"KKN\", \"KNW\", \"BAU\", \"BSL\", \"FZR\", \"FDK\", \"KKP\", \"GJUT\", \"GNA\", \"BTI\", \"JL\", \"CSN\", \"MMR\", \"NK\", \"DVL\", \"IGP\", \"KYN\", \"DR\", \"MAUR\", \"MSZ\", \"BLZ\", \"BRZ\", \"JHL\", \"TUN\", \"NRW\", \"JIND\", \"ROK\", \"BGZ\", \"SSB\", \"DKZ\", \"NDLS\", \"FDB\", \"KSV\", \"MTJ\", \"RKM\", \"AGC\", \"DHO\", \"MRA\", \"GWL\", \"DBA\", \"DAA\", \"JHS\", \"BAB\", \"LAR\", \"BINA\", \"BAQ\", \"BHS\", \"BPL\", \"HBJ\", \"HBD\", \"ET\", \"BPF\", \"HD\", \"KKN\", \"KNW\", \"BAU\", \"BSL\", \"FZR\", \"FDK\", \"KKP\", \"GJUT\", \"GNA\", \"BTI\", \"JL\", \"CSN\", \"MMR\", \"NK\", \"DVL\", \"IGP\", \"KYN\", \"DR\", \"MAUR\", \"MSZ\", \"BLZ\", \"BRZ\", \"JHL\", \"TUN\", \"NRW\", \"JIND\", \"ROK\", \"BGZ\", \"SSB\", \"DKZ\", \"NDLS\", \"FDB\", \"KSV\", \"MTJ\", \"RKM\", \"AGC\", \"DHO\", \"MRA\", \"GWL\", \"DBA\", \"DAA\", \"JHS\", \"BAB\", \"LAR\", \"BINA\", \"BAQ\", \"BHS\", \"BPL\", \"HBJ\", \"HBD\", \"ET\", \"BPF\", \"HD\", \"KKN\", \"KNW\", \"BAU\", \"BSL\", \"FZR\", \"FDK\", \"KKP\", \"GJUT\", \"GNA\", \"BTI\", \"JL\", \"CSN\", \"MMR\", \"NK\", \"DVL\", \"IGP\", \"KYN\", \"DR\", \"MAUR\", \"MSZ\", \"BLZ\", \"BRZ\", \"JHL\", \"TUN\", \"NRW\", \"JIND\", \"ROK\", \"BGZ\", \"SSB\", \"DKZ\", \"NDLS\", \"FDB\", \"KSV\", \"MTJ\", \"RKM\", \"AGC\", \"DHO\", \"MRA\", \"GWL\", \"DBA\", \"DAA\", \"JHS\", \"BAB\", \"LAR\", \"BINA\", \"BAQ\", \"BHS\", \"BPL\", \"HBJ\", \"HBD\", \"ET\", \"BPF\", \"HD\", \"KKN\", \"KNW\", \"BAU\", \"BSL\", \"FZR\", \"FDK\", \"KKP\", \"GJUT\", \"GNA\", \"BTI\", \"JL\", \"CSN\", \"MMR\", \"NK\", \"DVL\", \"IGP\", \"KYN\", \"DR\", \"MAUR\", \"MSZ\", \"BLZ\", \"BRZ\", \"JHL\", \"TUN\", \"NRW\", \"JIND\", \"ROK\", \"BGZ\", \"SSB\", \"DKZ\", \"NDLS\", \"FDB\", \"KSV\", \"MTJ\", \"RKM\", \"AGC\", \"DHO\", \"MRA\", \"GWL\", \"DBA\", \"DAA\", \"JHS\", \"BAB\", \"LAR\", \"BINA\", \"BAQ\", \"BHS\", \"BPL\", \"HBJ\", \"HBD\", \"ET\", \"BPF\", \"HD\", \"KKN\", \"KNW\", \"BAU\", \"BSL\", \"FZR\", \"FDK\", \"KKP\", \"GJUT\", \"GNA\", \"BTI\", \"JL\", \"CSN\", \"MMR\", \"NK\", \"DVL\", \"IGP\", \"KYN\", \"DR\", \"MAUR\", \"MSZ\", \"BLZ\", \"BRZ\", \"JHL\", \"TUN\", \"NRW\", \"JIND\", \"ROK\", \"BGZ\", \"SSB\", \"DKZ\", \"NDLS\", \"FDB\", \"KSV\", \"MTJ\", \"RKM\", \"AGC\", \"DHO\", \"MRA\", \"GWL\", \"DBA\", \"DAA\", \"JHS\", \"BAB\", \"LAR\", \"BINA\", \"BAQ\", \"BHS\", \"BPL\", \"HBJ\", \"HBD\", \"ET\", \"BPF\", \"HD\", \"KKN\", \"KNW\", \"BAU\", \"BSL\", \"FZR\", \"FDK\", \"KKP\", \"GJUT\", \"GNA\", \"BTI\", \"JL\", \"CSN\", \"MMR\", \"NK\", \"DVL\", \"IGP\", \"KYN\", \"DR\", \"MAUR\", \"MSZ\", \"BLZ\", \"BRZ\", \"JHL\", \"TUN\", \"NRW\", \"JIND\", \"ROK\", \"BGZ\", \"SSB\", \"DKZ\", \"NDLS\", \"FDB\", \"KSV\", \"MTJ\", \"RKM\", \"AGC\", \"DHO\", \"MRA\", \"GWL\", \"DBA\", \"DAA\", \"JHS\", \"BAB\", \"LAR\", \"BINA\", \"BAQ\", \"BHS\", \"BPL\", \"HBJ\", \"HBD\", \"ET\", \"BPF\", \"HD\", \"KKN\", \"KNW\", \"BAU\", \"BSL\", \"FZR\", \"FDK\", \"KKP\", \"GJUT\", \"GNA\", \"BTI\", \"JL\", \"CSN\", \"MMR\", \"NK\", \"DVL\", \"IGP\", \"KYN\", \"DR\"], \"xaxis\": \"x\", \"y\": [660, 900, 900, 900, 540, 660, 660, 180, -120, 60, -1200, 120, -300, 240, -600, 840, 1440, 1140, 600, 720, 960, 1140, 1620, 900, 1080, 4860, 6300, 6600, 7260, 7980, 7980, 8520, 8580, 9300, 9360, 9300, 7260, 7260, 6660, 0, 540, 660, 780, 720, -120, 1200, 1560, 1860, 3240, 3060, 1320, 420, 0, 1140, 1380, 1740, 1860, 2220, 2520, 2520, 2220, 1740, 1800, 600, 540, 420, 960, -180, 600, 1080, 780, 240, -60, 600, 720, 1260, 360, 2340, 4860, 6000, 6240, 6120, 5280, 5280, 5400, 5100, 5520, 5700, 5460, 3420, 3240, 3180, 0, 540, 360, 600, 600, -300, 7380, 8640, 8520, 8520, 8280, 5460, 6780, 6720, 1140, 1380, 1620, 1740, 1500, 1740, 1920, 1500, 1020, 1080, 60, 0, -360, 1080, 300, 1140, 1920, 1860, 2340, 2100, 1500, 1800, 2820, 1740, 2820, 4920, 6540, 6900, 6960, 7440, 7620, 8040, 8460, 8820, 10500, 10500, 11220, 11340, 11220, 0, 960, 1080, 1440, 1560, 960, 11160, 11940, 10020, 11940, 12000, 9780, 14640, 13380, 960, 1020, 1020, 1080, 780, 900, 1020, 660, 240, 1380, 60, 300, -180, 1380, 120, 780, 1260, 1860, 4020, 4740, 5220, 5580, 6540, 5520, 6300, 6960, 8220, 8040, 7860, 7380, 7380, 8220, 8160, 8460, 10620, 10680, 8820, 9000, 8160, 0, 720, 900, 1020, 1020, 180, 900, 1800, 1680, 2160, 2160, -540, -1140, 0, 960, 1200, 1200, 1260, 1020, 1140, 1260, 900, 1080, 1200, 60, 180, -480, 1200, 120, 720, 1080, 840, 540, 300, 900, 1140, 1260, 480, 2400, 3300, 3180, 3180, 3360, 2220, 2580, 2820, 2700, 3060, 3180, 3000, 1020, 1320, 1560, 0, 420, 540, 660, 660, -180, 1020, 1740, 1980, 3120, 3000, 120, -60, 0, 720, 840, 840, 840, 420, 540, 540, 300, 420, 420, -420, 60, -240, 1140, 1620, 1380, 2280, 2040, 3660, 4440, 4200, 4320, 4620, 3660, 3960, 4020, 4080, 4500, 4440, 3480, 3480, 3720, 3480, 3780, 3960, 4020, 2040, 2040, 3300, 0, 420, 540, 720, 660, -180, 1740, 2160, 1920, 2280, 2160, -540, 240, 0, 600, 720, 780, 720, 420, 480, 540, 60, -420, 0, -1140, 120, -300, 660, -360, 240, 540, 180, -300, -120, 1020, 1020, 1260, -60, 540, 660, 4560, 4920, 4920, 3540, 4020, 3840, 3840, 4560, 4740, 4620, 2760, 2640, 1620, 0, 480, 600, 720, 600, -300, 960, 1680, 480, 2520, 2280, -600, 300, 0], \"yaxis\": \"y\"}, {\"hovertemplate\": \"day_n=Friday<br>stations_n=%{x}<br>ArrivalDelay_n=%{y}<extra></extra>\", \"legendgroup\": \"Friday\", \"marker\": {\"color\": \"#00cc96\", \"symbol\": \"circle\"}, \"mode\": \"markers\", \"name\": \"Friday\", \"showlegend\": true, \"type\": \"scattergl\", \"x\": [\"JL\", \"CSN\", \"MMR\", \"NK\", \"DVL\", \"IGP\", \"KYN\", \"DR\", \"MAUR\", \"MSZ\", \"BLZ\", \"BRZ\", \"JHL\", \"TUN\", \"NRW\", \"JIND\", \"ROK\", \"BGZ\", \"SSB\", \"DKZ\", \"NDLS\", \"FDB\", \"KSV\", \"MTJ\", \"RKM\", \"AGC\", \"DHO\", \"MRA\", \"GWL\", \"DBA\", \"DAA\", \"JHS\", \"BAB\", \"LAR\", \"BINA\", \"BAQ\", \"BHS\", \"BPL\", \"HBJ\", \"HBD\", \"ET\", \"BPF\", \"HD\", \"KKN\", \"KNW\", \"BAU\", \"BSL\", \"FZR\", \"FDK\", \"KKP\", \"GJUT\", \"GNA\", \"BTI\", \"JL\", \"CSN\", \"MMR\", \"NK\", \"DVL\", \"IGP\", \"KYN\", \"DR\", \"MAUR\", \"MSZ\", \"BLZ\", \"BRZ\", \"JHL\", \"TUN\", \"NRW\", \"JIND\", \"ROK\", \"BGZ\", \"SSB\", \"DKZ\", \"NDLS\", \"FDB\", \"KSV\", \"MTJ\", \"RKM\", \"AGC\", \"DHO\", \"MRA\", \"GWL\", \"DBA\", \"DAA\", \"JHS\", \"BAB\", \"LAR\", \"BINA\", \"BAQ\", \"BHS\", \"BPL\", \"HBJ\", \"HBD\", \"ET\", \"BPF\", \"HD\", \"KKN\", \"KNW\", \"BAU\", \"BSL\", \"FZR\", \"FDK\", \"KKP\", \"GJUT\", \"GNA\", \"BTI\", \"JL\", \"CSN\", \"MMR\", \"NK\", \"DVL\", \"IGP\", \"KYN\", \"DR\", \"MAUR\", \"MSZ\", \"BLZ\", \"BRZ\", \"JHL\", \"TUN\", \"NRW\", \"JIND\", \"ROK\", \"BGZ\", \"SSB\", \"DKZ\", \"NDLS\", \"FDB\", \"KSV\", \"MTJ\", \"RKM\", \"AGC\", \"DHO\", \"MRA\", \"GWL\", \"DBA\", \"DAA\", \"JHS\", \"BAB\", \"LAR\", \"BINA\", \"BAQ\", \"BHS\", \"BPL\", \"HBJ\", \"HBD\", \"ET\", \"BPF\", \"HD\", \"KKN\", \"KNW\", \"BAU\", \"BSL\", \"FZR\", \"FDK\", \"KKP\", \"GJUT\", \"GNA\", \"BTI\", \"JL\", \"CSN\", \"MMR\", \"NK\", \"DVL\", \"IGP\", \"KYN\", \"DR\", \"MAUR\", \"MSZ\", \"BLZ\", \"BRZ\", \"JHL\", \"TUN\", \"NRW\", \"JIND\", \"ROK\", \"BGZ\", \"SSB\", \"DKZ\", \"NDLS\", \"FDB\", \"KSV\", \"MTJ\", \"RKM\", \"AGC\", \"DHO\", \"MRA\", \"GWL\", \"DBA\", \"DAA\", \"JHS\", \"BAB\", \"LAR\", \"BINA\", \"BAQ\", \"BHS\", \"BPL\", \"HBJ\", \"HBD\", \"ET\", \"BPF\", \"HD\", \"KKN\", \"KNW\", \"BAU\", \"BSL\", \"FZR\", \"FDK\", \"KKP\", \"GJUT\", \"GNA\", \"BTI\", \"JL\", \"CSN\", \"MMR\", \"NK\", \"DVL\", \"IGP\", \"KYN\", \"DR\", \"MAUR\", \"MSZ\", \"BLZ\", \"BRZ\", \"JHL\", \"TUN\", \"NRW\", \"JIND\", \"ROK\", \"BGZ\", \"SSB\", \"DKZ\", \"NDLS\", \"FDB\", \"KSV\", \"MTJ\", \"RKM\", \"AGC\", \"DHO\", \"MRA\", \"GWL\", \"DBA\", \"DAA\", \"JHS\", \"BAB\", \"LAR\", \"BINA\", \"BAQ\", \"BHS\", \"BPL\", \"HBJ\", \"HBD\", \"ET\", \"BPF\", \"HD\", \"KKN\", \"KNW\", \"BAU\", \"BSL\", \"FZR\", \"FDK\", \"KKP\", \"GJUT\", \"GNA\", \"BTI\", \"JL\", \"CSN\", \"MMR\", \"NK\", \"DVL\", \"IGP\", \"KYN\", \"DR\", \"MAUR\", \"MSZ\", \"BLZ\", \"BRZ\", \"JHL\", \"TUN\", \"NRW\", \"JIND\", \"ROK\", \"BGZ\", \"SSB\", \"DKZ\", \"NDLS\", \"FDB\", \"KSV\", \"MTJ\", \"RKM\", \"AGC\", \"DHO\", \"MRA\", \"GWL\", \"DBA\", \"DAA\", \"JHS\", \"BAB\", \"LAR\", \"BINA\", \"BAQ\", \"BHS\", \"BPL\", \"HBJ\", \"HBD\", \"ET\", \"BPF\", \"HD\", \"KKN\", \"KNW\", \"BAU\", \"BSL\", \"FZR\", \"FDK\", \"KKP\", \"GJUT\", \"GNA\", \"BTI\", \"JL\", \"CSN\", \"MMR\", \"NK\", \"DVL\", \"IGP\", \"KYN\", \"DR\", \"MAUR\", \"MSZ\", \"BLZ\", \"BRZ\", \"JHL\", \"TUN\", \"NRW\", \"JIND\", \"ROK\", \"BGZ\", \"SSB\", \"DKZ\", \"NDLS\", \"FDB\", \"KSV\", \"MTJ\", \"RKM\", \"AGC\", \"DHO\", \"MRA\", \"GWL\", \"DBA\", \"DAA\", \"JHS\", \"BAB\", \"LAR\", \"BINA\", \"BAQ\", \"BHS\", \"BPL\", \"HBJ\", \"HBD\", \"ET\", \"BPF\", \"HD\", \"KKN\", \"KNW\", \"BAU\", \"BSL\", \"FZR\", \"FDK\", \"KKP\", \"GJUT\", \"GNA\", \"BTI\"], \"xaxis\": \"x\", \"y\": [7500, 8700, 10020, 9720, 9600, 6960, 13200, 11940, 660, 660, 720, 780, 720, 1500, 1440, 1140, 780, 840, -420, 120, -420, 240, 60, 540, 1260, 1200, 480, 240, 360, 660, 1020, -300, 2640, 2880, 7440, 7800, 7920, 8340, 8640, 8700, 9060, 10320, 10800, 10860, 10860, 10860, 9780, 0, 780, 360, 480, 360, -360, 4260, 4560, 4380, 4440, 4260, 1740, 2460, 1440, 660, 840, 840, 900, 600, 720, 840, 1380, 2040, 2700, 1800, 2160, 1500, 3540, 2220, 2760, 4680, 4560, 4080, 4020, 4140, 4380, 4800, 4200, 4620, 4980, 7020, 7140, 7140, 6240, 6780, 7080, 8640, 9000, 9300, 9420, 7680, 7620, 7620, 0, 420, 360, 480, 480, -120, 11700, 12300, 12420, 12600, 12360, 9480, 8700, 7320, 1860, 2220, 2400, 2700, 2640, 3060, 3420, 3300, 3180, 3300, 2160, 2160, 1800, 3780, 2160, 2280, 2580, 2760, 3900, 3600, 4320, 6060, 6420, 5340, 6180, 6240, 7500, 7920, 8220, 8460, 8520, 8820, 9000, 9540, 9960, 10260, 8280, 8160, 7200, 0, 420, 420, 660, 540, -420, 8400, 9240, 7680, 9240, 9120, 6300, 12480, 11160, 900, 1020, 1080, 1080, 720, 900, 960, 600, 240, 660, -600, 240, -360, 780, -480, 60, 480, 480, -60, -120, -120, 360, 3900, 3000, 9720, 9840, 9300, 9360, 9300, 9540, 9840, 9840, 9720, 11220, 11280, 11820, 11700, 12180, 12240, 0, 780, 1020, 1140, 1260, 720, 3120, 3900, 2100, 4260, 3960, 1080, 960, 0, 900, 1020, 1080, 1200, 1080, 1380, 1260, 1200, 900, 900, -420, 60, -120, 1500, 420, 900, 1260, 900, 240, 0, -420, 0, 540, -600, 720, 4740, 5160, 5580, 5520, 5400, 5520, 6360, 6720, 7380, 7560, 7500, 5520, 5460, 5520, 0, 360, 420, 540, 480, -240, 3720, 4440, 4260, 4620, 4380, 1860, 1440, 180, 180, 720, 660, 720, 360, 480, 540, 360, -120, 120, -1080, 0, -120, 780, 120, 60, 480, 1020, 480, 360, 0, 60, 360, -300, 660, 840, 2760, 3420, 3360, 2400, 2640, 2700, 2640, 3360, 3840, 3660, 1980, 1920, 1020, 0, 540, 600, 660, 600, -180, 1980, 2340, 1920, 240, 2340, -480, 60, 0, 840, 1020, 1020, 960, 840, 1020, 1020, 660, 300, 480, -720, 60, -300, 900, -60, 300, 660, 360, -60, 300, -120, 120, 420, -480, 2100, 2520, 2940, 2880, 3480, 2700, 2880, 2760, 2640, 3360, 3600, 4080, 2160, 2100, 1560, 0, 780, 900, 1080, 1080, 300], \"yaxis\": \"y\"}, {\"hovertemplate\": \"day_n=Saturday<br>stations_n=%{x}<br>ArrivalDelay_n=%{y}<extra></extra>\", \"legendgroup\": \"Saturday\", \"marker\": {\"color\": \"#ab63fa\", \"symbol\": \"circle\"}, \"mode\": \"markers\", \"name\": \"Saturday\", \"showlegend\": true, \"type\": \"scattergl\", \"x\": [\"JL\", \"CSN\", \"MMR\", \"NK\", \"DVL\", \"IGP\", \"KYN\", \"DR\", \"MAUR\", \"MSZ\", \"BLZ\", \"BRZ\", \"JHL\", \"TUN\", \"NRW\", \"JIND\", \"ROK\", \"BGZ\", \"SSB\", \"DKZ\", \"NDLS\", \"FDB\", \"KSV\", \"MTJ\", \"RKM\", \"AGC\", \"DHO\", \"MRA\", \"GWL\", \"DBA\", \"DAA\", \"JHS\", \"BAB\", \"LAR\", \"BINA\", \"BAQ\", \"BHS\", \"BPL\", \"HBJ\", \"HBD\", \"ET\", \"BPF\", \"HD\", \"KKN\", \"KNW\", \"BAU\", \"BSL\", \"FZR\", \"FDK\", \"KKP\", \"GJUT\", \"GNA\", \"BTI\", \"JL\", \"CSN\", \"MMR\", \"NK\", \"DVL\", \"IGP\", \"KYN\", \"DR\", \"MAUR\", \"MSZ\", \"BLZ\", \"BRZ\", \"JHL\", \"TUN\", \"NRW\", \"JIND\", \"ROK\", \"BGZ\", \"SSB\", \"DKZ\", \"NDLS\", \"FDB\", \"KSV\", \"MTJ\", \"RKM\", \"AGC\", \"DHO\", \"MRA\", \"GWL\", \"DBA\", \"DAA\", \"JHS\", \"BAB\", \"LAR\", \"BINA\", \"BAQ\", \"BHS\", \"BPL\", \"HBJ\", \"HBD\", \"ET\", \"BPF\", \"HD\", \"KKN\", \"KNW\", \"BAU\", \"BSL\", \"FZR\", \"FDK\", \"KKP\", \"GJUT\", \"GNA\", \"BTI\", \"JL\", \"CSN\", \"MMR\", \"NK\", \"DVL\", \"IGP\", \"KYN\", \"DR\", \"MAUR\", \"MSZ\", \"BLZ\", \"BRZ\", \"JHL\", \"TUN\", \"NRW\", \"JIND\", \"ROK\", \"BGZ\", \"SSB\", \"DKZ\", \"NDLS\", \"FDB\", \"KSV\", \"MTJ\", \"RKM\", \"AGC\", \"DHO\", \"MRA\", \"GWL\", \"DBA\", \"DAA\", \"JHS\", \"BAB\", \"LAR\", \"BINA\", \"BAQ\", \"BHS\", \"BPL\", \"HBJ\", \"HBD\", \"ET\", \"BPF\", \"HD\", \"KKN\", \"KNW\", \"BAU\", \"BSL\", \"FZR\", \"FDK\", \"KKP\", \"GJUT\", \"GNA\", \"BTI\", \"JL\", \"CSN\", \"MMR\", \"NK\", \"DVL\", \"IGP\", \"KYN\", \"DR\", \"MAUR\", \"MSZ\", \"BLZ\", \"BRZ\", \"JHL\", \"TUN\", \"NRW\", \"JIND\", \"ROK\", \"BGZ\", \"SSB\", \"DKZ\", \"NDLS\", \"FDB\", \"KSV\", \"MTJ\", \"RKM\", \"AGC\", \"DHO\", \"MRA\", \"GWL\", \"DBA\", \"DAA\", \"JHS\", \"BAB\", \"LAR\", \"BINA\", \"BAQ\", \"BHS\", \"BPL\", \"HBJ\", \"HBD\", \"ET\", \"BPF\", \"HD\", \"KKN\", \"KNW\", \"BAU\", \"BSL\", \"FZR\", \"FDK\", \"KKP\", \"GJUT\", \"GNA\", \"BTI\", \"JL\", \"CSN\", \"MMR\", \"NK\", \"DVL\", \"IGP\", \"KYN\", \"DR\", \"MAUR\", \"MSZ\", \"BLZ\", \"BRZ\", \"JHL\", \"TUN\", \"NRW\", \"JIND\", \"ROK\", \"BGZ\", \"SSB\", \"DKZ\", \"NDLS\", \"FDB\", \"KSV\", \"MTJ\", \"RKM\", \"AGC\", \"DHO\", \"MRA\", \"GWL\", \"DBA\", \"DAA\", \"JHS\", \"BAB\", \"LAR\", \"BINA\", \"BAQ\", \"BHS\", \"BPL\", \"HBJ\", \"HBD\", \"ET\", \"BPF\", \"HD\", \"KKN\", \"KNW\", \"BAU\", \"BSL\", \"FZR\", \"FDK\", \"KKP\", \"GJUT\", \"GNA\", \"BTI\", \"JL\", \"CSN\", \"MMR\", \"NK\", \"DVL\", \"IGP\", \"KYN\", \"DR\", \"MAUR\", \"MSZ\", \"BLZ\", \"BRZ\", \"JHL\", \"TUN\", \"NRW\", \"JIND\", \"ROK\", \"BGZ\", \"SSB\", \"DKZ\", \"NDLS\", \"FDB\", \"KSV\", \"MTJ\", \"RKM\", \"AGC\", \"DHO\", \"MRA\", \"GWL\", \"DBA\", \"DAA\", \"JHS\", \"BAB\", \"LAR\", \"BINA\", \"BAQ\", \"BHS\", \"BPL\", \"HBJ\", \"HBD\", \"ET\", \"BPF\", \"HD\", \"KKN\", \"KNW\", \"BAU\", \"BSL\", \"FZR\", \"FDK\", \"KKP\", \"GJUT\", \"GNA\", \"BTI\", \"JL\", \"CSN\", \"MMR\", \"NK\", \"DVL\", \"IGP\", \"KYN\", \"DR\", \"MAUR\", \"MSZ\", \"BLZ\", \"BRZ\", \"JHL\", \"TUN\", \"NRW\", \"JIND\", \"ROK\", \"BGZ\", \"SSB\", \"DKZ\", \"NDLS\", \"FDB\", \"KSV\", \"MTJ\", \"RKM\", \"AGC\", \"DHO\", \"MRA\", \"GWL\", \"DBA\", \"DAA\", \"JHS\", \"BAB\", \"LAR\", \"BINA\", \"BAQ\", \"BHS\", \"BPL\", \"HBJ\", \"HBD\", \"ET\", \"BPF\", \"HD\", \"KKN\", \"KNW\", \"BAU\", \"BSL\", \"FZR\", \"FDK\", \"KKP\", \"GJUT\", \"GNA\", \"BTI\"], \"xaxis\": \"x\", \"y\": [10440, 11760, 12660, 12840, 12600, 9720, 13680, 12300, 660, 840, 840, 840, 600, 720, 660, 300, 120, 180, -960, 240, -300, 1380, 2280, 5220, 7200, 7080, 7980, 7920, 9300, 9540, 9900, 8580, 8880, 8820, 8100, 8700, 8640, 7740, 7800, 8280, 8220, 9000, 9000, 9180, 7320, 7680, 7380, 0, 480, 660, 780, 720, 0, 7920, 7980, 7860, 7920, 7800, 5280, 4500, 4380, 600, 720, 780, 780, 540, 900, 960, 780, 240, 360, -480, 0, -300, 780, -240, 180, 900, 840, 540, 600, 1380, 2100, 2340, 3060, 3540, 4080, 3660, 3720, 3780, 3780, 3840, 4380, 4020, 5040, 5100, 4920, 3300, 3000, 2520, 0, 480, 360, 600, 420, -360, 8340, 8940, 8940, 9120, 9000, 6240, 6180, 5700, 900, 1320, 1500, 1740, 2100, 2700, 3060, 3120, 3840, 5400, 4380, 4740, 4500, 6540, 8220, 8880, 10080, 10500, 11460, 11100, 12120, 12360, 12600, 12240, 12720, 13500, 17580, 17520, 18420, 18180, 18600, 18900, 18900, 21000, 21480, 21300, 19620, 19620, 20100, 0, 840, 1080, 1200, 1260, 540, 12900, 13500, 14340, 16260, 16260, 13500, 13380, 12420, 1260, 1380, 1380, 1440, 1140, 1260, 1380, 1020, 720, 1020, -300, 0, -360, 660, -300, 120, 600, 420, 120, 180, 960, 1320, 1500, 780, 1680, 2280, 2280, 2460, 2460, 1860, 1860, 1920, 2100, 2640, 2760, 2580, 540, 660, 0, 0, 540, 660, 840, 960, 180, 5580, 6300, 7200, 7680, 7440, 4560, 5460, 4620, 900, 1020, 900, 960, 660, 840, 840, 660, 1020, 2280, 1020, 960, 600, 1320, 180, 540, 1020, 720, 540, 360, 300, 660, 1140, -60, 480, 540, 180, 660, 780, 120, 120, 360, 60, 780, 420, 720, -1200, 0, 420, 0, 360, 360, 420, 360, -420, 1320, 2220, 2580, 4200, 4200, 1440, 540, 1440, 720, 780, 1020, 1080, 840, 960, 1020, 720, 720, 720, 120, 0, -300, 900, -120, 300, 840, 540, 60, 360, 300, 480, 2700, 1560, 1740, 1860, 2160, 2100, 2220, 1560, 1740, 1440, 1620, 2040, 2400, 2580, 720, 720, 240, 0, 840, 1080, 1200, 1140, 240, 2040, 3120, 1200, 3120, 2820, -120, 420, 0, 540, 600, 540, 600, 240, 480, 480, 60, -420, 1140, -240, 60, -420, 420, 240, 240, 480, 240, 0, -120, 540, 660, 900, -420, 300, 300, -300, 240, 960, 60, 60, -300, -300, 60, 300, 180, -1620, 360, 360, 0, 480, 660, 720, 660, -240], \"yaxis\": \"y\"}, {\"hovertemplate\": \"day_n=Sunday<br>stations_n=%{x}<br>ArrivalDelay_n=%{y}<extra></extra>\", \"legendgroup\": \"Sunday\", \"marker\": {\"color\": \"#FFA15A\", \"symbol\": \"circle\"}, \"mode\": \"markers\", \"name\": \"Sunday\", \"showlegend\": true, \"type\": \"scattergl\", \"x\": [\"JL\", \"CSN\", \"MMR\", \"NK\", \"DVL\", \"IGP\", \"KYN\", \"DR\", \"MAUR\", \"MSZ\", \"BLZ\", \"BRZ\", \"JHL\", \"TUN\", \"NRW\", \"JIND\", \"ROK\", \"BGZ\", \"SSB\", \"DKZ\", \"NDLS\", \"FDB\", \"KSV\", \"MTJ\", \"RKM\", \"AGC\", \"DHO\", \"MRA\", \"GWL\", \"DBA\", \"DAA\", \"JHS\", \"BAB\", \"LAR\", \"BINA\", \"BAQ\", \"BHS\", \"BPL\", \"HBJ\", \"HBD\", \"ET\", \"BPF\", \"HD\", \"KKN\", \"KNW\", \"BAU\", \"BSL\", \"FZR\", \"FDK\", \"KKP\", \"GJUT\", \"GNA\", \"BTI\", \"JL\", \"CSN\", \"MMR\", \"NK\", \"DVL\", \"IGP\", \"KYN\", \"DR\", \"MAUR\", \"MSZ\", \"BLZ\", \"BRZ\", \"JHL\", \"TUN\", \"NRW\", \"JIND\", \"ROK\", \"BGZ\", \"SSB\", \"DKZ\", \"NDLS\", \"FDB\", \"KSV\", \"MTJ\", \"RKM\", \"AGC\", \"DHO\", \"MRA\", \"GWL\", \"DBA\", \"DAA\", \"JHS\", \"BAB\", \"LAR\", \"BINA\", \"BAQ\", \"BHS\", \"BPL\", \"HBJ\", \"HBD\", \"ET\", \"BPF\", \"HD\", \"KKN\", \"KNW\", \"BAU\", \"BSL\", \"FZR\", \"FDK\", \"KKP\", \"GJUT\", \"GNA\", \"BTI\", \"JL\", \"CSN\", \"MMR\", \"NK\", \"DVL\", \"IGP\", \"KYN\", \"DR\", \"MAUR\", \"MSZ\", \"BLZ\", \"BRZ\", \"JHL\", \"TUN\", \"NRW\", \"JIND\", \"ROK\", \"BGZ\", \"SSB\", \"DKZ\", \"NDLS\", \"FDB\", \"KSV\", \"MTJ\", \"RKM\", \"AGC\", \"DHO\", \"MRA\", \"GWL\", \"DBA\", \"DAA\", \"JHS\", \"BAB\", \"LAR\", \"BINA\", \"BAQ\", \"BHS\", \"BPL\", \"HBJ\", \"HBD\", \"ET\", \"BPF\", \"HD\", \"KKN\", \"KNW\", \"BAU\", \"BSL\", \"FZR\", \"FDK\", \"KKP\", \"GJUT\", \"GNA\", \"BTI\", \"JL\", \"CSN\", \"MMR\", \"NK\", \"DVL\", \"IGP\", \"KYN\", \"DR\", \"MAUR\", \"MSZ\", \"BLZ\", \"BRZ\", \"JHL\", \"TUN\", \"NRW\", \"JIND\", \"ROK\", \"BGZ\", \"SSB\", \"DKZ\", \"NDLS\", \"FDB\", \"KSV\", \"MTJ\", \"RKM\", \"AGC\", \"DHO\", \"MRA\", \"GWL\", \"DBA\", \"DAA\", \"JHS\", \"BAB\", \"LAR\", \"BINA\", \"BAQ\", \"BHS\", \"BPL\", \"HBJ\", \"HBD\", \"ET\", \"BPF\", \"HD\", \"KKN\", \"KNW\", \"BAU\", \"BSL\", \"FZR\", \"FDK\", \"KKP\", \"GJUT\", \"GNA\", \"BTI\", \"JL\", \"CSN\", \"MMR\", \"NK\", \"DVL\", \"IGP\", \"KYN\", \"DR\", \"MAUR\", \"MSZ\", \"BLZ\", \"BRZ\", \"JHL\", \"TUN\", \"NRW\", \"JIND\", \"ROK\", \"BGZ\", \"SSB\", \"DKZ\", \"NDLS\", \"FDB\", \"KSV\", \"MTJ\", \"RKM\", \"AGC\", \"DHO\", \"MRA\", \"GWL\", \"DBA\", \"DAA\", \"JHS\", \"BAB\", \"LAR\", \"BINA\", \"BAQ\", \"BHS\", \"BPL\", \"HBJ\", \"HBD\", \"ET\", \"BPF\", \"HD\", \"KKN\", \"KNW\", \"BAU\", \"BSL\", \"FZR\", \"FDK\", \"KKP\", \"GJUT\", \"GNA\", \"BTI\", \"JL\", \"CSN\", \"MMR\", \"NK\", \"DVL\", \"IGP\", \"KYN\", \"DR\", \"MAUR\", \"MSZ\", \"BLZ\", \"BRZ\", \"JHL\", \"TUN\", \"NRW\", \"JIND\", \"ROK\", \"BGZ\", \"SSB\", \"DKZ\", \"NDLS\", \"FDB\", \"KSV\", \"MTJ\", \"RKM\", \"AGC\", \"DHO\", \"MRA\", \"GWL\", \"DBA\", \"DAA\", \"JHS\", \"BAB\", \"LAR\", \"BINA\", \"BAQ\", \"BHS\", \"BPL\", \"HBJ\", \"HBD\", \"ET\", \"BPF\", \"HD\", \"KKN\", \"KNW\", \"BAU\", \"BSL\", \"FZR\", \"FDK\", \"KKP\", \"GJUT\", \"GNA\", \"BTI\", \"JL\", \"CSN\", \"MMR\", \"NK\", \"DVL\", \"IGP\", \"KYN\", \"DR\", \"MAUR\", \"MSZ\", \"BLZ\", \"BRZ\", \"JHL\", \"TUN\", \"NRW\", \"JIND\", \"ROK\", \"BGZ\", \"SSB\", \"DKZ\", \"NDLS\", \"FDB\", \"KSV\", \"MTJ\", \"RKM\", \"AGC\", \"DHO\", \"MRA\", \"GWL\", \"DBA\", \"DAA\", \"JHS\", \"BAB\", \"LAR\", \"BINA\", \"BAQ\", \"BHS\", \"BPL\", \"HBJ\", \"HBD\", \"ET\", \"BPF\", \"HD\", \"KKN\", \"KNW\", \"BAU\", \"BSL\", \"FZR\", \"FDK\", \"KKP\", \"GJUT\", \"GNA\", \"BTI\"], \"xaxis\": \"x\", \"y\": [8040, 8520, 8580, 8520, 8640, 6240, 7260, 7260, 780, 960, 1020, 1020, 840, 960, 960, 780, 1440, 1620, 540, 420, 0, 540, -60, 720, 3720, 3840, 6180, 7020, 7740, 7680, 7980, 6660, 7080, 7020, 6960, 7860, 8040, 7080, 7260, 8100, 8160, 8760, 8820, 8580, 6420, 6960, 6180, 0, 420, 480, 600, 480, -240, 2940, 3420, 3660, 4020, 3900, 1440, 960, 0, 900, 1080, 1080, 1140, 840, 960, 1080, 720, 480, 840, -180, 600, 240, 780, -60, 300, 660, 720, 420, 660, 780, 1140, 1320, 3600, 4260, 4260, 5040, 4980, 5040, 4200, 4200, 4380, 4260, 4620, 4740, 4620, 3060, 3300, 2340, 0, 420, 480, 720, 660, -120, 20460, 21120, 21780, 23280, 23160, 20100, 20100, 20100, 1380, 1620, 1800, 2040, 2100, 2340, 2880, 3000, 5100, 5760, 4740, 4740, 4140, 5340, 6480, 7260, 8460, 8220, 7980, 7740, 8040, 8640, 9480, 9000, 9540, 11100, 12300, 13080, 13080, 12180, 12300, 13440, 13740, 15540, 16260, 16140, 14580, 14760, 14160, 0, 660, 720, 1020, 1200, 480, 360, 900, 780, 2460, 2520, -240, 60, 0, 1200, 1320, 1260, 1320, 960, 1020, 1080, 660, 180, 420, -420, 0, -360, 2280, 1980, 1620, 2040, 1740, 1740, 1440, 720, 1200, 1560, 2040, 3360, 3480, 3000, 2940, 2880, 3480, 3420, 3960, 4020, 4740, 4980, 4860, 2700, 4200, 3600, 0, 540, 540, 720, 720, -180, 1020, 2160, 1920, 3240, 3180, 480, -60, 0, 300, 900, 900, 1020, 960, 1140, 1320, 1080, 1260, 1620, 600, 600, 60, 720, -480, 0, 600, 540, -60, 1200, 1140, 1560, 2940, 2400, 2580, 2700, 2220, 2100, 2520, 1440, 1440, 1260, 960, 1860, 1860, 1680, -240, 0, -420, 0, 660, 900, 1020, 900, 60, 540, 1080, 1860, 2280, 2220, -600, -60, 0, 1620, 1260, 900, 780, 420, 540, 600, 240, -240, 60, -1020, 120, -120, 780, 60, 600, 1080, 960, 600, 420, 900, 1260, 1620, 240, 660, 780, 120, 1200, 1080, 60, 60, 300, 180, 600, 960, 1560, -360, 360, -240, 0, 480, 660, 1020, 1080, 180, 720, 1380, 1200, 2580, 2280, -480, 420, 0, 540, 660, 660, 660, 360, 540, 540, 240, 300, 540, 0, 0, 0, 540, 0, 120, 540, 180, -240, -120, 1200, 1260, 1380, 240, 720, 780, 360, 420, 780, 180, 360, 720, 780, 1020, 1200, 1020, -840, -60, 120, 0, 540, 660, 780, 720, -60], \"yaxis\": \"y\"}, {\"hovertemplate\": \"day_n=Monday<br>stations_n=%{x}<br>ArrivalDelay_n=%{y}<extra></extra>\", \"legendgroup\": \"Monday\", \"marker\": {\"color\": \"#19d3f3\", \"symbol\": \"circle\"}, \"mode\": \"markers\", \"name\": \"Monday\", \"showlegend\": true, \"type\": \"scattergl\", \"x\": [\"JL\", \"CSN\", \"MMR\", \"NK\", \"DVL\", \"IGP\", \"KYN\", \"DR\", \"MAUR\", \"MSZ\", \"BLZ\", \"BRZ\", \"JHL\", \"TUN\", \"NRW\", \"JIND\", \"ROK\", \"BGZ\", \"SSB\", \"DKZ\", \"NDLS\", \"FDB\", \"KSV\", \"MTJ\", \"RKM\", \"AGC\", \"DHO\", \"MRA\", \"GWL\", \"DBA\", \"DAA\", \"JHS\", \"BAB\", \"LAR\", \"BINA\", \"BAQ\", \"BHS\", \"BPL\", \"HBJ\", \"HBD\", \"ET\", \"BPF\", \"HD\", \"KKN\", \"KNW\", \"BAU\", \"BSL\", \"FZR\", \"FDK\", \"KKP\", \"GJUT\", \"GNA\", \"BTI\", \"JL\", \"CSN\", \"MMR\", \"NK\", \"DVL\", \"IGP\", \"KYN\", \"DR\", \"MAUR\", \"MSZ\", \"BLZ\", \"BRZ\", \"JHL\", \"TUN\", \"NRW\", \"JIND\", \"ROK\", \"BGZ\", \"SSB\", \"DKZ\", \"NDLS\", \"FDB\", \"KSV\", \"MTJ\", \"RKM\", \"AGC\", \"DHO\", \"MRA\", \"GWL\", \"DBA\", \"DAA\", \"JHS\", \"BAB\", \"LAR\", \"BINA\", \"BAQ\", \"BHS\", \"BPL\", \"HBJ\", \"HBD\", \"ET\", \"BPF\", \"HD\", \"KKN\", \"KNW\", \"BAU\", \"BSL\", \"FZR\", \"FDK\", \"KKP\", \"GJUT\", \"GNA\", \"BTI\", \"JL\", \"CSN\", \"MMR\", \"NK\", \"DVL\", \"IGP\", \"KYN\", \"DR\", \"MAUR\", \"MSZ\", \"BLZ\", \"BRZ\", \"JHL\", \"TUN\", \"NRW\", \"JIND\", \"ROK\", \"BGZ\", \"SSB\", \"DKZ\", \"NDLS\", \"FDB\", \"KSV\", \"MTJ\", \"RKM\", \"AGC\", \"DHO\", \"MRA\", \"GWL\", \"DBA\", \"DAA\", \"JHS\", \"BAB\", \"LAR\", \"BINA\", \"BAQ\", \"BHS\", \"BPL\", \"HBJ\", \"HBD\", \"ET\", \"BPF\", \"HD\", \"KKN\", \"KNW\", \"BAU\", \"BSL\", \"FZR\", \"FDK\", \"KKP\", \"GJUT\", \"GNA\", \"BTI\", \"JL\", \"CSN\", \"MMR\", \"NK\", \"DVL\", \"IGP\", \"KYN\", \"DR\", \"MAUR\", \"MSZ\", \"BLZ\", \"BRZ\", \"JHL\", \"TUN\", \"NRW\", \"JIND\", \"ROK\", \"BGZ\", \"SSB\", \"DKZ\", \"NDLS\", \"FDB\", \"KSV\", \"MTJ\", \"RKM\", \"AGC\", \"DHO\", \"MRA\", \"GWL\", \"DBA\", \"DAA\", \"JHS\", \"BAB\", \"LAR\", \"BINA\", \"BAQ\", \"BHS\", \"BPL\", \"HBJ\", \"HBD\", \"ET\", \"BPF\", \"HD\", \"KKN\", \"KNW\", \"BAU\", \"BSL\", \"FZR\", \"FDK\", \"KKP\", \"GJUT\", \"GNA\", \"BTI\", \"JL\", \"CSN\", \"MMR\", \"NK\", \"DVL\", \"IGP\", \"KYN\", \"DR\", \"MAUR\", \"MSZ\", \"BLZ\", \"BRZ\", \"JHL\", \"TUN\", \"NRW\", \"JIND\", \"ROK\", \"BGZ\", \"SSB\", \"DKZ\", \"NDLS\", \"FDB\", \"KSV\", \"MTJ\", \"RKM\", \"AGC\", \"DHO\", \"MRA\", \"GWL\", \"DBA\", \"DAA\", \"JHS\", \"BAB\", \"LAR\", \"BINA\", \"BAQ\", \"BHS\", \"BPL\", \"HBJ\", \"HBD\", \"ET\", \"BPF\", \"HD\", \"KKN\", \"KNW\", \"BAU\", \"BSL\", \"FZR\", \"FDK\", \"KKP\", \"GJUT\", \"GNA\", \"BTI\", \"JL\", \"CSN\", \"MMR\", \"NK\", \"DVL\", \"IGP\", \"KYN\", \"DR\", \"MAUR\", \"MSZ\", \"BLZ\", \"BRZ\", \"JHL\", \"TUN\", \"NRW\", \"JIND\", \"ROK\", \"BGZ\", \"SSB\", \"DKZ\", \"NDLS\", \"FDB\", \"KSV\", \"MTJ\", \"RKM\", \"AGC\", \"DHO\", \"MRA\", \"GWL\", \"DBA\", \"DAA\", \"JHS\", \"BAB\", \"LAR\", \"BINA\", \"BAQ\", \"BHS\", \"BPL\", \"HBJ\", \"HBD\", \"ET\", \"BPF\", \"HD\", \"KKN\", \"KNW\", \"BAU\", \"BSL\", \"FZR\", \"FDK\", \"KKP\", \"GJUT\", \"GNA\", \"BTI\", \"JL\", \"CSN\", \"MMR\", \"NK\", \"DVL\", \"IGP\", \"KYN\", \"DR\", \"MAUR\", \"MSZ\", \"BLZ\", \"BRZ\", \"JHL\", \"TUN\", \"NRW\", \"JIND\", \"ROK\", \"BGZ\", \"SSB\", \"DKZ\", \"NDLS\", \"FDB\", \"KSV\", \"MTJ\", \"RKM\", \"AGC\", \"DHO\", \"MRA\", \"GWL\", \"DBA\", \"DAA\", \"JHS\", \"BAB\", \"LAR\", \"BINA\", \"BAQ\", \"BHS\", \"BPL\", \"HBJ\", \"HBD\", \"ET\", \"BPF\", \"HD\", \"KKN\", \"KNW\", \"BAU\", \"BSL\", \"FZR\", \"FDK\", \"KKP\", \"GJUT\", \"GNA\", \"BTI\"], \"xaxis\": \"x\", \"y\": [7320, 8160, 10920, 11400, 11400, 8640, 13740, 13740, 780, 1200, 1560, 1560, 1440, 1620, 1560, 1380, 1080, 1320, 60, 240, -300, 540, -480, 360, 1440, 1260, 2700, 2820, 5040, 5040, 6120, 5940, 6360, 7320, 8880, 9360, 9840, 9600, 9780, 10440, 10620, 11160, 11280, 11160, 10920, 11520, 11820, 0, 360, 360, 720, 660, -120, 2580, 2880, 3180, 4020, 4080, 1680, 1080, 600, 1080, 1080, 1080, 1080, 720, 780, 900, 480, 120, 120, -900, 120, -300, 1680, 480, 780, 900, 780, 360, 600, 1560, 2160, 2460, 4680, 5100, 5820, 9420, 9420, 9720, 9240, 9240, 9300, 9000, 9540, 9540, 9360, 7560, 7560, 6600, 0, 660, 720, 900, 840, 180, 14700, 15000, 14940, 16320, 16080, 13140, 12600, 11160, 1500, 1860, 2160, 2520, 2520, 2760, 3300, 3420, 3420, 3480, 2400, 2280, 1920, 3480, 4920, 6480, 10140, 9840, 10680, 10380, 11100, 11580, 11820, 10800, 11220, 11700, 12660, 13380, 13260, 12480, 12420, 13260, 13380, 13620, 13680, 13440, 11400, 11760, 11100, 0, 420, 1140, 1740, 1800, 1080, 3660, 4920, 3600, 5280, 5160, 2280, 2340, 1080, 840, 900, 960, 1020, 720, 780, 900, 540, 180, 660, -240, 180, -480, 600, -180, -60, 1200, 840, 240, 660, 120, 360, 780, 900, 1200, 1440, 2100, 2040, 1920, 1740, 1740, 1740, 1620, 2100, 2340, 2340, 1680, 2160, 2700, 0, 1200, 1140, 1380, 1320, 480, 240, 1080, 2460, 3120, 2940, 120, 300, 0, 600, 720, 720, 720, 420, 540, 600, 180, -300, 540, -420, 120, -300, 960, 60, 660, 1860, 1560, 1920, 2220, 3480, 4620, 5820, 6600, 6840, 8280, 7680, 7680, 7800, 6840, 6840, 6540, 6360, 6840, 7440, 7620, 5700, 5700, 5400, 0, 240, 300, 360, 360, -360, 480, 1080, 1920, 2340, 2220, -660, 0, 0, 840, 960, 960, 1020, 720, 840, 960, 540, 120, 180, -1080, 60, -60, 900, 300, 600, 1080, 900, 480, 960, 2160, 2220, 4380, 3180, 3360, 3360, 2700, 2880, 2820, 2040, 2520, 3060, 2820, 3900, 4200, 4080, 2280, 2460, 1740, 0, 480, 660, 900, 1080, 420, 480, 1740, 1920, 3240, 3120, 180, 300, 0, 720, 840, 840, 960, 900, 1080, 1140, 780, 360, 420, -660, 60, -300, 960, -120, 240, 540, 480, 0, 360, 1440, 1500, 1860, 1200, 1560, 2940, 3780, 3600, 3480, 3360, 3420, 3540, 3360, 3660, 3840, 3600, 1800, 2100, 1560, 0, 360, 600, 780, 780, -60], \"yaxis\": \"y\"}, {\"hovertemplate\": \"day_n=Tuesday<br>stations_n=%{x}<br>ArrivalDelay_n=%{y}<extra></extra>\", \"legendgroup\": \"Tuesday\", \"marker\": {\"color\": \"#FF6692\", \"symbol\": \"circle\"}, \"mode\": \"markers\", \"name\": \"Tuesday\", \"showlegend\": true, \"type\": \"scattergl\", \"x\": [\"JL\", \"CSN\", \"MMR\", \"NK\", \"DVL\", \"IGP\", \"KYN\", \"DR\", \"MAUR\", \"MSZ\", \"BLZ\", \"BRZ\", \"JHL\", \"TUN\", \"NRW\", \"JIND\", \"ROK\", \"BGZ\", \"SSB\", \"DKZ\", \"NDLS\", \"FDB\", \"KSV\", \"MTJ\", \"RKM\", \"AGC\", \"DHO\", \"MRA\", \"GWL\", \"DBA\", \"DAA\", \"JHS\", \"BAB\", \"LAR\", \"BINA\", \"BAQ\", \"BHS\", \"BPL\", \"HBJ\", \"HBD\", \"ET\", \"BPF\", \"HD\", \"KKN\", \"KNW\", \"BAU\", \"BSL\", \"FZR\", \"FDK\", \"KKP\", \"GJUT\", \"GNA\", \"BTI\", \"JL\", \"CSN\", \"MMR\", \"NK\", \"DVL\", \"IGP\", \"KYN\", \"DR\", \"MAUR\", \"MSZ\", \"BLZ\", \"BRZ\", \"JHL\", \"TUN\", \"NRW\", \"JIND\", \"ROK\", \"BGZ\", \"SSB\", \"DKZ\", \"NDLS\", \"FDB\", \"KSV\", \"MTJ\", \"RKM\", \"AGC\", \"DHO\", \"MRA\", \"GWL\", \"DBA\", \"DAA\", \"JHS\", \"BAB\", \"LAR\", \"BINA\", \"BAQ\", \"BHS\", \"BPL\", \"HBJ\", \"HBD\", \"ET\", \"BPF\", \"HD\", \"KKN\", \"KNW\", \"BAU\", \"BSL\", \"FZR\", \"FDK\", \"KKP\", \"GJUT\", \"GNA\", \"BTI\", \"JL\", \"CSN\", \"MMR\", \"NK\", \"DVL\", \"IGP\", \"KYN\", \"DR\", \"MAUR\", \"MSZ\", \"BLZ\", \"BRZ\", \"JHL\", \"TUN\", \"NRW\", \"JIND\", \"ROK\", \"BGZ\", \"SSB\", \"DKZ\", \"NDLS\", \"FDB\", \"KSV\", \"MTJ\", \"RKM\", \"AGC\", \"DHO\", \"MRA\", \"GWL\", \"DBA\", \"DAA\", \"JHS\", \"BAB\", \"LAR\", \"BINA\", \"BAQ\", \"BHS\", \"BPL\", \"HBJ\", \"HBD\", \"ET\", \"BPF\", \"HD\", \"KKN\", \"KNW\", \"BAU\", \"BSL\", \"FZR\", \"FDK\", \"KKP\", \"GJUT\", \"GNA\", \"BTI\", \"JL\", \"CSN\", \"MMR\", \"NK\", \"DVL\", \"IGP\", \"KYN\", \"DR\", \"MAUR\", \"MSZ\", \"BLZ\", \"BRZ\", \"JHL\", \"TUN\", \"NRW\", \"JIND\", \"ROK\", \"BGZ\", \"SSB\", \"DKZ\", \"NDLS\", \"FDB\", \"KSV\", \"MTJ\", \"RKM\", \"AGC\", \"DHO\", \"MRA\", \"GWL\", \"DBA\", \"DAA\", \"JHS\", \"BAB\", \"LAR\", \"BINA\", \"BAQ\", \"BHS\", \"BPL\", \"HBJ\", \"HBD\", \"ET\", \"BPF\", \"HD\", \"KKN\", \"KNW\", \"BAU\", \"BSL\", \"FZR\", \"FDK\", \"KKP\", \"GJUT\", \"GNA\", \"BTI\", \"JL\", \"CSN\", \"MMR\", \"NK\", \"DVL\", \"IGP\", \"KYN\", \"DR\", \"MAUR\", \"MSZ\", \"BLZ\", \"BRZ\", \"JHL\", \"TUN\", \"NRW\", \"JIND\", \"ROK\", \"BGZ\", \"SSB\", \"DKZ\", \"NDLS\", \"FDB\", \"KSV\", \"MTJ\", \"RKM\", \"AGC\", \"DHO\", \"MRA\", \"GWL\", \"DBA\", \"DAA\", \"JHS\", \"BAB\", \"LAR\", \"BINA\", \"BAQ\", \"BHS\", \"BPL\", \"HBJ\", \"HBD\", \"ET\", \"BPF\", \"HD\", \"KKN\", \"KNW\", \"BAU\", \"BSL\", \"FZR\", \"FDK\", \"KKP\", \"GJUT\", \"GNA\", \"BTI\", \"JL\", \"CSN\", \"MMR\", \"NK\", \"DVL\", \"IGP\", \"KYN\", \"DR\", \"MAUR\", \"MSZ\", \"BLZ\", \"BRZ\", \"JHL\", \"TUN\", \"NRW\", \"JIND\", \"ROK\", \"BGZ\", \"SSB\", \"DKZ\", \"NDLS\", \"FDB\", \"KSV\", \"MTJ\", \"RKM\", \"AGC\", \"DHO\", \"MRA\", \"GWL\", \"DBA\", \"DAA\", \"JHS\", \"BAB\", \"LAR\", \"BINA\", \"BAQ\", \"BHS\", \"BPL\", \"HBJ\", \"HBD\", \"ET\", \"BPF\", \"HD\", \"KKN\", \"KNW\", \"BAU\", \"BSL\", \"FZR\", \"FDK\", \"KKP\", \"GJUT\", \"GNA\", \"BTI\", \"JL\", \"CSN\", \"MMR\", \"NK\", \"DVL\", \"IGP\", \"KYN\", \"DR\", \"MAUR\", \"MSZ\", \"BLZ\", \"BRZ\", \"JHL\", \"TUN\", \"NRW\", \"JIND\", \"ROK\", \"BGZ\", \"SSB\", \"DKZ\", \"NDLS\", \"FDB\", \"KSV\", \"MTJ\", \"RKM\", \"AGC\", \"DHO\", \"MRA\", \"GWL\", \"DBA\", \"DAA\", \"JHS\", \"BAB\", \"LAR\", \"BINA\", \"BAQ\", \"BHS\", \"BPL\", \"HBJ\", \"HBD\", \"ET\", \"BPF\", \"HD\", \"KKN\", \"KNW\", \"BAU\", \"BSL\", \"FZR\", \"FDK\", \"KKP\", \"GJUT\", \"GNA\", \"BTI\"], \"xaxis\": \"x\", \"y\": [12660, 13080, 16380, 18120, 18060, 17100, 21720, 21720, 660, 840, 900, 900, 660, 780, 780, 480, 0, 120, -780, 480, 0, 840, -900, 60, 360, 60, -720, -240, 900, 1080, 1560, 1020, 2040, 3060, 6960, 7620, 7980, 7380, 7500, 7620, 8100, 8820, 9180, 9000, 6840, 6660, 6060, 0, 480, 540, 720, 720, 1080, 7260, 8820, 7560, 9120, 9060, 6480, 7320, 5760, 960, 1380, 1620, 1860, 1800, 2160, 2700, 2580, 2280, 2520, 1320, 1140, 600, 1380, 60, 600, 2040, 1800, 1620, 1260, 780, 1020, 1200, 60, 1020, 900, 1020, 1140, 1500, 600, 660, 840, 660, 1200, 1380, 1260, -660, 60, -300, 0, 420, 540, 600, 540, -300, 11760, 12060, 12060, 12180, 12120, 9240, 8460, 7500, 1800, 1980, 2040, 2220, 2220, 2460, 2760, 2820, 3900, 4620, 3540, 3540, 3000, 3960, 7080, 8760, 10920, 10680, 11100, 12060, 12240, 12600, 12840, 12900, 13140, 13020, 13680, 14340, 14340, 13320, 13260, 13320, 13380, 13860, 14940, 14760, 13440, 13920, 13980, 0, 540, 600, 780, 720, -60, 3120, 3660, 4020, 4260, 4080, 1380, 1140, 420, 1140, 1260, 1260, 1380, 1080, 1140, 1200, 1200, 1020, 1620, 420, 480, -60, 720, 0, 60, 600, 300, 1980, 1740, 1260, 1620, 1740, 600, 3480, 4020, 6120, 7440, 7860, 6960, 6960, 7680, 7800, 8340, 8700, 8760, 6960, 6780, 6300, 0, 300, 180, 180, 120, -780, 5580, 6600, 5880, 8340, 8220, 5580, 5700, 4260, 600, 780, 780, 840, 480, 600, 720, 360, -60, 60, -420, 0, -180, 960, 0, 60, 840, 600, 60, 120, 720, 900, 1080, -120, 780, 1380, 2940, 3180, 3300, 3300, 3300, 3420, 3300, 3600, 3960, 3960, 2100, 2100, 1380, 0, 420, 420, 480, 420, -540, 3180, 3840, 4440, 5100, 4860, 1920, 1680, 900, 1440, 1740, 1740, 1740, 1440, 1560, 1620, 1140, 840, 1380, 60, 120, -180, 540, -840, 300, 780, 360, -300, -120, 840, 840, 1080, -120, 780, 840, 540, 720, 720, -180, 0, -360, -180, 120, 1920, 1800, -120, 720, 480, 0, 780, 960, 1020, 840, 180, 2280, 3000, 3120, 3600, 3420, 420, 1680, 240, 600, 720, 780, 780, 480, 660, 660, 360, -120, 180, -900, 0, 180, 600, 180, 300, 780, 780, 300, 660, 900, 1020, 1260, 840, 1200, 1320, 2460, 2580, 3000, 2700, 3060, 3300, 3180, 3540, 3840, 3600, 1920, 1800, 1860, 0, 720, 960, 1020, 960, 60], \"yaxis\": \"y\"}],                        {\"legend\": {\"title\": {\"text\": \"day_n\"}, \"tracegroupgap\": 0}, \"margin\": {\"t\": 60}, \"template\": {\"data\": {\"bar\": [{\"error_x\": {\"color\": \"#2a3f5f\"}, \"error_y\": {\"color\": \"#2a3f5f\"}, \"marker\": {\"line\": {\"color\": \"#E5ECF6\", \"width\": 0.5}}, \"type\": \"bar\"}], \"barpolar\": [{\"marker\": {\"line\": {\"color\": \"#E5ECF6\", \"width\": 0.5}}, \"type\": \"barpolar\"}], \"carpet\": [{\"aaxis\": {\"endlinecolor\": \"#2a3f5f\", \"gridcolor\": \"white\", \"linecolor\": \"white\", \"minorgridcolor\": \"white\", \"startlinecolor\": \"#2a3f5f\"}, \"baxis\": {\"endlinecolor\": \"#2a3f5f\", \"gridcolor\": \"white\", \"linecolor\": \"white\", \"minorgridcolor\": \"white\", \"startlinecolor\": \"#2a3f5f\"}, \"type\": \"carpet\"}], \"choropleth\": [{\"colorbar\": {\"outlinewidth\": 0, \"ticks\": \"\"}, \"type\": \"choropleth\"}], \"contour\": [{\"colorbar\": {\"outlinewidth\": 0, \"ticks\": \"\"}, \"colorscale\": [[0.0, \"#0d0887\"], [0.1111111111111111, \"#46039f\"], [0.2222222222222222, \"#7201a8\"], [0.3333333333333333, \"#9c179e\"], [0.4444444444444444, \"#bd3786\"], [0.5555555555555556, \"#d8576b\"], [0.6666666666666666, \"#ed7953\"], [0.7777777777777778, \"#fb9f3a\"], [0.8888888888888888, \"#fdca26\"], [1.0, \"#f0f921\"]], \"type\": \"contour\"}], \"contourcarpet\": [{\"colorbar\": {\"outlinewidth\": 0, \"ticks\": \"\"}, \"type\": \"contourcarpet\"}], \"heatmap\": [{\"colorbar\": {\"outlinewidth\": 0, \"ticks\": \"\"}, \"colorscale\": [[0.0, \"#0d0887\"], [0.1111111111111111, \"#46039f\"], [0.2222222222222222, \"#7201a8\"], [0.3333333333333333, \"#9c179e\"], [0.4444444444444444, \"#bd3786\"], [0.5555555555555556, \"#d8576b\"], [0.6666666666666666, \"#ed7953\"], [0.7777777777777778, \"#fb9f3a\"], [0.8888888888888888, \"#fdca26\"], [1.0, \"#f0f921\"]], \"type\": \"heatmap\"}], \"heatmapgl\": [{\"colorbar\": {\"outlinewidth\": 0, \"ticks\": \"\"}, \"colorscale\": [[0.0, \"#0d0887\"], [0.1111111111111111, \"#46039f\"], [0.2222222222222222, \"#7201a8\"], [0.3333333333333333, \"#9c179e\"], [0.4444444444444444, \"#bd3786\"], [0.5555555555555556, \"#d8576b\"], [0.6666666666666666, \"#ed7953\"], [0.7777777777777778, \"#fb9f3a\"], [0.8888888888888888, \"#fdca26\"], [1.0, \"#f0f921\"]], \"type\": \"heatmapgl\"}], \"histogram\": [{\"marker\": {\"colorbar\": {\"outlinewidth\": 0, \"ticks\": \"\"}}, \"type\": \"histogram\"}], \"histogram2d\": [{\"colorbar\": {\"outlinewidth\": 0, \"ticks\": \"\"}, \"colorscale\": [[0.0, \"#0d0887\"], [0.1111111111111111, \"#46039f\"], [0.2222222222222222, \"#7201a8\"], [0.3333333333333333, \"#9c179e\"], [0.4444444444444444, \"#bd3786\"], [0.5555555555555556, \"#d8576b\"], [0.6666666666666666, \"#ed7953\"], [0.7777777777777778, \"#fb9f3a\"], [0.8888888888888888, \"#fdca26\"], [1.0, \"#f0f921\"]], \"type\": \"histogram2d\"}], \"histogram2dcontour\": [{\"colorbar\": {\"outlinewidth\": 0, \"ticks\": \"\"}, \"colorscale\": [[0.0, \"#0d0887\"], [0.1111111111111111, \"#46039f\"], [0.2222222222222222, \"#7201a8\"], [0.3333333333333333, \"#9c179e\"], [0.4444444444444444, \"#bd3786\"], [0.5555555555555556, \"#d8576b\"], [0.6666666666666666, \"#ed7953\"], [0.7777777777777778, \"#fb9f3a\"], [0.8888888888888888, \"#fdca26\"], [1.0, \"#f0f921\"]], \"type\": \"histogram2dcontour\"}], \"mesh3d\": [{\"colorbar\": {\"outlinewidth\": 0, \"ticks\": \"\"}, \"type\": \"mesh3d\"}], \"parcoords\": [{\"line\": {\"colorbar\": {\"outlinewidth\": 0, \"ticks\": \"\"}}, \"type\": \"parcoords\"}], \"pie\": [{\"automargin\": true, \"type\": \"pie\"}], \"scatter\": [{\"marker\": {\"colorbar\": {\"outlinewidth\": 0, \"ticks\": \"\"}}, \"type\": \"scatter\"}], \"scatter3d\": [{\"line\": {\"colorbar\": {\"outlinewidth\": 0, \"ticks\": \"\"}}, \"marker\": {\"colorbar\": {\"outlinewidth\": 0, \"ticks\": \"\"}}, \"type\": \"scatter3d\"}], \"scattercarpet\": [{\"marker\": {\"colorbar\": {\"outlinewidth\": 0, \"ticks\": \"\"}}, \"type\": \"scattercarpet\"}], \"scattergeo\": [{\"marker\": {\"colorbar\": {\"outlinewidth\": 0, \"ticks\": \"\"}}, \"type\": \"scattergeo\"}], \"scattergl\": [{\"marker\": {\"colorbar\": {\"outlinewidth\": 0, \"ticks\": \"\"}}, \"type\": \"scattergl\"}], \"scattermapbox\": [{\"marker\": {\"colorbar\": {\"outlinewidth\": 0, \"ticks\": \"\"}}, \"type\": \"scattermapbox\"}], \"scatterpolar\": [{\"marker\": {\"colorbar\": {\"outlinewidth\": 0, \"ticks\": \"\"}}, \"type\": \"scatterpolar\"}], \"scatterpolargl\": [{\"marker\": {\"colorbar\": {\"outlinewidth\": 0, \"ticks\": \"\"}}, \"type\": \"scatterpolargl\"}], \"scatterternary\": [{\"marker\": {\"colorbar\": {\"outlinewidth\": 0, \"ticks\": \"\"}}, \"type\": \"scatterternary\"}], \"surface\": [{\"colorbar\": {\"outlinewidth\": 0, \"ticks\": \"\"}, \"colorscale\": [[0.0, \"#0d0887\"], [0.1111111111111111, \"#46039f\"], [0.2222222222222222, \"#7201a8\"], [0.3333333333333333, \"#9c179e\"], [0.4444444444444444, \"#bd3786\"], [0.5555555555555556, \"#d8576b\"], [0.6666666666666666, \"#ed7953\"], [0.7777777777777778, \"#fb9f3a\"], [0.8888888888888888, \"#fdca26\"], [1.0, \"#f0f921\"]], \"type\": \"surface\"}], \"table\": [{\"cells\": {\"fill\": {\"color\": \"#EBF0F8\"}, \"line\": {\"color\": \"white\"}}, \"header\": {\"fill\": {\"color\": \"#C8D4E3\"}, \"line\": {\"color\": \"white\"}}, \"type\": \"table\"}]}, \"layout\": {\"annotationdefaults\": {\"arrowcolor\": \"#2a3f5f\", \"arrowhead\": 0, \"arrowwidth\": 1}, \"autotypenumbers\": \"strict\", \"coloraxis\": {\"colorbar\": {\"outlinewidth\": 0, \"ticks\": \"\"}}, \"colorscale\": {\"diverging\": [[0, \"#8e0152\"], [0.1, \"#c51b7d\"], [0.2, \"#de77ae\"], [0.3, \"#f1b6da\"], [0.4, \"#fde0ef\"], [0.5, \"#f7f7f7\"], [0.6, \"#e6f5d0\"], [0.7, \"#b8e186\"], [0.8, \"#7fbc41\"], [0.9, \"#4d9221\"], [1, \"#276419\"]], \"sequential\": [[0.0, \"#0d0887\"], [0.1111111111111111, \"#46039f\"], [0.2222222222222222, \"#7201a8\"], [0.3333333333333333, \"#9c179e\"], [0.4444444444444444, \"#bd3786\"], [0.5555555555555556, \"#d8576b\"], [0.6666666666666666, \"#ed7953\"], [0.7777777777777778, \"#fb9f3a\"], [0.8888888888888888, \"#fdca26\"], [1.0, \"#f0f921\"]], \"sequentialminus\": [[0.0, \"#0d0887\"], [0.1111111111111111, \"#46039f\"], [0.2222222222222222, \"#7201a8\"], [0.3333333333333333, \"#9c179e\"], [0.4444444444444444, \"#bd3786\"], [0.5555555555555556, \"#d8576b\"], [0.6666666666666666, \"#ed7953\"], [0.7777777777777778, \"#fb9f3a\"], [0.8888888888888888, \"#fdca26\"], [1.0, \"#f0f921\"]]}, \"colorway\": [\"#636efa\", \"#EF553B\", \"#00cc96\", \"#ab63fa\", \"#FFA15A\", \"#19d3f3\", \"#FF6692\", \"#B6E880\", \"#FF97FF\", \"#FECB52\"], \"font\": {\"color\": \"#2a3f5f\"}, \"geo\": {\"bgcolor\": \"white\", \"lakecolor\": \"white\", \"landcolor\": \"#E5ECF6\", \"showlakes\": true, \"showland\": true, \"subunitcolor\": \"white\"}, \"hoverlabel\": {\"align\": \"left\"}, \"hovermode\": \"closest\", \"mapbox\": {\"style\": \"light\"}, \"paper_bgcolor\": \"white\", \"plot_bgcolor\": \"#E5ECF6\", \"polar\": {\"angularaxis\": {\"gridcolor\": \"white\", \"linecolor\": \"white\", \"ticks\": \"\"}, \"bgcolor\": \"#E5ECF6\", \"radialaxis\": {\"gridcolor\": \"white\", \"linecolor\": \"white\", \"ticks\": \"\"}}, \"scene\": {\"xaxis\": {\"backgroundcolor\": \"#E5ECF6\", \"gridcolor\": \"white\", \"gridwidth\": 2, \"linecolor\": \"white\", \"showbackground\": true, \"ticks\": \"\", \"zerolinecolor\": \"white\"}, \"yaxis\": {\"backgroundcolor\": \"#E5ECF6\", \"gridcolor\": \"white\", \"gridwidth\": 2, \"linecolor\": \"white\", \"showbackground\": true, \"ticks\": \"\", \"zerolinecolor\": \"white\"}, \"zaxis\": {\"backgroundcolor\": \"#E5ECF6\", \"gridcolor\": \"white\", \"gridwidth\": 2, \"linecolor\": \"white\", \"showbackground\": true, \"ticks\": \"\", \"zerolinecolor\": \"white\"}}, \"shapedefaults\": {\"line\": {\"color\": \"#2a3f5f\"}}, \"ternary\": {\"aaxis\": {\"gridcolor\": \"white\", \"linecolor\": \"white\", \"ticks\": \"\"}, \"baxis\": {\"gridcolor\": \"white\", \"linecolor\": \"white\", \"ticks\": \"\"}, \"bgcolor\": \"#E5ECF6\", \"caxis\": {\"gridcolor\": \"white\", \"linecolor\": \"white\", \"ticks\": \"\"}}, \"title\": {\"x\": 0.05}, \"xaxis\": {\"automargin\": true, \"gridcolor\": \"white\", \"linecolor\": \"white\", \"ticks\": \"\", \"title\": {\"standoff\": 15}, \"zerolinecolor\": \"white\", \"zerolinewidth\": 2}, \"yaxis\": {\"automargin\": true, \"gridcolor\": \"white\", \"linecolor\": \"white\", \"ticks\": \"\", \"title\": {\"standoff\": 15}, \"zerolinecolor\": \"white\", \"zerolinewidth\": 2}}}, \"xaxis\": {\"anchor\": \"y\", \"domain\": [0.0, 1.0], \"title\": {\"text\": \"stations_n\"}}, \"yaxis\": {\"anchor\": \"x\", \"domain\": [0.0, 1.0], \"title\": {\"text\": \"ArrivalDelay_n\"}}},                        {\"responsive\": true}                    ).then(function(){\n",
       "                            \n",
       "var gd = document.getElementById('7f071243-1d9d-46d2-b633-092953394562');\n",
       "var x = new MutationObserver(function (mutations, observer) {{\n",
       "        var display = window.getComputedStyle(gd).display;\n",
       "        if (!display || display === 'none') {{\n",
       "            console.log([gd, 'removed!']);\n",
       "            Plotly.purge(gd);\n",
       "            observer.disconnect();\n",
       "        }}\n",
       "}});\n",
       "\n",
       "// Listen for the removal of the full notebook cells\n",
       "var notebookContainer = gd.closest('#notebook-container');\n",
       "if (notebookContainer) {{\n",
       "    x.observe(notebookContainer, {childList: true});\n",
       "}}\n",
       "\n",
       "// Listen for the clearing of the current output cell\n",
       "var outputEl = gd.closest('.output');\n",
       "if (outputEl) {{\n",
       "    x.observe(outputEl, {childList: true});\n",
       "}}\n",
       "\n",
       "                        })                };                });            </script>        </div>"
      ]
     },
     "metadata": {},
     "output_type": "display_data"
    }
   ],
   "source": [
    "station_wise_delay_of_train()"
   ]
  },
  {
   "cell_type": "markdown",
   "metadata": {
    "papermill": {
     "duration": 0.070684,
     "end_time": "2021-01-10T18:17:38.861246",
     "exception": false,
     "start_time": "2021-01-10T18:17:38.790562",
     "status": "completed"
    },
    "tags": []
   },
   "source": [
    "### Does the delay of this train instance depends on previous running train instance"
   ]
  },
  {
   "cell_type": "code",
   "execution_count": 37,
   "metadata": {
    "execution": {
     "iopub.execute_input": "2021-01-10T18:17:39.009424Z",
     "iopub.status.busy": "2021-01-10T18:17:39.008406Z",
     "iopub.status.idle": "2021-01-10T18:17:39.011933Z",
     "shell.execute_reply": "2021-01-10T18:17:39.011270Z"
    },
    "papermill": {
     "duration": 0.079816,
     "end_time": "2021-01-10T18:17:39.012061",
     "exception": false,
     "start_time": "2021-01-10T18:17:38.932245",
     "status": "completed"
    },
    "tags": []
   },
   "outputs": [],
   "source": [
    "# df[(df['trainCode_n']==12925) &( df['stations_n']=='JUC')]"
   ]
  },
  {
   "cell_type": "code",
   "execution_count": 38,
   "metadata": {
    "execution": {
     "iopub.execute_input": "2021-01-10T18:17:39.165266Z",
     "iopub.status.busy": "2021-01-10T18:17:39.163622Z",
     "iopub.status.idle": "2021-01-10T18:17:39.180862Z",
     "shell.execute_reply": "2021-01-10T18:17:39.181702Z"
    },
    "papermill": {
     "duration": 0.098009,
     "end_time": "2021-01-10T18:17:39.181869",
     "exception": false,
     "start_time": "2021-01-10T18:17:39.083860",
     "status": "completed"
    },
    "tags": []
   },
   "outputs": [
    {
     "name": "stdout",
     "output_type": "stream",
     "text": [
      "   stations_n  ArrivalDelay_n     runDate  trainCode_n\n",
      "0         FZR               0  2020-01-01        12138\n",
      "1         FDK             660  2020-01-01        12138\n",
      "2         KKP             840  2020-01-01        12138\n",
      "3        GJUT            1080  2020-01-01        12138\n",
      "4         GNA            1200  2020-01-01        12138\n",
      "5         BTI             360  2020-01-01        12138\n",
      "6        MAUR             660  2020-01-01        12138\n",
      "7         MSZ             900  2020-01-01        12138\n",
      "8         BLZ             900  2020-01-01        12138\n",
      "9         BRZ             900  2020-01-01        12138\n",
      "10        JHL             540  2020-01-01        12138\n",
      "11        TUN             660  2020-01-01        12138\n",
      "12        NRW             660  2020-01-01        12138\n",
      "13       JIND             180  2020-01-01        12138\n",
      "14        ROK            -120  2020-01-01        12138\n",
      "15        BGZ              60  2020-01-01        12138\n",
      "16        SSB           -1200  2020-01-01        12138\n",
      "17        DKZ             120  2020-01-01        12138\n",
      "18       NDLS            -300  2020-01-01        12138\n",
      "19        FDB             240  2020-01-01        12138\n",
      "20        KSV            -600  2020-01-01        12138\n",
      "21        MTJ             840  2020-01-01        12138\n",
      "22        RKM            1440  2020-01-01        12138\n",
      "23        AGC            1140  2020-01-01        12138\n",
      "24        DHO             600  2020-01-01        12138\n",
      "25        MRA             720  2020-01-01        12138\n",
      "26        GWL             960  2020-01-01        12138\n",
      "27        DBA            1140  2020-01-01        12138\n",
      "28        DAA            1620  2020-01-01        12138\n",
      "29        JHS             900  2020-01-01        12138\n",
      "30        BAB            1080  2020-01-01        12138\n",
      "31        LAR            4860  2020-01-01        12138\n",
      "32       BINA            6300  2020-01-01        12138\n",
      "33        BAQ            6600  2020-01-01        12138\n",
      "34        BHS            7260  2020-01-01        12138\n",
      "35        BPL            7980  2020-01-01        12138\n",
      "36        HBJ            7980  2020-01-01        12138\n",
      "37        HBD            8520  2020-01-01        12138\n",
      "38         ET            8580  2020-01-01        12138\n",
      "39        BPF            9300  2020-01-01        12138\n",
      "40         HD            9360  2020-01-01        12138\n",
      "41        KKN            9300  2020-01-01        12138\n",
      "42        KNW            7260  2020-01-01        12138\n",
      "43        BAU            7260  2020-01-01        12138\n",
      "44        BSL            6660  2020-01-01        12138\n",
      "45         JL            7500  2020-01-01        12138\n",
      "46        CSN            8700  2020-01-01        12138\n",
      "47        MMR           10020  2020-01-01        12138\n",
      "48         NK            9720  2020-01-01        12138\n",
      "49        DVL            9600  2020-01-01        12138\n",
      "50        IGP            6960  2020-01-01        12138\n",
      "51        KYN           13200  2020-01-01        12138\n",
      "52         DR           11940  2020-01-01        12138\n"
     ]
    },
    {
     "data": {
      "text/plain": [
       "nan"
      ]
     },
     "execution_count": 38,
     "metadata": {},
     "output_type": "execute_result"
    }
   ],
   "source": [
    "temp_df=df[df['trainCode_n']==12138]\n",
    "temp_df=temp_df[['stations_n','ArrivalDelay_n','runDate','trainCode_n']]\n",
    "train1=temp_df[0:53]\n",
    "train2=temp_df[53:106]\n",
    "print(train1)\n",
    "train1['ArrivalDelay_n'].corr(train2['ArrivalDelay_n'])"
   ]
  },
  {
   "cell_type": "markdown",
   "metadata": {
    "papermill": {
     "duration": 0.073466,
     "end_time": "2021-01-10T18:17:39.328456",
     "exception": false,
     "start_time": "2021-01-10T18:17:39.254990",
     "status": "completed"
    },
    "tags": []
   },
   "source": [
    "### Red Dots are in good number at the bottom \n"
   ]
  },
  {
   "cell_type": "code",
   "execution_count": 39,
   "metadata": {
    "execution": {
     "iopub.execute_input": "2021-01-10T18:17:39.487869Z",
     "iopub.status.busy": "2021-01-10T18:17:39.487178Z",
     "iopub.status.idle": "2021-01-10T18:17:39.491241Z",
     "shell.execute_reply": "2021-01-10T18:17:39.490615Z"
    },
    "papermill": {
     "duration": 0.089487,
     "end_time": "2021-01-10T18:17:39.491362",
     "exception": false,
     "start_time": "2021-01-10T18:17:39.401875",
     "status": "completed"
    },
    "tags": []
   },
   "outputs": [
    {
     "data": {
      "text/html": [
       "<div>\n",
       "<style scoped>\n",
       "    .dataframe tbody tr th:only-of-type {\n",
       "        vertical-align: middle;\n",
       "    }\n",
       "\n",
       "    .dataframe tbody tr th {\n",
       "        vertical-align: top;\n",
       "    }\n",
       "\n",
       "    .dataframe thead th {\n",
       "        text-align: right;\n",
       "    }\n",
       "</style>\n",
       "<table border=\"1\" class=\"dataframe\">\n",
       "  <thead>\n",
       "    <tr style=\"text-align: right;\">\n",
       "      <th></th>\n",
       "      <th>runDate</th>\n",
       "      <th>stations_n</th>\n",
       "      <th>trainCode_n</th>\n",
       "      <th>scheduledArrival_n</th>\n",
       "      <th>scheduledDeparture_n</th>\n",
       "      <th>actualArrival_n</th>\n",
       "      <th>actualDeparture_n</th>\n",
       "      <th>distance_n</th>\n",
       "      <th>dayCount_n</th>\n",
       "      <th>ArrivalDelay_n</th>\n",
       "      <th>DepartureDelay_n</th>\n",
       "    </tr>\n",
       "  </thead>\n",
       "  <tbody>\n",
       "    <tr>\n",
       "      <th>0</th>\n",
       "      <td>2020-01-01</td>\n",
       "      <td>FZR</td>\n",
       "      <td>12138</td>\n",
       "      <td>1577836800</td>\n",
       "      <td>1577914800</td>\n",
       "      <td>1577836800</td>\n",
       "      <td>1577914800</td>\n",
       "      <td>0</td>\n",
       "      <td>0</td>\n",
       "      <td>0</td>\n",
       "      <td>0</td>\n",
       "    </tr>\n",
       "    <tr>\n",
       "      <th>1</th>\n",
       "      <td>2020-01-01</td>\n",
       "      <td>FDK</td>\n",
       "      <td>12138</td>\n",
       "      <td>1577916300</td>\n",
       "      <td>1577916420</td>\n",
       "      <td>1577916960</td>\n",
       "      <td>1577917080</td>\n",
       "      <td>32</td>\n",
       "      <td>0</td>\n",
       "      <td>660</td>\n",
       "      <td>660</td>\n",
       "    </tr>\n",
       "  </tbody>\n",
       "</table>\n",
       "</div>"
      ],
      "text/plain": [
       "      runDate stations_n  trainCode_n  scheduledArrival_n  \\\n",
       "0  2020-01-01        FZR        12138          1577836800   \n",
       "1  2020-01-01        FDK        12138          1577916300   \n",
       "\n",
       "   scheduledDeparture_n  actualArrival_n  actualDeparture_n  distance_n  \\\n",
       "0            1577914800       1577836800         1577914800           0   \n",
       "1            1577916420       1577916960         1577917080          32   \n",
       "\n",
       "   dayCount_n  ArrivalDelay_n  DepartureDelay_n  \n",
       "0           0               0                 0  \n",
       "1           0             660               660  "
      ]
     },
     "execution_count": 39,
     "metadata": {},
     "output_type": "execute_result"
    }
   ],
   "source": [
    "df.head(2)"
   ]
  },
  {
   "cell_type": "code",
   "execution_count": 40,
   "metadata": {
    "execution": {
     "iopub.execute_input": "2021-01-10T18:17:39.644381Z",
     "iopub.status.busy": "2021-01-10T18:17:39.643555Z",
     "iopub.status.idle": "2021-01-10T18:17:40.402682Z",
     "shell.execute_reply": "2021-01-10T18:17:40.401993Z"
    },
    "papermill": {
     "duration": 0.837389,
     "end_time": "2021-01-10T18:17:40.402794",
     "exception": false,
     "start_time": "2021-01-10T18:17:39.565405",
     "status": "completed"
    },
    "tags": []
   },
   "outputs": [],
   "source": [
    "from sklearn.preprocessing import LabelEncoder,OneHotEncoder\n",
    "# temp_df=df\n",
    "le=LabelEncoder()\n",
    "# df['day_n'] =le.fit_transform(df['day_n'])"
   ]
  },
  {
   "cell_type": "code",
   "execution_count": null,
   "metadata": {
    "papermill": {
     "duration": 0.072449,
     "end_time": "2021-01-10T18:17:40.548510",
     "exception": false,
     "start_time": "2021-01-10T18:17:40.476061",
     "status": "completed"
    },
    "tags": []
   },
   "outputs": [],
   "source": []
  },
  {
   "cell_type": "code",
   "execution_count": 41,
   "metadata": {
    "execution": {
     "iopub.execute_input": "2021-01-10T18:17:40.708878Z",
     "iopub.status.busy": "2021-01-10T18:17:40.708068Z",
     "iopub.status.idle": "2021-01-10T18:17:40.712118Z",
     "shell.execute_reply": "2021-01-10T18:17:40.711369Z"
    },
    "papermill": {
     "duration": 0.090617,
     "end_time": "2021-01-10T18:17:40.712244",
     "exception": false,
     "start_time": "2021-01-10T18:17:40.621627",
     "status": "completed"
    },
    "tags": []
   },
   "outputs": [
    {
     "data": {
      "text/html": [
       "<div>\n",
       "<style scoped>\n",
       "    .dataframe tbody tr th:only-of-type {\n",
       "        vertical-align: middle;\n",
       "    }\n",
       "\n",
       "    .dataframe tbody tr th {\n",
       "        vertical-align: top;\n",
       "    }\n",
       "\n",
       "    .dataframe thead th {\n",
       "        text-align: right;\n",
       "    }\n",
       "</style>\n",
       "<table border=\"1\" class=\"dataframe\">\n",
       "  <thead>\n",
       "    <tr style=\"text-align: right;\">\n",
       "      <th></th>\n",
       "      <th>runDate</th>\n",
       "      <th>stations_n</th>\n",
       "      <th>trainCode_n</th>\n",
       "      <th>scheduledArrival_n</th>\n",
       "      <th>scheduledDeparture_n</th>\n",
       "      <th>actualArrival_n</th>\n",
       "      <th>actualDeparture_n</th>\n",
       "      <th>distance_n</th>\n",
       "      <th>dayCount_n</th>\n",
       "      <th>ArrivalDelay_n</th>\n",
       "      <th>DepartureDelay_n</th>\n",
       "    </tr>\n",
       "  </thead>\n",
       "  <tbody>\n",
       "    <tr>\n",
       "      <th>0</th>\n",
       "      <td>2020-01-01</td>\n",
       "      <td>FZR</td>\n",
       "      <td>12138</td>\n",
       "      <td>1577836800</td>\n",
       "      <td>1577914800</td>\n",
       "      <td>1577836800</td>\n",
       "      <td>1577914800</td>\n",
       "      <td>0</td>\n",
       "      <td>0</td>\n",
       "      <td>0</td>\n",
       "      <td>0</td>\n",
       "    </tr>\n",
       "    <tr>\n",
       "      <th>1</th>\n",
       "      <td>2020-01-01</td>\n",
       "      <td>FDK</td>\n",
       "      <td>12138</td>\n",
       "      <td>1577916300</td>\n",
       "      <td>1577916420</td>\n",
       "      <td>1577916960</td>\n",
       "      <td>1577917080</td>\n",
       "      <td>32</td>\n",
       "      <td>0</td>\n",
       "      <td>660</td>\n",
       "      <td>660</td>\n",
       "    </tr>\n",
       "    <tr>\n",
       "      <th>2</th>\n",
       "      <td>2020-01-01</td>\n",
       "      <td>KKP</td>\n",
       "      <td>12138</td>\n",
       "      <td>1577917380</td>\n",
       "      <td>1577917500</td>\n",
       "      <td>1577918220</td>\n",
       "      <td>1577918280</td>\n",
       "      <td>45</td>\n",
       "      <td>0</td>\n",
       "      <td>840</td>\n",
       "      <td>780</td>\n",
       "    </tr>\n",
       "  </tbody>\n",
       "</table>\n",
       "</div>"
      ],
      "text/plain": [
       "      runDate stations_n  trainCode_n  scheduledArrival_n  \\\n",
       "0  2020-01-01        FZR        12138          1577836800   \n",
       "1  2020-01-01        FDK        12138          1577916300   \n",
       "2  2020-01-01        KKP        12138          1577917380   \n",
       "\n",
       "   scheduledDeparture_n  actualArrival_n  actualDeparture_n  distance_n  \\\n",
       "0            1577914800       1577836800         1577914800           0   \n",
       "1            1577916420       1577916960         1577917080          32   \n",
       "2            1577917500       1577918220         1577918280          45   \n",
       "\n",
       "   dayCount_n  ArrivalDelay_n  DepartureDelay_n  \n",
       "0           0               0                 0  \n",
       "1           0             660               660  \n",
       "2           0             840               780  "
      ]
     },
     "execution_count": 41,
     "metadata": {},
     "output_type": "execute_result"
    }
   ],
   "source": [
    "df.head(3)"
   ]
  },
  {
   "cell_type": "code",
   "execution_count": 42,
   "metadata": {
    "execution": {
     "iopub.execute_input": "2021-01-10T18:17:40.869762Z",
     "iopub.status.busy": "2021-01-10T18:17:40.869003Z",
     "iopub.status.idle": "2021-01-10T18:17:40.871307Z",
     "shell.execute_reply": "2021-01-10T18:17:40.871812Z"
    },
    "papermill": {
     "duration": 0.083251,
     "end_time": "2021-01-10T18:17:40.871994",
     "exception": false,
     "start_time": "2021-01-10T18:17:40.788743",
     "status": "completed"
    },
    "tags": []
   },
   "outputs": [],
   "source": [
    "batch = 32\n",
    "learnning_rate = 0.02"
   ]
  },
  {
   "cell_type": "code",
   "execution_count": 43,
   "metadata": {
    "execution": {
     "iopub.execute_input": "2021-01-10T18:17:41.024754Z",
     "iopub.status.busy": "2021-01-10T18:17:41.024073Z",
     "iopub.status.idle": "2021-01-10T18:17:41.027343Z",
     "shell.execute_reply": "2021-01-10T18:17:41.027834Z"
    },
    "papermill": {
     "duration": 0.081513,
     "end_time": "2021-01-10T18:17:41.028013",
     "exception": false,
     "start_time": "2021-01-10T18:17:40.946500",
     "status": "completed"
    },
    "tags": []
   },
   "outputs": [],
   "source": [
    "#train currently at sn - tnA , tnD\n",
    "#next station - sn+1  sn-1\n",
    "#train Characterstics - X1 = 1\n",
    "#Departure Delay time at sn - X2 = tanD - tnD\n",
    "#Arrival Delay time at sn - X3 = tanA- tnA\n",
    "#Planning running time of train in last section - tan"
   ]
  },
  {
   "cell_type": "code",
   "execution_count": 44,
   "metadata": {
    "execution": {
     "iopub.execute_input": "2021-01-10T18:17:41.183337Z",
     "iopub.status.busy": "2021-01-10T18:17:41.182579Z",
     "iopub.status.idle": "2021-01-10T18:17:41.185675Z",
     "shell.execute_reply": "2021-01-10T18:17:41.186187Z"
    },
    "papermill": {
     "duration": 0.082441,
     "end_time": "2021-01-10T18:17:41.186338",
     "exception": false,
     "start_time": "2021-01-10T18:17:41.103897",
     "status": "completed"
    },
    "tags": []
   },
   "outputs": [],
   "source": [
    "# df.columns"
   ]
  },
  {
   "cell_type": "code",
   "execution_count": null,
   "metadata": {
    "papermill": {
     "duration": 0.079892,
     "end_time": "2021-01-10T18:17:41.341798",
     "exception": false,
     "start_time": "2021-01-10T18:17:41.261906",
     "status": "completed"
    },
    "tags": []
   },
   "outputs": [],
   "source": []
  },
  {
   "cell_type": "code",
   "execution_count": 45,
   "metadata": {
    "execution": {
     "iopub.execute_input": "2021-01-10T18:17:41.518446Z",
     "iopub.status.busy": "2021-01-10T18:17:41.517689Z",
     "iopub.status.idle": "2021-01-10T18:17:41.536725Z",
     "shell.execute_reply": "2021-01-10T18:17:41.537236Z"
    },
    "papermill": {
     "duration": 0.107519,
     "end_time": "2021-01-10T18:17:41.537398",
     "exception": false,
     "start_time": "2021-01-10T18:17:41.429879",
     "status": "completed"
    },
    "tags": []
   },
   "outputs": [],
   "source": [
    "def timeseries_data(time_steps,dfi):\n",
    "    dfx=dfi\n",
    "    columns = dfx.columns\n",
    "    trains = list(set(dfx.trainCode_n.tolist()))\n",
    "    train_dfs = []\n",
    "    dfs = dfx.groupby(\"trainCode_n\")\n",
    "    for train in trains :\n",
    "        per_train_df=dfs.get_group(train)\n",
    "#         print(per_train_df.shape)        \n",
    "        for i in range(1,2):\n",
    "\n",
    "    #   Only for 1 - upcoming station\n",
    "            for col in columns:\n",
    "    #             print(j)\n",
    "                if col not in ['trainCode_n']:\n",
    "                    per_train_df[str(col)+\"+{}\".format(i)] = per_train_df[str(col)].shift(-i)\n",
    "        \n",
    "        #for previous stations logic\n",
    "        for i in range(1,time_steps+1):\n",
    "            for col in columns:\n",
    "    #             print(j)\n",
    "                if col not in ['trainCode_n']:\n",
    "                    per_train_df[str(col)+\"-{}\".format(i)] = per_train_df[str(col)].shift(i)\n",
    "        \n",
    "        per_train_df=per_train_df[time_steps:-1]\n",
    "        \n",
    "        #distance_n is the amount of distance that the train \n",
    "        #has to travel to reach next station\n",
    "        per_train_df['distance_n-1']=per_train_df['distance_n']-per_train_df['distance_n-1']\n",
    "        per_train_df['distance_n']=per_train_df['distance_n+1']-per_train_df['distance_n']\n",
    "\n",
    "        #planned running is the amount of time that \n",
    "        #the train is scheduled for to get to next station from current station \n",
    "        per_train_df['planned_running_time_n-1'] = per_train_df['scheduledArrival_n'] - per_train_df['scheduledDeparture_n-1']\n",
    "        per_train_df['planned_running_time_n'] = per_train_df['scheduledArrival_n+1'] - per_train_df['scheduledDeparture_n']\n",
    "\n",
    "        del per_train_df['actualArrival_n']\n",
    "        del per_train_df['scheduledArrival_n']\n",
    "        del per_train_df['scheduledDeparture_n']\n",
    "        del per_train_df['actualDeparture_n']\n",
    "        del per_train_df['runDate']\n",
    "        del per_train_df['dayCount_n']\n",
    "        del per_train_df['stations_n']\n",
    "        \n",
    "        del per_train_df['actualArrival_n-1']\n",
    "        del per_train_df['scheduledArrival_n-1']\n",
    "        del per_train_df['scheduledDeparture_n-1']\n",
    "        del per_train_df['actualDeparture_n-1']\n",
    "        del per_train_df['dayCount_n-1']\n",
    "        del per_train_df['runDate-1']\n",
    "        del per_train_df['stations_n-1']\n",
    "\n",
    "        del per_train_df['actualArrival_n+1']\n",
    "        del per_train_df['scheduledArrival_n+1']\n",
    "        del per_train_df['scheduledDeparture_n+1']\n",
    "        del per_train_df['actualDeparture_n+1']\n",
    "        del per_train_df['runDate+1']\n",
    "        del per_train_df['dayCount_n+1']\n",
    "        del per_train_df['stations_n+1']\n",
    "        \n",
    "        del per_train_df['trainCode_n']\n",
    "        del per_train_df['distance_n+1']\n",
    "\n",
    "#         return per_train_df\n",
    "#         print(per_train_df.columns)\n",
    "        train_dfs.append(per_train_df)\n",
    "        \n",
    "    final_df=pd.concat(train_dfs)   \n",
    "    \n",
    "    return final_df"
   ]
  },
  {
   "cell_type": "code",
   "execution_count": 46,
   "metadata": {
    "execution": {
     "iopub.execute_input": "2021-01-10T18:17:41.692074Z",
     "iopub.status.busy": "2021-01-10T18:17:41.691350Z",
     "iopub.status.idle": "2021-01-10T18:17:41.713910Z",
     "shell.execute_reply": "2021-01-10T18:17:41.714472Z"
    },
    "papermill": {
     "duration": 0.10207,
     "end_time": "2021-01-10T18:17:41.714631",
     "exception": false,
     "start_time": "2021-01-10T18:17:41.612561",
     "status": "completed"
    },
    "tags": []
   },
   "outputs": [],
   "source": [
    "#FINAL ONE\n",
    "def timeseries_data2(time_steps,dfi):\n",
    "    count=0\n",
    "    dfx=dfi\n",
    "    columns = dfx.columns\n",
    "    print(columns)\n",
    "    trains = list(set(dfx.trainCode_n.tolist()))\n",
    "    train_dfs = []\n",
    "    dfs = dfx.groupby(\"trainCode_n\")\n",
    "    for train in trains :\n",
    "        train_num_df=dfs.get_group(train)\n",
    "        distinct_train_dfs= train_num_df.groupby('runDate')\n",
    "        for index,group in distinct_train_dfs:\n",
    "            per_train_df = group\n",
    "#         print(per_train_df.shape)        \n",
    "            for i in range(1,2):\n",
    "\n",
    "        #   Only for 1 - upcoming station\n",
    "                for col in columns:\n",
    "        #             print(j)\n",
    "                    if col not in ['trainCode_n']:\n",
    "                        per_train_df[str(col)+\"+{}\".format(i)] = per_train_df[str(col)].shift(-i)\n",
    "\n",
    "            #for previous stations logic\n",
    "            for i in range(1,time_steps+1):\n",
    "                for col in columns:\n",
    "        #             print(j)\n",
    "                    if col not in ['trainCode_n']:\n",
    "                        per_train_df[str(col)+\"-{}\".format(i)] = per_train_df[str(col)].shift(i)\n",
    "            \n",
    "            per_train_df=per_train_df[time_steps:-1]\n",
    "\n",
    "            #distance_n is the amount of distance that the train \n",
    "            #has to travel to reach next station\n",
    "            per_train_df['distance_n-1']=per_train_df['distance_n']-per_train_df['distance_n-1']\n",
    "            per_train_df['distance_n']=per_train_df['distance_n+1']-per_train_df['distance_n']\n",
    "\n",
    "            #planned running is the amount of time that \n",
    "            #the train is scheduled for to get to next station from current station\n",
    "            per_train_df['planned_running_time_n-1'] = per_train_df['scheduledArrival_n'] - per_train_df['scheduledDeparture_n-1']\n",
    "            for i in range(time_steps,1,-1):\n",
    "                per_train_df['planned_running_time_n-{}'.format(i)] = per_train_df['scheduledArrival_n-{}'.format(i-1)] - per_train_df['scheduledDeparture_n-{}'.format(i)]\n",
    "            per_train_df['planned_running_time_n'] = per_train_df['scheduledArrival_n+1'] - per_train_df['scheduledDeparture_n']\n",
    "\n",
    "            del per_train_df['actualArrival_n']\n",
    "            del per_train_df['scheduledArrival_n']\n",
    "            del per_train_df['scheduledDeparture_n']\n",
    "            del per_train_df['actualDeparture_n']\n",
    "            del per_train_df['runDate']\n",
    "            del per_train_df['dayCount_n']\n",
    "            del per_train_df['stations_n']\n",
    "\n",
    "            for i in range(1,time_steps+1):\n",
    "                del per_train_df['actualArrival_n-{}'.format(i)]\n",
    "                del per_train_df['scheduledArrival_n-{}'.format(i)]\n",
    "                del per_train_df['scheduledDeparture_n-{}'.format(i)]\n",
    "                del per_train_df['actualDeparture_n-{}'.format(i)]\n",
    "                del per_train_df['dayCount_n-{}'.format(i)]\n",
    "                del per_train_df['runDate-{}'.format(i)]\n",
    "                del per_train_df['stations_n-{}'.format(i)]\n",
    "\n",
    "            del per_train_df['actualArrival_n+1']\n",
    "            del per_train_df['scheduledArrival_n+1']\n",
    "            del per_train_df['scheduledDeparture_n+1']\n",
    "            del per_train_df['actualDeparture_n+1']\n",
    "            del per_train_df['runDate+1']\n",
    "            del per_train_df['dayCount_n+1']\n",
    "            del per_train_df['stations_n+1']\n",
    "\n",
    "            del per_train_df['trainCode_n']\n",
    "            del per_train_df['distance_n+1']\n",
    "\n",
    "#             return per_train_df\n",
    "    #         print(per_train_df.columns)\n",
    "            train_dfs.append(per_train_df)\n",
    "        \n",
    "    final_df=pd.concat(train_dfs)   \n",
    "    \n",
    "    return final_df"
   ]
  },
  {
   "cell_type": "code",
   "execution_count": 47,
   "metadata": {
    "execution": {
     "iopub.execute_input": "2021-01-10T18:17:41.877009Z",
     "iopub.status.busy": "2021-01-10T18:17:41.875861Z",
     "iopub.status.idle": "2021-01-10T18:18:00.992018Z",
     "shell.execute_reply": "2021-01-10T18:18:00.991102Z"
    },
    "papermill": {
     "duration": 19.199175,
     "end_time": "2021-01-10T18:18:00.992137",
     "exception": false,
     "start_time": "2021-01-10T18:17:41.792962",
     "status": "completed"
    },
    "tags": []
   },
   "outputs": [
    {
     "name": "stdout",
     "output_type": "stream",
     "text": [
      "Index(['runDate', 'stations_n', 'trainCode_n', 'scheduledArrival_n',\n",
      "       'scheduledDeparture_n', 'actualArrival_n', 'actualDeparture_n',\n",
      "       'distance_n', 'dayCount_n', 'ArrivalDelay_n', 'DepartureDelay_n'],\n",
      "      dtype='object')\n"
     ]
    }
   ],
   "source": [
    "dfnew = timeseries_data2(1,df)"
   ]
  },
  {
   "cell_type": "code",
   "execution_count": 48,
   "metadata": {
    "execution": {
     "iopub.execute_input": "2021-01-10T18:18:01.148826Z",
     "iopub.status.busy": "2021-01-10T18:18:01.148152Z",
     "iopub.status.idle": "2021-01-10T18:18:01.151121Z",
     "shell.execute_reply": "2021-01-10T18:18:01.151617Z"
    },
    "papermill": {
     "duration": 0.083723,
     "end_time": "2021-01-10T18:18:01.151747",
     "exception": false,
     "start_time": "2021-01-10T18:18:01.068024",
     "status": "completed"
    },
    "tags": []
   },
   "outputs": [
    {
     "data": {
      "text/plain": [
       "Index(['distance_n', 'ArrivalDelay_n', 'DepartureDelay_n', 'ArrivalDelay_n+1',\n",
       "       'DepartureDelay_n+1', 'distance_n-1', 'ArrivalDelay_n-1',\n",
       "       'DepartureDelay_n-1', 'planned_running_time_n-1',\n",
       "       'planned_running_time_n'],\n",
       "      dtype='object')"
      ]
     },
     "execution_count": 48,
     "metadata": {},
     "output_type": "execute_result"
    }
   ],
   "source": [
    "dfnew.columns"
   ]
  },
  {
   "cell_type": "code",
   "execution_count": 49,
   "metadata": {
    "execution": {
     "iopub.execute_input": "2021-01-10T18:18:01.308135Z",
     "iopub.status.busy": "2021-01-10T18:18:01.307109Z",
     "iopub.status.idle": "2021-01-10T18:18:01.309925Z",
     "shell.execute_reply": "2021-01-10T18:18:01.310460Z"
    },
    "papermill": {
     "duration": 0.083127,
     "end_time": "2021-01-10T18:18:01.310596",
     "exception": false,
     "start_time": "2021-01-10T18:18:01.227469",
     "status": "completed"
    },
    "tags": []
   },
   "outputs": [],
   "source": [
    "# del dfnew['day_n+1']\n",
    "# del dfnew['hour_n+1']"
   ]
  },
  {
   "cell_type": "code",
   "execution_count": null,
   "metadata": {
    "papermill": {
     "duration": 0.076014,
     "end_time": "2021-01-10T18:18:01.463471",
     "exception": false,
     "start_time": "2021-01-10T18:18:01.387457",
     "status": "completed"
    },
    "tags": []
   },
   "outputs": [],
   "source": []
  },
  {
   "cell_type": "code",
   "execution_count": 50,
   "metadata": {
    "execution": {
     "iopub.execute_input": "2021-01-10T18:18:01.627487Z",
     "iopub.status.busy": "2021-01-10T18:18:01.626449Z",
     "iopub.status.idle": "2021-01-10T18:18:01.630017Z",
     "shell.execute_reply": "2021-01-10T18:18:01.629408Z"
    },
    "papermill": {
     "duration": 0.089414,
     "end_time": "2021-01-10T18:18:01.630136",
     "exception": false,
     "start_time": "2021-01-10T18:18:01.540722",
     "status": "completed"
    },
    "tags": []
   },
   "outputs": [],
   "source": [
    "from sklearn.preprocessing import RobustScaler\n",
    "def get_training_data(modelled_df):\n",
    "    print(modelled_df)\n",
    "    target_columns=['ArrivalDelay_n+1','DepartureDelay_n+1']\n",
    "    y=modelled_df[target_columns]\n",
    "    X=modelled_df.drop(target_columns,axis=1,inplace=False)\n",
    "#     X=modelled_df[~target_columns]\n",
    "\n",
    "    #of shape - (train_samples,time_steps,features)\n",
    "    \n",
    "    rs1=RobustScaler()\n",
    "    rs2=RobustScaler()\n",
    "    X=rs1.fit_transform(X)\n",
    "    print(X.shape)  \n",
    "    X=np.array(X).reshape(X.shape[0],2,4)\n",
    "   \n",
    "    y=np.array(y)\n",
    "    y=rs2.fit_transform(y)\n",
    "#     y=rs.transform(y)\n",
    "    \n",
    "    return (X,y)"
   ]
  },
  {
   "cell_type": "code",
   "execution_count": 51,
   "metadata": {
    "execution": {
     "iopub.execute_input": "2021-01-10T18:18:01.787886Z",
     "iopub.status.busy": "2021-01-10T18:18:01.787215Z",
     "iopub.status.idle": "2021-01-10T18:18:01.790315Z",
     "shell.execute_reply": "2021-01-10T18:18:01.789653Z"
    },
    "papermill": {
     "duration": 0.083573,
     "end_time": "2021-01-10T18:18:01.790444",
     "exception": false,
     "start_time": "2021-01-10T18:18:01.706871",
     "status": "completed"
    },
    "tags": []
   },
   "outputs": [],
   "source": [
    "# X;y.shape"
   ]
  },
  {
   "cell_type": "code",
   "execution_count": 52,
   "metadata": {
    "execution": {
     "iopub.execute_input": "2021-01-10T18:18:01.947701Z",
     "iopub.status.busy": "2021-01-10T18:18:01.947082Z",
     "iopub.status.idle": "2021-01-10T18:18:01.987031Z",
     "shell.execute_reply": "2021-01-10T18:18:01.987558Z"
    },
    "papermill": {
     "duration": 0.120058,
     "end_time": "2021-01-10T18:18:01.987703",
     "exception": false,
     "start_time": "2021-01-10T18:18:01.867645",
     "status": "completed"
    },
    "tags": []
   },
   "outputs": [
    {
     "name": "stdout",
     "output_type": "stream",
     "text": [
      "       distance_n  ArrivalDelay_n  DepartureDelay_n  ArrivalDelay_n+1  \\\n",
      "8284         48.0             180               120            -300.0   \n",
      "8285         15.0            -300                60             -60.0   \n",
      "8286         24.0             -60                 0             420.0   \n",
      "8287         19.0             420               420             540.0   \n",
      "8288         17.0             540               420             480.0   \n",
      "...           ...             ...               ...               ...   \n",
      "31867        43.0            4860              4860            4140.0   \n",
      "31869        36.0            4140              4380            4800.0   \n",
      "31870        16.0            4800              4800            5220.0   \n",
      "31871         5.0            5220              5220            4920.0   \n",
      "31872        36.0            4920              5520            5280.0   \n",
      "\n",
      "       DepartureDelay_n+1  distance_n-1  ArrivalDelay_n-1  DepartureDelay_n-1  \\\n",
      "8284                 60.0          95.0               0.0                60.0   \n",
      "8285                  0.0          48.0             180.0               120.0   \n",
      "8286                420.0          15.0            -300.0                60.0   \n",
      "8287                420.0          24.0             -60.0                 0.0   \n",
      "8288                480.0          19.0             420.0               420.0   \n",
      "...                   ...           ...               ...                 ...   \n",
      "31867              4380.0           5.0            1080.0              4200.0   \n",
      "31869              4800.0          43.0            4860.0              4860.0   \n",
      "31870              5220.0          36.0            4140.0              4380.0   \n",
      "31871              5520.0          16.0            4800.0              4800.0   \n",
      "31872              5280.0           5.0            5220.0              5220.0   \n",
      "\n",
      "       planned_running_time_n-1  planned_running_time_n  \n",
      "8284                     4200.0                  2220.0  \n",
      "8285                     2220.0                   780.0  \n",
      "8286                      780.0                  1020.0  \n",
      "8287                     1020.0                   900.0  \n",
      "8288                      900.0                  1200.0  \n",
      "...                         ...                     ...  \n",
      "31867                    -840.0                  2880.0  \n",
      "31869                    2880.0                  1680.0  \n",
      "31870                    1680.0                   960.0  \n",
      "31871                     960.0                   840.0  \n",
      "31872                     840.0                  1920.0  \n",
      "\n",
      "[29715 rows x 10 columns]\n",
      "(29715, 8)\n"
     ]
    }
   ],
   "source": [
    "X,y=get_training_data(dfnew)"
   ]
  },
  {
   "cell_type": "code",
   "execution_count": 53,
   "metadata": {
    "execution": {
     "iopub.execute_input": "2021-01-10T18:18:02.144863Z",
     "iopub.status.busy": "2021-01-10T18:18:02.144223Z",
     "iopub.status.idle": "2021-01-10T18:18:02.147510Z",
     "shell.execute_reply": "2021-01-10T18:18:02.148037Z"
    },
    "papermill": {
     "duration": 0.08298,
     "end_time": "2021-01-10T18:18:02.148173",
     "exception": false,
     "start_time": "2021-01-10T18:18:02.065193",
     "status": "completed"
    },
    "tags": []
   },
   "outputs": [],
   "source": [
    "# X"
   ]
  },
  {
   "cell_type": "code",
   "execution_count": 54,
   "metadata": {
    "execution": {
     "iopub.execute_input": "2021-01-10T18:18:02.304686Z",
     "iopub.status.busy": "2021-01-10T18:18:02.304041Z",
     "iopub.status.idle": "2021-01-10T18:18:02.310435Z",
     "shell.execute_reply": "2021-01-10T18:18:02.309852Z"
    },
    "papermill": {
     "duration": 0.085849,
     "end_time": "2021-01-10T18:18:02.310546",
     "exception": false,
     "start_time": "2021-01-10T18:18:02.224697",
     "status": "completed"
    },
    "tags": []
   },
   "outputs": [
    {
     "name": "stdout",
     "output_type": "stream",
     "text": [
      "(29715, 2, 4)\n",
      "(29715, 2)\n"
     ]
    }
   ],
   "source": [
    "print(X.shape)\n",
    "print(y.shape)"
   ]
  },
  {
   "cell_type": "code",
   "execution_count": 55,
   "metadata": {
    "execution": {
     "iopub.execute_input": "2021-01-10T18:18:02.471019Z",
     "iopub.status.busy": "2021-01-10T18:18:02.470342Z",
     "iopub.status.idle": "2021-01-10T18:18:02.473515Z",
     "shell.execute_reply": "2021-01-10T18:18:02.474085Z"
    },
    "papermill": {
     "duration": 0.084561,
     "end_time": "2021-01-10T18:18:02.474238",
     "exception": false,
     "start_time": "2021-01-10T18:18:02.389677",
     "status": "completed"
    },
    "tags": []
   },
   "outputs": [],
   "source": [
    "# X"
   ]
  },
  {
   "cell_type": "code",
   "execution_count": 56,
   "metadata": {
    "execution": {
     "iopub.execute_input": "2021-01-10T18:18:02.632070Z",
     "iopub.status.busy": "2021-01-10T18:18:02.631392Z",
     "iopub.status.idle": "2021-01-10T18:18:02.637513Z",
     "shell.execute_reply": "2021-01-10T18:18:02.636967Z"
    },
    "papermill": {
     "duration": 0.086018,
     "end_time": "2021-01-10T18:18:02.637628",
     "exception": false,
     "start_time": "2021-01-10T18:18:02.551610",
     "status": "completed"
    },
    "tags": []
   },
   "outputs": [
    {
     "data": {
      "text/plain": [
       "array([[-0.57142857, -0.45238095],\n",
       "       [-0.47619048, -0.47619048],\n",
       "       [-0.28571429, -0.30952381],\n",
       "       ...,\n",
       "       [ 1.61904762,  1.5952381 ],\n",
       "       [ 1.5       ,  1.71428571],\n",
       "       [ 1.64285714,  1.61904762]])"
      ]
     },
     "execution_count": 56,
     "metadata": {},
     "output_type": "execute_result"
    }
   ],
   "source": [
    "y"
   ]
  },
  {
   "cell_type": "code",
   "execution_count": 57,
   "metadata": {
    "execution": {
     "iopub.execute_input": "2021-01-10T18:18:02.801322Z",
     "iopub.status.busy": "2021-01-10T18:18:02.800576Z",
     "iopub.status.idle": "2021-01-10T18:18:02.869706Z",
     "shell.execute_reply": "2021-01-10T18:18:02.868815Z"
    },
    "papermill": {
     "duration": 0.153276,
     "end_time": "2021-01-10T18:18:02.869841",
     "exception": false,
     "start_time": "2021-01-10T18:18:02.716565",
     "status": "completed"
    },
    "tags": []
   },
   "outputs": [
    {
     "name": "stdout",
     "output_type": "stream",
     "text": [
      "(23772, 2, 4)\n",
      "(23772, 2)\n"
     ]
    }
   ],
   "source": [
    "#Validation split\n",
    "from sklearn.model_selection import train_test_split\n",
    "X_train,X_valid,y_train,y_valid = train_test_split(X,y,test_size=0.20,shuffle=True,random_state=42)\n",
    "print(X_train.shape)\n",
    "print(y_train.shape)"
   ]
  },
  {
   "cell_type": "code",
   "execution_count": null,
   "metadata": {
    "papermill": {
     "duration": 0.078324,
     "end_time": "2021-01-10T18:18:03.028043",
     "exception": false,
     "start_time": "2021-01-10T18:18:02.949719",
     "status": "completed"
    },
    "tags": []
   },
   "outputs": [],
   "source": []
  },
  {
   "cell_type": "code",
   "execution_count": 58,
   "metadata": {
    "execution": {
     "iopub.execute_input": "2021-01-10T18:18:03.192111Z",
     "iopub.status.busy": "2021-01-10T18:18:03.191441Z",
     "iopub.status.idle": "2021-01-10T18:18:08.833079Z",
     "shell.execute_reply": "2021-01-10T18:18:08.832377Z"
    },
    "papermill": {
     "duration": 5.725553,
     "end_time": "2021-01-10T18:18:08.833214",
     "exception": false,
     "start_time": "2021-01-10T18:18:03.107661",
     "status": "completed"
    },
    "tags": []
   },
   "outputs": [],
   "source": [
    "from keras.layers import LSTM,LSTMCell,Dense\n",
    "from keras.models import Sequential\n",
    "from keras.optimizers import SGD\n",
    "from keras.models import Model\n",
    "from keras.callbacks import EarlyStopping,ModelCheckpoint"
   ]
  },
  {
   "cell_type": "code",
   "execution_count": null,
   "metadata": {
    "papermill": {
     "duration": 0.078059,
     "end_time": "2021-01-10T18:18:08.990792",
     "exception": false,
     "start_time": "2021-01-10T18:18:08.912733",
     "status": "completed"
    },
    "tags": []
   },
   "outputs": [],
   "source": []
  },
  {
   "cell_type": "code",
   "execution_count": 59,
   "metadata": {
    "execution": {
     "iopub.execute_input": "2021-01-10T18:18:09.161673Z",
     "iopub.status.busy": "2021-01-10T18:18:09.161013Z",
     "iopub.status.idle": "2021-01-10T18:18:09.164682Z",
     "shell.execute_reply": "2021-01-10T18:18:09.163598Z"
    },
    "papermill": {
     "duration": 0.094947,
     "end_time": "2021-01-10T18:18:09.164813",
     "exception": false,
     "start_time": "2021-01-10T18:18:09.069866",
     "status": "completed"
    },
    "tags": []
   },
   "outputs": [],
   "source": [
    "def create_lstm_model(train_X):\n",
    "    model = Sequential()\n",
    "    model.add(LSTM(64, input_shape=(train_X.shape[1],train_X.shape[2])))\n",
    "    model.add(Dense(10))\n",
    "    model.add(Dense(2))\n",
    "#     model.compile()\n",
    "    return model"
   ]
  },
  {
   "cell_type": "code",
   "execution_count": 60,
   "metadata": {
    "execution": {
     "iopub.execute_input": "2021-01-10T18:18:09.328483Z",
     "iopub.status.busy": "2021-01-10T18:18:09.327583Z",
     "iopub.status.idle": "2021-01-10T18:18:09.926742Z",
     "shell.execute_reply": "2021-01-10T18:18:09.925849Z"
    },
    "papermill": {
     "duration": 0.683178,
     "end_time": "2021-01-10T18:18:09.926899",
     "exception": false,
     "start_time": "2021-01-10T18:18:09.243721",
     "status": "completed"
    },
    "tags": []
   },
   "outputs": [
    {
     "name": "stdout",
     "output_type": "stream",
     "text": [
      "Model: \"sequential\"\n",
      "_________________________________________________________________\n",
      "Layer (type)                 Output Shape              Param #   \n",
      "=================================================================\n",
      "lstm (LSTM)                  (None, 64)                17664     \n",
      "_________________________________________________________________\n",
      "dense (Dense)                (None, 10)                650       \n",
      "_________________________________________________________________\n",
      "dense_1 (Dense)              (None, 2)                 22        \n",
      "=================================================================\n",
      "Total params: 18,336\n",
      "Trainable params: 18,336\n",
      "Non-trainable params: 0\n",
      "_________________________________________________________________\n"
     ]
    }
   ],
   "source": [
    "model1 = create_lstm_model(X_train)\n",
    "model1.summary()\n",
    "opt=SGD(learning_rate=0.02)\n",
    "model1.compile(loss='mae', optimizer=opt)"
   ]
  },
  {
   "cell_type": "code",
   "execution_count": 61,
   "metadata": {
    "execution": {
     "iopub.execute_input": "2021-01-10T18:18:10.089080Z",
     "iopub.status.busy": "2021-01-10T18:18:10.088339Z",
     "iopub.status.idle": "2021-01-10T18:19:51.634686Z",
     "shell.execute_reply": "2021-01-10T18:19:51.634078Z"
    },
    "papermill": {
     "duration": 101.62811,
     "end_time": "2021-01-10T18:19:51.634803",
     "exception": false,
     "start_time": "2021-01-10T18:18:10.006693",
     "status": "completed"
    },
    "tags": []
   },
   "outputs": [
    {
     "name": "stdout",
     "output_type": "stream",
     "text": [
      "Epoch 1/100\n",
      "372/372 - 1s - loss: 0.3567 - val_loss: 0.2604\n",
      "Epoch 2/100\n",
      "372/372 - 1s - loss: 0.2599 - val_loss: 0.2532\n",
      "Epoch 3/100\n",
      "372/372 - 1s - loss: 0.2522 - val_loss: 0.2449\n",
      "Epoch 4/100\n",
      "372/372 - 1s - loss: 0.2457 - val_loss: 0.2400\n",
      "Epoch 5/100\n",
      "372/372 - 1s - loss: 0.2402 - val_loss: 0.2361\n",
      "Epoch 6/100\n",
      "372/372 - 1s - loss: 0.2346 - val_loss: 0.2255\n",
      "Epoch 7/100\n",
      "372/372 - 1s - loss: 0.2291 - val_loss: 0.2199\n",
      "Epoch 8/100\n",
      "372/372 - 1s - loss: 0.2228 - val_loss: 0.2325\n",
      "Epoch 9/100\n",
      "372/372 - 1s - loss: 0.2186 - val_loss: 0.2068\n",
      "Epoch 10/100\n",
      "372/372 - 1s - loss: 0.2141 - val_loss: 0.2000\n",
      "Epoch 11/100\n",
      "372/372 - 1s - loss: 0.2096 - val_loss: 0.1974\n",
      "Epoch 12/100\n",
      "372/372 - 1s - loss: 0.2049 - val_loss: 0.1955\n",
      "Epoch 13/100\n",
      "372/372 - 1s - loss: 0.2005 - val_loss: 0.1851\n",
      "Epoch 14/100\n",
      "372/372 - 1s - loss: 0.1983 - val_loss: 0.1842\n",
      "Epoch 15/100\n",
      "372/372 - 1s - loss: 0.1973 - val_loss: 0.1997\n",
      "Epoch 16/100\n",
      "372/372 - 1s - loss: 0.1942 - val_loss: 0.1886\n",
      "Epoch 17/100\n",
      "372/372 - 1s - loss: 0.1927 - val_loss: 0.1882\n",
      "Epoch 18/100\n",
      "372/372 - 1s - loss: 0.1913 - val_loss: 0.1883\n",
      "Epoch 19/100\n",
      "372/372 - 1s - loss: 0.1888 - val_loss: 0.1995\n",
      "Epoch 20/100\n",
      "372/372 - 1s - loss: 0.1891 - val_loss: 0.1830\n",
      "Epoch 21/100\n",
      "372/372 - 1s - loss: 0.1852 - val_loss: 0.1950\n",
      "Epoch 22/100\n",
      "372/372 - 1s - loss: 0.1862 - val_loss: 0.1785\n",
      "Epoch 23/100\n",
      "372/372 - 1s - loss: 0.1859 - val_loss: 0.1753\n",
      "Epoch 24/100\n",
      "372/372 - 1s - loss: 0.1842 - val_loss: 0.1925\n",
      "Epoch 25/100\n",
      "372/372 - 1s - loss: 0.1831 - val_loss: 0.1830\n",
      "Epoch 26/100\n",
      "372/372 - 1s - loss: 0.1818 - val_loss: 0.1807\n",
      "Epoch 27/100\n",
      "372/372 - 1s - loss: 0.1829 - val_loss: 0.1809\n",
      "Epoch 28/100\n",
      "372/372 - 1s - loss: 0.1810 - val_loss: 0.1928\n",
      "Epoch 29/100\n",
      "372/372 - 1s - loss: 0.1815 - val_loss: 0.1819\n",
      "Epoch 30/100\n",
      "372/372 - 1s - loss: 0.1804 - val_loss: 0.2299\n",
      "Epoch 31/100\n",
      "372/372 - 1s - loss: 0.1806 - val_loss: 0.1793\n",
      "Epoch 32/100\n",
      "372/372 - 1s - loss: 0.1797 - val_loss: 0.1811\n",
      "Epoch 33/100\n",
      "372/372 - 1s - loss: 0.1797 - val_loss: 0.1982\n",
      "Epoch 34/100\n",
      "372/372 - 1s - loss: 0.1795 - val_loss: 0.1711\n",
      "Epoch 35/100\n",
      "372/372 - 1s - loss: 0.1794 - val_loss: 0.1711\n",
      "Epoch 36/100\n",
      "372/372 - 1s - loss: 0.1785 - val_loss: 0.1989\n",
      "Epoch 37/100\n",
      "372/372 - 1s - loss: 0.1789 - val_loss: 0.1736\n",
      "Epoch 38/100\n",
      "372/372 - 1s - loss: 0.1782 - val_loss: 0.1787\n",
      "Epoch 39/100\n",
      "372/372 - 1s - loss: 0.1776 - val_loss: 0.1759\n",
      "Epoch 40/100\n",
      "372/372 - 1s - loss: 0.1781 - val_loss: 0.1878\n",
      "Epoch 41/100\n",
      "372/372 - 1s - loss: 0.1780 - val_loss: 0.1808\n",
      "Epoch 42/100\n",
      "372/372 - 1s - loss: 0.1776 - val_loss: 0.1827\n",
      "Epoch 43/100\n",
      "372/372 - 1s - loss: 0.1784 - val_loss: 0.1938\n",
      "Epoch 44/100\n",
      "372/372 - 1s - loss: 0.1773 - val_loss: 0.1777\n",
      "Epoch 45/100\n",
      "372/372 - 1s - loss: 0.1766 - val_loss: 0.1799\n",
      "Epoch 46/100\n",
      "372/372 - 1s - loss: 0.1766 - val_loss: 0.1828\n",
      "Epoch 47/100\n",
      "372/372 - 1s - loss: 0.1771 - val_loss: 0.1712\n",
      "Epoch 48/100\n",
      "372/372 - 1s - loss: 0.1765 - val_loss: 0.1852\n",
      "Epoch 49/100\n",
      "372/372 - 1s - loss: 0.1760 - val_loss: 0.1681\n",
      "Epoch 50/100\n",
      "372/372 - 1s - loss: 0.1763 - val_loss: 0.2369\n",
      "Epoch 51/100\n",
      "372/372 - 1s - loss: 0.1767 - val_loss: 0.1815\n",
      "Epoch 52/100\n",
      "372/372 - 1s - loss: 0.1756 - val_loss: 0.1856\n",
      "Epoch 53/100\n",
      "372/372 - 1s - loss: 0.1757 - val_loss: 0.1877\n",
      "Epoch 54/100\n",
      "372/372 - 1s - loss: 0.1762 - val_loss: 0.1869\n",
      "Epoch 55/100\n",
      "372/372 - 1s - loss: 0.1757 - val_loss: 0.1702\n",
      "Epoch 56/100\n",
      "372/372 - 1s - loss: 0.1750 - val_loss: 0.1730\n",
      "Epoch 57/100\n",
      "372/372 - 1s - loss: 0.1757 - val_loss: 0.1689\n",
      "Epoch 58/100\n",
      "372/372 - 1s - loss: 0.1751 - val_loss: 0.1696\n",
      "Epoch 59/100\n",
      "372/372 - 1s - loss: 0.1750 - val_loss: 0.1729\n",
      "Epoch 60/100\n",
      "372/372 - 1s - loss: 0.1744 - val_loss: 0.1693\n",
      "Epoch 61/100\n",
      "372/372 - 1s - loss: 0.1750 - val_loss: 0.1719\n",
      "Epoch 62/100\n",
      "372/372 - 1s - loss: 0.1753 - val_loss: 0.1876\n",
      "Epoch 63/100\n",
      "372/372 - 1s - loss: 0.1745 - val_loss: 0.1694\n",
      "Epoch 64/100\n",
      "372/372 - 1s - loss: 0.1747 - val_loss: 0.1710\n",
      "Epoch 65/100\n",
      "372/372 - 1s - loss: 0.1746 - val_loss: 0.1799\n",
      "Epoch 66/100\n",
      "372/372 - 1s - loss: 0.1742 - val_loss: 0.1852\n",
      "Epoch 67/100\n",
      "372/372 - 1s - loss: 0.1750 - val_loss: 0.1792\n",
      "Epoch 68/100\n",
      "372/372 - 1s - loss: 0.1739 - val_loss: 0.1694\n",
      "Epoch 69/100\n",
      "372/372 - 1s - loss: 0.1747 - val_loss: 0.1706\n",
      "Epoch 70/100\n",
      "372/372 - 1s - loss: 0.1739 - val_loss: 0.1916\n",
      "Epoch 71/100\n",
      "372/372 - 1s - loss: 0.1738 - val_loss: 0.1763\n",
      "Epoch 72/100\n",
      "372/372 - 1s - loss: 0.1744 - val_loss: 0.1729\n",
      "Epoch 73/100\n",
      "372/372 - 1s - loss: 0.1741 - val_loss: 0.1761\n",
      "Epoch 74/100\n",
      "372/372 - 1s - loss: 0.1736 - val_loss: 0.1692\n",
      "Epoch 75/100\n",
      "372/372 - 1s - loss: 0.1741 - val_loss: 0.1755\n",
      "Epoch 76/100\n",
      "372/372 - 1s - loss: 0.1730 - val_loss: 0.1675\n",
      "Epoch 77/100\n",
      "372/372 - 1s - loss: 0.1733 - val_loss: 0.1681\n",
      "Epoch 78/100\n",
      "372/372 - 1s - loss: 0.1731 - val_loss: 0.1669\n",
      "Epoch 79/100\n",
      "372/372 - 1s - loss: 0.1727 - val_loss: 0.1807\n",
      "Epoch 80/100\n",
      "372/372 - 1s - loss: 0.1736 - val_loss: 0.1765\n",
      "Epoch 81/100\n",
      "372/372 - 1s - loss: 0.1731 - val_loss: 0.2096\n",
      "Epoch 82/100\n",
      "372/372 - 1s - loss: 0.1736 - val_loss: 0.1790\n",
      "Epoch 83/100\n",
      "372/372 - 1s - loss: 0.1735 - val_loss: 0.1951\n",
      "Epoch 84/100\n",
      "372/372 - 1s - loss: 0.1732 - val_loss: 0.1676\n",
      "Epoch 85/100\n",
      "372/372 - 1s - loss: 0.1729 - val_loss: 0.1686\n",
      "Epoch 86/100\n",
      "372/372 - 1s - loss: 0.1732 - val_loss: 0.1728\n",
      "Epoch 87/100\n",
      "372/372 - 1s - loss: 0.1726 - val_loss: 0.1836\n",
      "Epoch 88/100\n",
      "372/372 - 1s - loss: 0.1726 - val_loss: 0.1685\n",
      "Epoch 89/100\n",
      "372/372 - 1s - loss: 0.1731 - val_loss: 0.1733\n",
      "Epoch 90/100\n",
      "372/372 - 1s - loss: 0.1726 - val_loss: 0.1699\n",
      "Epoch 91/100\n",
      "372/372 - 1s - loss: 0.1725 - val_loss: 0.1670\n",
      "Epoch 92/100\n",
      "372/372 - 1s - loss: 0.1720 - val_loss: 0.1678\n",
      "Epoch 93/100\n",
      "372/372 - 1s - loss: 0.1723 - val_loss: 0.1685\n",
      "Epoch 94/100\n",
      "372/372 - 1s - loss: 0.1722 - val_loss: 0.1755\n",
      "Epoch 95/100\n",
      "372/372 - 1s - loss: 0.1719 - val_loss: 0.1786\n",
      "Epoch 96/100\n",
      "372/372 - 1s - loss: 0.1717 - val_loss: 0.1831\n",
      "Epoch 97/100\n",
      "372/372 - 1s - loss: 0.1723 - val_loss: 0.1807\n",
      "Epoch 98/100\n",
      "372/372 - 1s - loss: 0.1725 - val_loss: 0.1695\n",
      "Epoch 99/100\n",
      "372/372 - 1s - loss: 0.1715 - val_loss: 0.1680\n",
      "Epoch 100/100\n",
      "372/372 - 1s - loss: 0.1719 - val_loss: 0.1670\n"
     ]
    }
   ],
   "source": [
    "history = model1.fit(X_train, y_train, epochs=100, batch_size=64, validation_data=(X_valid, y_valid), verbose=2, shuffle=True)"
   ]
  },
  {
   "cell_type": "code",
   "execution_count": null,
   "metadata": {
    "papermill": {
     "duration": 0.145047,
     "end_time": "2021-01-10T18:19:51.925904",
     "exception": false,
     "start_time": "2021-01-10T18:19:51.780857",
     "status": "completed"
    },
    "tags": []
   },
   "outputs": [],
   "source": []
  },
  {
   "cell_type": "markdown",
   "metadata": {
    "papermill": {
     "duration": 0.143838,
     "end_time": "2021-01-10T18:19:52.213604",
     "exception": false,
     "start_time": "2021-01-10T18:19:52.069766",
     "status": "completed"
    },
    "tags": []
   },
   "source": [
    "## Inferencing using trained model on test set"
   ]
  },
  {
   "cell_type": "code",
   "execution_count": 62,
   "metadata": {
    "execution": {
     "iopub.execute_input": "2021-01-10T18:19:52.514417Z",
     "iopub.status.busy": "2021-01-10T18:19:52.513576Z",
     "iopub.status.idle": "2021-01-10T18:19:52.518905Z",
     "shell.execute_reply": "2021-01-10T18:19:52.519389Z"
    },
    "papermill": {
     "duration": 0.157623,
     "end_time": "2021-01-10T18:19:52.519533",
     "exception": false,
     "start_time": "2021-01-10T18:19:52.361910",
     "status": "completed"
    },
    "tags": []
   },
   "outputs": [
    {
     "data": {
      "text/plain": [
       "Index(['distance_n', 'ArrivalDelay_n', 'DepartureDelay_n', 'ArrivalDelay_n+1',\n",
       "       'DepartureDelay_n+1', 'distance_n-1', 'ArrivalDelay_n-1',\n",
       "       'DepartureDelay_n-1', 'planned_running_time_n-1',\n",
       "       'planned_running_time_n'],\n",
       "      dtype='object')"
      ]
     },
     "execution_count": 62,
     "metadata": {},
     "output_type": "execute_result"
    }
   ],
   "source": [
    "dfnew.columns"
   ]
  },
  {
   "cell_type": "code",
   "execution_count": 63,
   "metadata": {
    "execution": {
     "iopub.execute_input": "2021-01-10T18:19:52.819212Z",
     "iopub.status.busy": "2021-01-10T18:19:52.818501Z",
     "iopub.status.idle": "2021-01-10T18:19:52.823286Z",
     "shell.execute_reply": "2021-01-10T18:19:52.822541Z"
    },
    "papermill": {
     "duration": 0.15817,
     "end_time": "2021-01-10T18:19:52.823448",
     "exception": false,
     "start_time": "2021-01-10T18:19:52.665278",
     "status": "completed"
    },
    "tags": []
   },
   "outputs": [
    {
     "name": "stdout",
     "output_type": "stream",
     "text": [
      "s\n"
     ]
    }
   ],
   "source": [
    "print(\"s\")"
   ]
  },
  {
   "cell_type": "code",
   "execution_count": 64,
   "metadata": {
    "execution": {
     "iopub.execute_input": "2021-01-10T18:19:53.126092Z",
     "iopub.status.busy": "2021-01-10T18:19:53.125406Z",
     "iopub.status.idle": "2021-01-10T18:19:53.185382Z",
     "shell.execute_reply": "2021-01-10T18:19:53.185954Z"
    },
    "papermill": {
     "duration": 0.215218,
     "end_time": "2021-01-10T18:19:53.186117",
     "exception": false,
     "start_time": "2021-01-10T18:19:52.970899",
     "status": "completed"
    },
    "tags": []
   },
   "outputs": [
    {
     "data": {
      "text/plain": [
       "{'12321': 47,\n",
       " '12833': 40,\n",
       " '12834': 45,\n",
       " '12295': 46,\n",
       " '12616': 47,\n",
       " '12617': 47,\n",
       " '12138': 49,\n",
       " '12139': 45,\n",
       " '12809': 44,\n",
       " '12840': 47,\n",
       " '12656': 50,\n",
       " '12625': 50,\n",
       " '12722': 43,\n",
       " '12311': 49,\n",
       " '12925': 42}"
      ]
     },
     "execution_count": 64,
     "metadata": {},
     "output_type": "execute_result"
    }
   ],
   "source": [
    "trains = list(set(df.trainCode_n.tolist()))\n",
    "c={}\n",
    "for i in trains:\n",
    "    dfp = df[df['trainCode_n']==i]\n",
    "    stations = dfp.groupby('runDate').first().shape[0]\n",
    "    c[str(i)]=stations\n",
    "c"
   ]
  },
  {
   "cell_type": "code",
   "execution_count": 65,
   "metadata": {
    "execution": {
     "iopub.execute_input": "2021-01-10T18:19:53.516771Z",
     "iopub.status.busy": "2021-01-10T18:19:53.515775Z",
     "iopub.status.idle": "2021-01-10T18:19:53.520438Z",
     "shell.execute_reply": "2021-01-10T18:19:53.519720Z"
    },
    "papermill": {
     "duration": 0.189345,
     "end_time": "2021-01-10T18:19:53.520556",
     "exception": false,
     "start_time": "2021-01-10T18:19:53.331211",
     "status": "completed"
    },
    "tags": []
   },
   "outputs": [],
   "source": [
    "#FINAL ONE\n",
    "def create_test_df(time_steps,dfi):\n",
    "    count=0\n",
    "    dfx=dfi\n",
    "    columns = dfx.columns\n",
    "    print(columns)\n",
    "    trains = list(set(dfx.trainCode_n.tolist()))\n",
    "    print(trains)\n",
    "    train_dfs = []\n",
    "    dfs = dfx.groupby(\"trainCode_n\")\n",
    "    for train in trains :\n",
    "#         print(train.shape)\n",
    "        train_num_df=dfs.get_group(train)\n",
    "        distinct_train_dfs= train_num_df.groupby('runDate')\n",
    "        for index,group in distinct_train_dfs:\n",
    "            per_train_df = group\n",
    "\n",
    "            #for previous stations logic\n",
    "            for i in range(1,time_steps+1):\n",
    "                for col in columns:\n",
    "        #             print(j)\n",
    "                    if col not in ['trainCode_n']:\n",
    "                        per_train_df[str(col)+\"-{}\".format(i)] = per_train_df[str(col)].shift(i)\n",
    "            \n",
    "            per_train_df=per_train_df[time_steps:-1]\n",
    "\n",
    "            #distance_n is the amount of distance that the train \n",
    "            #has to travel to reach next station\n",
    "            per_train_df['distance_n-1']=per_train_df['distance_n']-per_train_df['distance_n-1']\n",
    "\n",
    "            #planned running is the amount of time that \n",
    "            #the train is scheduled for to get to next station from current station\n",
    "        return per_train_df"
   ]
  },
  {
   "cell_type": "code",
   "execution_count": 66,
   "metadata": {
    "execution": {
     "iopub.execute_input": "2021-01-10T18:19:53.832382Z",
     "iopub.status.busy": "2021-01-10T18:19:53.827064Z",
     "iopub.status.idle": "2021-01-10T18:19:54.008742Z",
     "shell.execute_reply": "2021-01-10T18:19:54.009330Z"
    },
    "papermill": {
     "duration": 0.341416,
     "end_time": "2021-01-10T18:19:54.009506",
     "exception": false,
     "start_time": "2021-01-10T18:19:53.668090",
     "status": "completed"
    },
    "tags": []
   },
   "outputs": [
    {
     "name": "stdout",
     "output_type": "stream",
     "text": [
      "predicting for train Id 11528\n",
      "Index(['runDate', 'stations_n', 'trainCode_n', 'scheduledArrival_n',\n",
      "       'scheduledDeparture_n', 'actualArrival_n', 'actualDeparture_n',\n",
      "       'distance_n', 'dayCount_n', 'ArrivalDelay_n', 'DepartureDelay_n'],\n",
      "      dtype='object')\n",
      "Index(['runDate', 'stations_n', 'trainCode_n', 'scheduledArrival_n',\n",
      "       'scheduledDeparture_n', 'distance_n', 'dayCount_n'],\n",
      "      dtype='object')\n",
      "predicting for train Id 11529\n",
      "Index(['runDate', 'stations_n', 'trainCode_n', 'scheduledArrival_n',\n",
      "       'scheduledDeparture_n', 'actualArrival_n', 'actualDeparture_n',\n",
      "       'distance_n', 'dayCount_n', 'ArrivalDelay_n', 'DepartureDelay_n'],\n",
      "      dtype='object')\n",
      "Index(['runDate', 'stations_n', 'trainCode_n', 'scheduledArrival_n',\n",
      "       'scheduledDeparture_n', 'distance_n', 'dayCount_n'],\n",
      "      dtype='object')\n",
      "predicting for train Id 11615\n",
      "Index(['runDate', 'stations_n', 'trainCode_n', 'scheduledArrival_n',\n",
      "       'scheduledDeparture_n', 'actualArrival_n', 'actualDeparture_n',\n",
      "       'distance_n', 'dayCount_n', 'ArrivalDelay_n', 'DepartureDelay_n'],\n",
      "      dtype='object')\n",
      "Index(['runDate', 'stations_n', 'trainCode_n', 'scheduledArrival_n',\n",
      "       'scheduledDeparture_n', 'distance_n', 'dayCount_n'],\n",
      "      dtype='object')\n",
      "predicting for train Id 11628\n",
      "Index(['runDate', 'stations_n', 'trainCode_n', 'scheduledArrival_n',\n",
      "       'scheduledDeparture_n', 'actualArrival_n', 'actualDeparture_n',\n",
      "       'distance_n', 'dayCount_n', 'ArrivalDelay_n', 'DepartureDelay_n'],\n",
      "      dtype='object')\n",
      "Index(['runDate', 'stations_n', 'trainCode_n', 'scheduledArrival_n',\n",
      "       'scheduledDeparture_n', 'distance_n', 'dayCount_n'],\n",
      "      dtype='object')\n",
      "predicting for train Id 11849\n",
      "Index(['runDate', 'stations_n', 'trainCode_n', 'scheduledArrival_n',\n",
      "       'scheduledDeparture_n', 'actualArrival_n', 'actualDeparture_n',\n",
      "       'distance_n', 'dayCount_n', 'ArrivalDelay_n', 'DepartureDelay_n'],\n",
      "      dtype='object')\n",
      "Index(['runDate', 'stations_n', 'trainCode_n', 'scheduledArrival_n',\n",
      "       'scheduledDeparture_n', 'distance_n', 'dayCount_n'],\n",
      "      dtype='object')\n",
      "predicting for train Id 11850\n",
      "Index(['runDate', 'stations_n', 'trainCode_n', 'scheduledArrival_n',\n",
      "       'scheduledDeparture_n', 'actualArrival_n', 'actualDeparture_n',\n",
      "       'distance_n', 'dayCount_n', 'ArrivalDelay_n', 'DepartureDelay_n'],\n",
      "      dtype='object')\n",
      "Index(['runDate', 'stations_n', 'trainCode_n', 'scheduledArrival_n',\n",
      "       'scheduledDeparture_n', 'distance_n', 'dayCount_n'],\n",
      "      dtype='object')\n",
      "predicting for train Id 11858\n",
      "Index(['runDate', 'stations_n', 'trainCode_n', 'scheduledArrival_n',\n",
      "       'scheduledDeparture_n', 'actualArrival_n', 'actualDeparture_n',\n",
      "       'distance_n', 'dayCount_n', 'ArrivalDelay_n', 'DepartureDelay_n'],\n",
      "      dtype='object')\n",
      "Index(['runDate', 'stations_n', 'trainCode_n', 'scheduledArrival_n',\n",
      "       'scheduledDeparture_n', 'distance_n', 'dayCount_n'],\n",
      "      dtype='object')\n",
      "predicting for train Id 11889\n",
      "Index(['runDate', 'stations_n', 'trainCode_n', 'scheduledArrival_n',\n",
      "       'scheduledDeparture_n', 'actualArrival_n', 'actualDeparture_n',\n",
      "       'distance_n', 'dayCount_n', 'ArrivalDelay_n', 'DepartureDelay_n'],\n",
      "      dtype='object')\n",
      "Index(['runDate', 'stations_n', 'trainCode_n', 'scheduledArrival_n',\n",
      "       'scheduledDeparture_n', 'distance_n', 'dayCount_n'],\n",
      "      dtype='object')\n",
      "predicting for train Id 11953\n",
      "Index(['runDate', 'stations_n', 'trainCode_n', 'scheduledArrival_n',\n",
      "       'scheduledDeparture_n', 'actualArrival_n', 'actualDeparture_n',\n",
      "       'distance_n', 'dayCount_n', 'ArrivalDelay_n', 'DepartureDelay_n'],\n",
      "      dtype='object')\n",
      "Index(['runDate', 'stations_n', 'trainCode_n', 'scheduledArrival_n',\n",
      "       'scheduledDeparture_n', 'distance_n', 'dayCount_n'],\n",
      "      dtype='object')\n",
      "predicting for train Id 12016\n",
      "Index(['runDate', 'stations_n', 'trainCode_n', 'scheduledArrival_n',\n",
      "       'scheduledDeparture_n', 'actualArrival_n', 'actualDeparture_n',\n",
      "       'distance_n', 'dayCount_n', 'ArrivalDelay_n', 'DepartureDelay_n'],\n",
      "      dtype='object')\n",
      "Index(['runDate', 'stations_n', 'trainCode_n', 'scheduledArrival_n',\n",
      "       'scheduledDeparture_n', 'distance_n', 'dayCount_n'],\n",
      "      dtype='object')\n",
      "predicting for train Id 12038\n",
      "Index(['runDate', 'stations_n', 'trainCode_n', 'scheduledArrival_n',\n",
      "       'scheduledDeparture_n', 'actualArrival_n', 'actualDeparture_n',\n",
      "       'distance_n', 'dayCount_n', 'ArrivalDelay_n', 'DepartureDelay_n'],\n",
      "      dtype='object')\n",
      "Index(['runDate', 'stations_n', 'trainCode_n', 'scheduledArrival_n',\n",
      "       'scheduledDeparture_n', 'distance_n', 'dayCount_n'],\n",
      "      dtype='object')\n",
      "predicting for train Id 12039\n",
      "Index(['runDate', 'stations_n', 'trainCode_n', 'scheduledArrival_n',\n",
      "       'scheduledDeparture_n', 'actualArrival_n', 'actualDeparture_n',\n",
      "       'distance_n', 'dayCount_n', 'ArrivalDelay_n', 'DepartureDelay_n'],\n",
      "      dtype='object')\n",
      "Index(['runDate', 'stations_n', 'trainCode_n', 'scheduledArrival_n',\n",
      "       'scheduledDeparture_n', 'distance_n', 'dayCount_n'],\n",
      "      dtype='object')\n",
      "predicting for train Id 12045\n",
      "Index(['runDate', 'stations_n', 'trainCode_n', 'scheduledArrival_n',\n",
      "       'scheduledDeparture_n', 'actualArrival_n', 'actualDeparture_n',\n",
      "       'distance_n', 'dayCount_n', 'ArrivalDelay_n', 'DepartureDelay_n'],\n",
      "      dtype='object')\n",
      "Index(['runDate', 'stations_n', 'trainCode_n', 'scheduledArrival_n',\n",
      "       'scheduledDeparture_n', 'distance_n', 'dayCount_n'],\n",
      "      dtype='object')\n",
      "predicting for train Id 12117\n",
      "Index(['runDate', 'stations_n', 'trainCode_n', 'scheduledArrival_n',\n",
      "       'scheduledDeparture_n', 'actualArrival_n', 'actualDeparture_n',\n",
      "       'distance_n', 'dayCount_n', 'ArrivalDelay_n', 'DepartureDelay_n'],\n",
      "      dtype='object')\n",
      "Index(['runDate', 'stations_n', 'trainCode_n', 'scheduledArrival_n',\n",
      "       'scheduledDeparture_n', 'distance_n', 'dayCount_n'],\n",
      "      dtype='object')\n",
      "predicting for train Id 13260\n",
      "Index(['runDate', 'stations_n', 'trainCode_n', 'scheduledArrival_n',\n",
      "       'scheduledDeparture_n', 'actualArrival_n', 'actualDeparture_n',\n",
      "       'distance_n', 'dayCount_n', 'ArrivalDelay_n', 'DepartureDelay_n'],\n",
      "      dtype='object')\n",
      "Index(['runDate', 'stations_n', 'trainCode_n', 'scheduledArrival_n',\n",
      "       'scheduledDeparture_n', 'distance_n', 'dayCount_n'],\n",
      "      dtype='object')\n"
     ]
    }
   ],
   "source": [
    "temp_df=df2\n",
    "temp_dfs = temp_df.groupby('trainId')\n",
    "for i,train_df in temp_dfs:\n",
    "    trainCode = list(set(train_df['trainCode'].tolist()))[0]\n",
    "    trainId = list(set(train_df['trainId'].tolist()))[0]\n",
    "    print(\"predicting for train Id {}\".format(trainId))\n",
    "    to_append_df = df[df['trainCode_n']==trainCode]\n",
    "    to_append_df = to_append_df[-c[str(trainCode)]:]\n",
    "\n",
    "    \n",
    "#     print(to_append_df.columns)\n",
    "    \n",
    "#     shape_of_appended= int(c[str(trainCode)])\n",
    "    last_two_train = to_append_df.tail(2)\n",
    "    print(last_two_train.columns)\n",
    "#     print(last_departure_delay)\n",
    "#     del train_df['day']\n",
    "    \n",
    "#     train_df.at[0,'Actual_']\n",
    "    \n",
    "    train_df['stations_n']=train_df['stations']\n",
    "    del train_df['stations']\n",
    "    del train_df['trainId']\n",
    "    train_df['trainCode_n']=train_df['trainCode']\n",
    "    del train_df['trainCode']\n",
    "    del train_df['index']\n",
    "    del train_df['trainStationId']\n",
    "    del train_df['day']\n",
    "    train_df['scheduledArrival_n']=train_df['scheduledArrival']\n",
    "    train_df['scheduledDeparture_n']=train_df['scheduledDeparture']\n",
    "    train_df['distance_n']=train_df['distance']\n",
    "    train_df['dayCount_n']=train_df['dayCount']\n",
    "    \n",
    "    \n",
    "    del train_df['scheduledArrival']\n",
    "    del train_df['scheduledDeparture']\n",
    "    del train_df['dayCount']\n",
    "    del train_df['distance']\n",
    "\n",
    "    print(train_df.columns)\n",
    "#     print(group.shape)\n"
   ]
  },
  {
   "cell_type": "code",
   "execution_count": 67,
   "metadata": {
    "execution": {
     "iopub.execute_input": "2021-01-10T18:19:54.317045Z",
     "iopub.status.busy": "2021-01-10T18:19:54.316098Z",
     "iopub.status.idle": "2021-01-10T18:19:54.320104Z",
     "shell.execute_reply": "2021-01-10T18:19:54.320623Z"
    },
    "papermill": {
     "duration": 0.163947,
     "end_time": "2021-01-10T18:19:54.320831",
     "exception": false,
     "start_time": "2021-01-10T18:19:54.156884",
     "status": "completed"
    },
    "tags": []
   },
   "outputs": [
    {
     "name": "stdout",
     "output_type": "stream",
     "text": [
      "Index(['runDate', 'stations_n', 'trainCode_n', 'scheduledArrival_n',\n",
      "       'scheduledDeparture_n', 'distance_n', 'dayCount_n'],\n",
      "      dtype='object')\n",
      "[12311]\n"
     ]
    }
   ],
   "source": [
    "test_df  =create_test_df(1,train_df)"
   ]
  },
  {
   "cell_type": "code",
   "execution_count": 68,
   "metadata": {
    "execution": {
     "iopub.execute_input": "2021-01-10T18:19:54.622681Z",
     "iopub.status.busy": "2021-01-10T18:19:54.622046Z",
     "iopub.status.idle": "2021-01-10T18:19:54.627084Z",
     "shell.execute_reply": "2021-01-10T18:19:54.626514Z"
    },
    "papermill": {
     "duration": 0.157503,
     "end_time": "2021-01-10T18:19:54.627249",
     "exception": false,
     "start_time": "2021-01-10T18:19:54.469746",
     "status": "completed"
    },
    "tags": []
   },
   "outputs": [
    {
     "data": {
      "text/plain": [
       "Index(['distance_n', 'ArrivalDelay_n', 'DepartureDelay_n', 'ArrivalDelay_n+1',\n",
       "       'DepartureDelay_n+1', 'distance_n-1', 'ArrivalDelay_n-1',\n",
       "       'DepartureDelay_n-1', 'planned_running_time_n-1',\n",
       "       'planned_running_time_n'],\n",
       "      dtype='object')"
      ]
     },
     "execution_count": 68,
     "metadata": {},
     "output_type": "execute_result"
    }
   ],
   "source": [
    "dfnew.columns"
   ]
  },
  {
   "cell_type": "code",
   "execution_count": 69,
   "metadata": {
    "execution": {
     "iopub.execute_input": "2021-01-10T18:19:54.931713Z",
     "iopub.status.busy": "2021-01-10T18:19:54.930639Z",
     "iopub.status.idle": "2021-01-10T18:19:54.935238Z",
     "shell.execute_reply": "2021-01-10T18:19:54.935774Z"
    },
    "papermill": {
     "duration": 0.158755,
     "end_time": "2021-01-10T18:19:54.935926",
     "exception": false,
     "start_time": "2021-01-10T18:19:54.777171",
     "status": "completed"
    },
    "tags": []
   },
   "outputs": [],
   "source": [
    "test_df.columns\n",
    "del test_df['runDate-1']\n",
    "del test_df['stations_n-1']\n",
    "del test_df['stations_n']\n",
    "del test_df['runDate']\n",
    "del test_df['dayCount_n-1']\n",
    "del test_df['dayCount_n']"
   ]
  },
  {
   "cell_type": "code",
   "execution_count": 70,
   "metadata": {
    "execution": {
     "iopub.execute_input": "2021-01-10T18:19:55.241340Z",
     "iopub.status.busy": "2021-01-10T18:19:55.240342Z",
     "iopub.status.idle": "2021-01-10T18:19:55.247417Z",
     "shell.execute_reply": "2021-01-10T18:19:55.246834Z"
    },
    "papermill": {
     "duration": 0.158495,
     "end_time": "2021-01-10T18:19:55.247540",
     "exception": false,
     "start_time": "2021-01-10T18:19:55.089045",
     "status": "completed"
    },
    "tags": []
   },
   "outputs": [
    {
     "data": {
      "text/plain": [
       "Index(['trainCode_n', 'scheduledArrival_n', 'scheduledDeparture_n',\n",
       "       'distance_n', 'scheduledArrival_n-1', 'scheduledDeparture_n-1',\n",
       "       'distance_n-1'],\n",
       "      dtype='object')"
      ]
     },
     "execution_count": 70,
     "metadata": {},
     "output_type": "execute_result"
    }
   ],
   "source": [
    "test_df.columns"
   ]
  },
  {
   "cell_type": "code",
   "execution_count": 71,
   "metadata": {
    "execution": {
     "iopub.execute_input": "2021-01-10T18:19:55.550569Z",
     "iopub.status.busy": "2021-01-10T18:19:55.549794Z",
     "iopub.status.idle": "2021-01-10T18:19:55.556875Z",
     "shell.execute_reply": "2021-01-10T18:19:55.557425Z"
    },
    "papermill": {
     "duration": 0.160326,
     "end_time": "2021-01-10T18:19:55.557570",
     "exception": false,
     "start_time": "2021-01-10T18:19:55.397244",
     "status": "completed"
    },
    "tags": []
   },
   "outputs": [],
   "source": [
    "#Iterating and Recursively doing the predictions\n",
    "for i in range(0,51):\n",
    "    X_test=test_df[i:i+2]\n",
    "#     model1.predict(X_test)"
   ]
  },
  {
   "cell_type": "markdown",
   "metadata": {
    "papermill": {
     "duration": 0.150045,
     "end_time": "2021-01-10T18:19:55.857143",
     "exception": false,
     "start_time": "2021-01-10T18:19:55.707098",
     "status": "completed"
    },
    "tags": []
   },
   "source": [
    "for i in range()"
   ]
  },
  {
   "cell_type": "markdown",
   "metadata": {
    "papermill": {
     "duration": 0.148594,
     "end_time": "2021-01-10T18:19:56.155573",
     "exception": false,
     "start_time": "2021-01-10T18:19:56.006979",
     "status": "completed"
    },
    "tags": []
   },
   "source": [
    "### Comparing this with baseline mean delays"
   ]
  },
  {
   "cell_type": "code",
   "execution_count": 72,
   "metadata": {
    "execution": {
     "iopub.execute_input": "2021-01-10T18:19:56.503426Z",
     "iopub.status.busy": "2021-01-10T18:19:56.502694Z",
     "iopub.status.idle": "2021-01-10T18:19:56.509337Z",
     "shell.execute_reply": "2021-01-10T18:19:56.509903Z"
    },
    "papermill": {
     "duration": 0.159988,
     "end_time": "2021-01-10T18:19:56.510062",
     "exception": false,
     "start_time": "2021-01-10T18:19:56.350074",
     "status": "completed"
    },
    "tags": []
   },
   "outputs": [],
   "source": [
    "# for i in list(set(df.trainCode_n.tolist())):\n",
    "temp1 = df[['trainCode_n','ArrivalDelay_n','DepartureDelay_n','stations_n']]\n",
    "t=temp1.groupby('trainCode_n')\n",
    "    \n",
    "\n",
    "    "
   ]
  },
  {
   "cell_type": "code",
   "execution_count": 73,
   "metadata": {
    "execution": {
     "iopub.execute_input": "2021-01-10T18:19:56.814550Z",
     "iopub.status.busy": "2021-01-10T18:19:56.813482Z",
     "iopub.status.idle": "2021-01-10T18:19:56.819154Z",
     "shell.execute_reply": "2021-01-10T18:19:56.818411Z"
    },
    "papermill": {
     "duration": 0.160132,
     "end_time": "2021-01-10T18:19:56.819285",
     "exception": false,
     "start_time": "2021-01-10T18:19:56.659153",
     "status": "completed"
    },
    "tags": []
   },
   "outputs": [],
   "source": [
    "# t.get_group(12833)"
   ]
  },
  {
   "cell_type": "code",
   "execution_count": 74,
   "metadata": {
    "execution": {
     "iopub.execute_input": "2021-01-10T18:19:57.133132Z",
     "iopub.status.busy": "2021-01-10T18:19:57.132411Z",
     "iopub.status.idle": "2021-01-10T18:19:57.279913Z",
     "shell.execute_reply": "2021-01-10T18:19:57.278869Z"
    },
    "papermill": {
     "duration": 0.309022,
     "end_time": "2021-01-10T18:19:57.280105",
     "exception": false,
     "start_time": "2021-01-10T18:19:56.971083",
     "status": "completed"
    },
    "tags": []
   },
   "outputs": [
    {
     "name": "stdout",
     "output_type": "stream",
     "text": [
      "Index(['runDate', 'stations', 'trainId', 'trainCode', 'index',\n",
      "       'trainStationId', 'scheduledArrival', 'scheduledDeparture', 'distance',\n",
      "       'dayCount', 'day', 'stations_n', 'trainCode_n', 'ArrivalDelay_n',\n",
      "       'DepartureDelay_n'],\n",
      "      dtype='object')\n",
      "Index(['runDate', 'stations', 'trainId', 'trainCode', 'index',\n",
      "       'trainStationId', 'scheduledArrival', 'scheduledDeparture', 'distance',\n",
      "       'dayCount', 'day', 'stations_n', 'trainCode_n', 'ArrivalDelay_n',\n",
      "       'DepartureDelay_n'],\n",
      "      dtype='object')\n",
      "Index(['runDate', 'stations', 'trainId', 'trainCode', 'index',\n",
      "       'trainStationId', 'scheduledArrival', 'scheduledDeparture', 'distance',\n",
      "       'dayCount', 'day', 'stations_n', 'trainCode_n', 'ArrivalDelay_n',\n",
      "       'DepartureDelay_n'],\n",
      "      dtype='object')\n",
      "Index(['runDate', 'stations', 'trainId', 'trainCode', 'index',\n",
      "       'trainStationId', 'scheduledArrival', 'scheduledDeparture', 'distance',\n",
      "       'dayCount', 'day', 'stations_n', 'trainCode_n', 'ArrivalDelay_n',\n",
      "       'DepartureDelay_n'],\n",
      "      dtype='object')\n",
      "Index(['runDate', 'stations', 'trainId', 'trainCode', 'index',\n",
      "       'trainStationId', 'scheduledArrival', 'scheduledDeparture', 'distance',\n",
      "       'dayCount', 'day', 'stations_n', 'trainCode_n', 'ArrivalDelay_n',\n",
      "       'DepartureDelay_n'],\n",
      "      dtype='object')\n",
      "Index(['runDate', 'stations', 'trainId', 'trainCode', 'index',\n",
      "       'trainStationId', 'scheduledArrival', 'scheduledDeparture', 'distance',\n",
      "       'dayCount', 'day', 'stations_n', 'trainCode_n', 'ArrivalDelay_n',\n",
      "       'DepartureDelay_n'],\n",
      "      dtype='object')\n",
      "Index(['runDate', 'stations', 'trainId', 'trainCode', 'index',\n",
      "       'trainStationId', 'scheduledArrival', 'scheduledDeparture', 'distance',\n",
      "       'dayCount', 'day', 'stations_n', 'trainCode_n', 'ArrivalDelay_n',\n",
      "       'DepartureDelay_n'],\n",
      "      dtype='object')\n",
      "Index(['runDate', 'stations', 'trainId', 'trainCode', 'index',\n",
      "       'trainStationId', 'scheduledArrival', 'scheduledDeparture', 'distance',\n",
      "       'dayCount', 'day', 'stations_n', 'trainCode_n', 'ArrivalDelay_n',\n",
      "       'DepartureDelay_n'],\n",
      "      dtype='object')\n",
      "Index(['runDate', 'stations', 'trainId', 'trainCode', 'index',\n",
      "       'trainStationId', 'scheduledArrival', 'scheduledDeparture', 'distance',\n",
      "       'dayCount', 'day', 'stations_n', 'trainCode_n', 'ArrivalDelay_n',\n",
      "       'DepartureDelay_n'],\n",
      "      dtype='object')\n",
      "Index(['runDate', 'stations', 'trainId', 'trainCode', 'index',\n",
      "       'trainStationId', 'scheduledArrival', 'scheduledDeparture', 'distance',\n",
      "       'dayCount', 'day', 'stations_n', 'trainCode_n', 'ArrivalDelay_n',\n",
      "       'DepartureDelay_n'],\n",
      "      dtype='object')\n",
      "Index(['runDate', 'stations', 'trainId', 'trainCode', 'index',\n",
      "       'trainStationId', 'scheduledArrival', 'scheduledDeparture', 'distance',\n",
      "       'dayCount', 'day', 'stations_n', 'trainCode_n', 'ArrivalDelay_n',\n",
      "       'DepartureDelay_n'],\n",
      "      dtype='object')\n",
      "Index(['runDate', 'stations', 'trainId', 'trainCode', 'index',\n",
      "       'trainStationId', 'scheduledArrival', 'scheduledDeparture', 'distance',\n",
      "       'dayCount', 'day', 'stations_n', 'trainCode_n', 'ArrivalDelay_n',\n",
      "       'DepartureDelay_n'],\n",
      "      dtype='object')\n",
      "Index(['runDate', 'stations', 'trainId', 'trainCode', 'index',\n",
      "       'trainStationId', 'scheduledArrival', 'scheduledDeparture', 'distance',\n",
      "       'dayCount', 'day', 'stations_n', 'trainCode_n', 'ArrivalDelay_n',\n",
      "       'DepartureDelay_n'],\n",
      "      dtype='object')\n",
      "Index(['runDate', 'stations', 'trainId', 'trainCode', 'index',\n",
      "       'trainStationId', 'scheduledArrival', 'scheduledDeparture', 'distance',\n",
      "       'dayCount', 'day', 'stations_n', 'trainCode_n', 'ArrivalDelay_n',\n",
      "       'DepartureDelay_n'],\n",
      "      dtype='object')\n",
      "Index(['runDate', 'stations', 'trainId', 'trainCode', 'index',\n",
      "       'trainStationId', 'scheduledArrival', 'scheduledDeparture', 'distance',\n",
      "       'dayCount', 'day', 'stations_n', 'trainCode_n', 'ArrivalDelay_n',\n",
      "       'DepartureDelay_n'],\n",
      "      dtype='object')\n"
     ]
    }
   ],
   "source": [
    "lists = []\n",
    "for i in list(set(df2.trainId.tolist())):\n",
    "    t2 = df2[df2['trainId']==i]\n",
    "    t2['stations_n']=t2['stations']\n",
    "    t2 = t2[:-1]\n",
    "    code = int(list(set(t2.trainCode.tolist()))[0])\n",
    "#     st=t2.stations.tolist()\n",
    "    \n",
    "    delays = t.get_group(code).groupby('stations_n').mean().reset_index()\n",
    "    print\n",
    "    t2=pd.merge(t2,delays,on='stations_n')\n",
    "    \n",
    "#     print(delays.columns)\n",
    "    print(t2.columns)\n",
    "    lists.append(t2)"
   ]
  },
  {
   "cell_type": "code",
   "execution_count": 75,
   "metadata": {
    "execution": {
     "iopub.execute_input": "2021-01-10T18:19:57.599122Z",
     "iopub.status.busy": "2021-01-10T18:19:57.597164Z",
     "iopub.status.idle": "2021-01-10T18:19:57.619473Z",
     "shell.execute_reply": "2021-01-10T18:19:57.618762Z"
    },
    "papermill": {
     "duration": 0.178563,
     "end_time": "2021-01-10T18:19:57.619590",
     "exception": false,
     "start_time": "2021-01-10T18:19:57.441027",
     "status": "completed"
    },
    "tags": []
   },
   "outputs": [],
   "source": [
    "    \n",
    "final_df = pd.concat(lists)"
   ]
  },
  {
   "cell_type": "code",
   "execution_count": 76,
   "metadata": {
    "execution": {
     "iopub.execute_input": "2021-01-10T18:19:57.929840Z",
     "iopub.status.busy": "2021-01-10T18:19:57.928900Z",
     "iopub.status.idle": "2021-01-10T18:19:57.932811Z",
     "shell.execute_reply": "2021-01-10T18:19:57.932110Z"
    },
    "papermill": {
     "duration": 0.162938,
     "end_time": "2021-01-10T18:19:57.932922",
     "exception": false,
     "start_time": "2021-01-10T18:19:57.769984",
     "status": "completed"
    },
    "tags": []
   },
   "outputs": [],
   "source": [
    "final_df['ArrivalDelay_n']=final_df['ArrivalDelay_n'].apply(lambda x: x/60)\n",
    "final_df['DepartureDelay_n']=final_df['DepartureDelay_n'].apply(lambda x: x/60)"
   ]
  },
  {
   "cell_type": "code",
   "execution_count": 77,
   "metadata": {
    "execution": {
     "iopub.execute_input": "2021-01-10T18:19:58.238440Z",
     "iopub.status.busy": "2021-01-10T18:19:58.237751Z",
     "iopub.status.idle": "2021-01-10T18:19:58.241065Z",
     "shell.execute_reply": "2021-01-10T18:19:58.240540Z"
    },
    "papermill": {
     "duration": 0.156794,
     "end_time": "2021-01-10T18:19:58.241179",
     "exception": false,
     "start_time": "2021-01-10T18:19:58.084385",
     "status": "completed"
    },
    "tags": []
   },
   "outputs": [],
   "source": [
    "final_baseline_df = final_df"
   ]
  },
  {
   "cell_type": "code",
   "execution_count": 78,
   "metadata": {
    "execution": {
     "iopub.execute_input": "2021-01-10T18:19:58.549498Z",
     "iopub.status.busy": "2021-01-10T18:19:58.548730Z",
     "iopub.status.idle": "2021-01-10T18:19:58.550726Z",
     "shell.execute_reply": "2021-01-10T18:19:58.551286Z"
    },
    "papermill": {
     "duration": 0.157347,
     "end_time": "2021-01-10T18:19:58.551423",
     "exception": false,
     "start_time": "2021-01-10T18:19:58.394076",
     "status": "completed"
    },
    "tags": []
   },
   "outputs": [],
   "source": [
    "# final_baseline_df"
   ]
  },
  {
   "cell_type": "code",
   "execution_count": 79,
   "metadata": {
    "execution": {
     "iopub.execute_input": "2021-01-10T18:19:58.859755Z",
     "iopub.status.busy": "2021-01-10T18:19:58.859104Z",
     "iopub.status.idle": "2021-01-10T18:19:59.071428Z",
     "shell.execute_reply": "2021-01-10T18:19:59.071920Z"
    },
    "papermill": {
     "duration": 0.3694,
     "end_time": "2021-01-10T18:19:59.072104",
     "exception": false,
     "start_time": "2021-01-10T18:19:58.702704",
     "status": "completed"
    },
    "tags": []
   },
   "outputs": [],
   "source": [
    "final_baseline_df.to_csv(\"AnubhavKesari_solutions.csv\",index=False)"
   ]
  },
  {
   "cell_type": "code",
   "execution_count": null,
   "metadata": {
    "papermill": {
     "duration": 0.149861,
     "end_time": "2021-01-10T18:19:59.373497",
     "exception": false,
     "start_time": "2021-01-10T18:19:59.223636",
     "status": "completed"
    },
    "tags": []
   },
   "outputs": [],
   "source": []
  }
 ],
 "metadata": {
  "kernelspec": {
   "display_name": "Python 3",
   "language": "python",
   "name": "python3"
  },
  "language_info": {
   "codemirror_mode": {
    "name": "ipython",
    "version": 3
   },
   "file_extension": ".py",
   "mimetype": "text/x-python",
   "name": "python",
   "nbconvert_exporter": "python",
   "pygments_lexer": "ipython3",
   "version": "3.7.6"
  },
  "papermill": {
   "duration": 158.043027,
   "end_time": "2021-01-10T18:19:59.632904",
   "environment_variables": {},
   "exception": null,
   "input_path": "__notebook__.ipynb",
   "output_path": "__notebook__.ipynb",
   "parameters": {},
   "start_time": "2021-01-10T18:17:21.589877",
   "version": "2.1.0"
  }
 },
 "nbformat": 4,
 "nbformat_minor": 4
}
